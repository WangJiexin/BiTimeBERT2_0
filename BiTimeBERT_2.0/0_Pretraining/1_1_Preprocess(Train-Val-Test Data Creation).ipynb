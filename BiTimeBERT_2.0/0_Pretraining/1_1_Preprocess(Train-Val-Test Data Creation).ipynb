{
 "cells": [
  {
   "cell_type": "markdown",
   "id": "4cb3638a",
   "metadata": {},
   "source": [
    "# Saving Training Data (Preprocess Using Command on Tokenize-Pretraining-Corpus)"
   ]
  },
  {
   "cell_type": "markdown",
   "id": "bdead221",
   "metadata": {
    "heading_collapsed": true
   },
   "source": [
    "## Corpus_Only_Content (TBD, maybe do not need))"
   ]
  },
  {
   "cell_type": "raw",
   "id": "d20fd71d",
   "metadata": {
    "hidden": true
   },
   "source": [
    "python preprocess.py \\\n",
    "--trainpref 0_Corpus/1_Pretraining_Preprocessing/1_Tokenize_Pretraining_Corpus/0_corpus_content-only/0_corpus_train.txt \\\n",
    "--validpref 0_Corpus/1_Pretraining_Preprocessing/1_Tokenize_Pretraining_Corpus/0_corpus_content-only/0_corpus_val.txt \\\n",
    "--testpref 0_Corpus/1_Pretraining_Preprocessing/1_Tokenize_Pretraining_Corpus/0_corpus_content-only/0_corpus_test.txt \\\n",
    "--destdir 0_Corpus/1_Pretraining_Preprocessing/2_Preprocessed_Data/0_corpus_content-only \\\n",
    "--only-source --srcdict dict.txt --padding-factor 1 --workers 12"
   ]
  },
  {
   "cell_type": "markdown",
   "id": "be779cb7",
   "metadata": {
    "heading_collapsed": true
   },
   "source": [
    "## Title&Content (TBD, maybe do not need)"
   ]
  },
  {
   "cell_type": "raw",
   "id": "906378d1",
   "metadata": {
    "hidden": true
   },
   "source": [
    "python preprocess.py \\\n",
    "--trainpref 0_Corpus/1_Pretraining_Preprocessing/1_Tokenize_Pretraining_Corpus/1_corpus_titlecontent/0_corpus_train.txt \\\n",
    "--validpref 0_Corpus/1_Pretraining_Preprocessing/1_Tokenize_Pretraining_Corpus/1_corpus_titlecontent/0_corpus_val.txt \\\n",
    "--testpref 0_Corpus/1_Pretraining_Preprocessing/1_Tokenize_Pretraining_Corpus/1_corpus_titlecontent/0_corpus_test.txt \\\n",
    "--destdir 0_Corpus/1_Pretraining_Preprocessing/2_Preprocessed_Data/1_corpus_titlecontent \\\n",
    "--only-source --srcdict dict.txt --padding-factor 1 --workers 12"
   ]
  },
  {
   "cell_type": "markdown",
   "id": "67d0ca82",
   "metadata": {},
   "source": [
    "## Title&Content&ID"
   ]
  },
  {
   "cell_type": "raw",
   "id": "02220d15",
   "metadata": {},
   "source": [
    "python preprocess.py \\\n",
    "--trainpref 0_Corpus/1_Pretraining_Preprocessing/1_Tokenize_Pretraining_Corpus/2_corpus_titlecontent_withdocid/0_corpus_train.txt \\\n",
    "--validpref 0_Corpus/1_Pretraining_Preprocessing/1_Tokenize_Pretraining_Corpus/2_corpus_titlecontent_withdocid/0_corpus_val.txt \\\n",
    "--testpref 0_Corpus/1_Pretraining_Preprocessing/1_Tokenize_Pretraining_Corpus/2_corpus_titlecontent_withdocid/0_corpus_test.txt \\\n",
    "--destdir 0_Corpus/1_Pretraining_Preprocessing/2_Preprocessed_Data/2_corpus_titlecontent_withdocid \\\n",
    "--only-source --srcdict dict.txt --padding-factor 1 --workers 12"
   ]
  },
  {
   "cell_type": "raw",
   "id": "7617020e",
   "metadata": {},
   "source": [
    "python preprocess.py --trainpref 0_Corpus/1_Pretraining_Preprocessing/Test/1_Tokenize_Pretraining_Corpus/corpus_titlecontent_withdocid/0_corpus_train.txt --validpref 0_Corpus/1_Pretraining_Preprocessing/Test/1_Tokenize_Pretraining_Corpus/corpus_titlecontent_withdocid/0_corpus_val.txt --testpref 0_Corpus/1_Pretraining_Preprocessing/Test/1_Tokenize_Pretraining_Corpus/corpus_titlecontent_withdocid/0_corpus_test.txt --destdir 0_Corpus/1_Pretraining_Preprocessing/Test/2_Preprocessed_Data/corpus_titlecontent_withdocid --only-source --srcdict dict.txt --padding-factor 1 --workers 12"
   ]
  }
 ],
 "metadata": {
  "kernelspec": {
   "display_name": "Python 3 (ipykernel)",
   "language": "python",
   "name": "python3"
  },
  "language_info": {
   "codemirror_mode": {
    "name": "ipython",
    "version": 3
   },
   "file_extension": ".py",
   "mimetype": "text/x-python",
   "name": "python",
   "nbconvert_exporter": "python",
   "pygments_lexer": "ipython3",
   "version": "3.8.18"
  },
  "toc": {
   "base_numbering": 1,
   "nav_menu": {},
   "number_sections": true,
   "sideBar": true,
   "skip_h1_title": false,
   "title_cell": "Table of Contents",
   "title_sidebar": "Contents",
   "toc_cell": false,
   "toc_position": {},
   "toc_section_display": true,
   "toc_window_display": false
  },
  "varInspector": {
   "cols": {
    "lenName": 16,
    "lenType": 16,
    "lenVar": 40
   },
   "kernels_config": {
    "python": {
     "delete_cmd_postfix": "",
     "delete_cmd_prefix": "del ",
     "library": "var_list.py",
     "varRefreshCmd": "print(var_dic_list())"
    },
    "r": {
     "delete_cmd_postfix": ") ",
     "delete_cmd_prefix": "rm(",
     "library": "var_list.r",
     "varRefreshCmd": "cat(var_dic_list()) "
    }
   },
   "types_to_exclude": [
    "module",
    "function",
    "builtin_function_or_method",
    "instance",
    "_Feature"
   ],
   "window_display": false
  }
 },
 "nbformat": 4,
 "nbformat_minor": 5
}
