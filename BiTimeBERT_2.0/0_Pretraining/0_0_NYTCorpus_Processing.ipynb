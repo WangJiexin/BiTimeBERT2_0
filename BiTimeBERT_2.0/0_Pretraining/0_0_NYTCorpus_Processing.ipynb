{
 "cells": [
  {
   "cell_type": "markdown",
   "id": "6a2a5f68",
   "metadata": {
    "heading_collapsed": true
   },
   "source": [
    "# Step1: NYT Corpus Processing\n",
    "\n",
    "**Data Size: 1652347**"
   ]
  },
  {
   "cell_type": "code",
   "execution_count": 1,
   "id": "45d4813e",
   "metadata": {
    "ExecuteTime": {
     "end_time": "2023-12-19T00:42:08.602943Z",
     "start_time": "2023-12-19T00:42:08.120637Z"
    },
    "hidden": true
   },
   "outputs": [
    {
     "ename": "FileNotFoundError",
     "evalue": "[WinError 3] Failed to open local file './0_Corpus/0_NYT_Data_Extraction/0_NYT_Data/0_NYT_total_data.feather'. Detail: [Windows error 3] 系统找不到指定的路径。\r\n",
     "output_type": "error",
     "traceback": [
      "\u001b[1;31m---------------------------------------------------------------------------\u001b[0m",
      "\u001b[1;31mFileNotFoundError\u001b[0m                         Traceback (most recent call last)",
      "Cell \u001b[1;32mIn[1], line 3\u001b[0m\n\u001b[0;32m      1\u001b[0m \u001b[38;5;28;01mimport\u001b[39;00m \u001b[38;5;21;01mre\u001b[39;00m\n\u001b[0;32m      2\u001b[0m \u001b[38;5;28;01mimport\u001b[39;00m \u001b[38;5;21;01mpyarrow\u001b[39;00m\u001b[38;5;21;01m.\u001b[39;00m\u001b[38;5;21;01mfeather\u001b[39;00m \u001b[38;5;28;01mas\u001b[39;00m \u001b[38;5;21;01mfeather\u001b[39;00m\n\u001b[1;32m----> 3\u001b[0m total_nyt_data \u001b[38;5;241m=\u001b[39m \u001b[43mfeather\u001b[49m\u001b[38;5;241;43m.\u001b[39;49m\u001b[43mread_feather\u001b[49m\u001b[43m(\u001b[49m\u001b[38;5;124;43m\"\u001b[39;49m\u001b[38;5;124;43m./0_Corpus/0_NYT_Data_Extraction/0_NYT_Data/0_NYT_total_data.feather\u001b[39;49m\u001b[38;5;124;43m\"\u001b[39;49m\u001b[43m)\u001b[49m\n\u001b[0;32m      5\u001b[0m \u001b[38;5;28mprint\u001b[39m(\u001b[38;5;124mf\u001b[39m\u001b[38;5;124m\"\u001b[39m\u001b[38;5;124mraw nyt_pd Size: \u001b[39m\u001b[38;5;132;01m{\u001b[39;00m\u001b[38;5;28mlen\u001b[39m(total_nyt_data)\u001b[38;5;132;01m}\u001b[39;00m\u001b[38;5;124m\"\u001b[39m)\n\u001b[0;32m      6\u001b[0m \u001b[38;5;28mprint\u001b[39m(total_nyt_data\u001b[38;5;241m.\u001b[39mhead(\u001b[38;5;241m1\u001b[39m)\u001b[38;5;241m.\u001b[39mvalues)\n",
      "File \u001b[1;32mD:\\Users\\admin\\anaconda3\\envs\\timebert\\lib\\site-packages\\pyarrow\\feather.py:226\u001b[0m, in \u001b[0;36mread_feather\u001b[1;34m(source, columns, use_threads, memory_map, **kwargs)\u001b[0m\n\u001b[0;32m    199\u001b[0m \u001b[38;5;28;01mdef\u001b[39;00m \u001b[38;5;21mread_feather\u001b[39m(source, columns\u001b[38;5;241m=\u001b[39m\u001b[38;5;28;01mNone\u001b[39;00m, use_threads\u001b[38;5;241m=\u001b[39m\u001b[38;5;28;01mTrue\u001b[39;00m,\n\u001b[0;32m    200\u001b[0m                  memory_map\u001b[38;5;241m=\u001b[39m\u001b[38;5;28;01mFalse\u001b[39;00m, \u001b[38;5;241m*\u001b[39m\u001b[38;5;241m*\u001b[39mkwargs):\n\u001b[0;32m    201\u001b[0m \u001b[38;5;250m    \u001b[39m\u001b[38;5;124;03m\"\"\"\u001b[39;00m\n\u001b[0;32m    202\u001b[0m \u001b[38;5;124;03m    Read a pandas.DataFrame from Feather format. To read as pyarrow.Table use\u001b[39;00m\n\u001b[0;32m    203\u001b[0m \u001b[38;5;124;03m    feather.read_table.\u001b[39;00m\n\u001b[1;32m   (...)\u001b[0m\n\u001b[0;32m    224\u001b[0m \u001b[38;5;124;03m        The contents of the Feather file as a pandas.DataFrame\u001b[39;00m\n\u001b[0;32m    225\u001b[0m \u001b[38;5;124;03m    \"\"\"\u001b[39;00m\n\u001b[1;32m--> 226\u001b[0m     \u001b[38;5;28;01mreturn\u001b[39;00m (\u001b[43mread_table\u001b[49m\u001b[43m(\u001b[49m\n\u001b[0;32m    227\u001b[0m \u001b[43m        \u001b[49m\u001b[43msource\u001b[49m\u001b[43m,\u001b[49m\u001b[43m \u001b[49m\u001b[43mcolumns\u001b[49m\u001b[38;5;241;43m=\u001b[39;49m\u001b[43mcolumns\u001b[49m\u001b[43m,\u001b[49m\u001b[43m \u001b[49m\u001b[43mmemory_map\u001b[49m\u001b[38;5;241;43m=\u001b[39;49m\u001b[43mmemory_map\u001b[49m\u001b[43m,\u001b[49m\n\u001b[0;32m    228\u001b[0m \u001b[43m        \u001b[49m\u001b[43muse_threads\u001b[49m\u001b[38;5;241;43m=\u001b[39;49m\u001b[43muse_threads\u001b[49m\u001b[43m)\u001b[49m\u001b[38;5;241m.\u001b[39mto_pandas(use_threads\u001b[38;5;241m=\u001b[39muse_threads, \u001b[38;5;241m*\u001b[39m\u001b[38;5;241m*\u001b[39mkwargs))\n",
      "File \u001b[1;32mD:\\Users\\admin\\anaconda3\\envs\\timebert\\lib\\site-packages\\pyarrow\\feather.py:252\u001b[0m, in \u001b[0;36mread_table\u001b[1;34m(source, columns, memory_map, use_threads)\u001b[0m\n\u001b[0;32m    231\u001b[0m \u001b[38;5;28;01mdef\u001b[39;00m \u001b[38;5;21mread_table\u001b[39m(source, columns\u001b[38;5;241m=\u001b[39m\u001b[38;5;28;01mNone\u001b[39;00m, memory_map\u001b[38;5;241m=\u001b[39m\u001b[38;5;28;01mFalse\u001b[39;00m, use_threads\u001b[38;5;241m=\u001b[39m\u001b[38;5;28;01mTrue\u001b[39;00m):\n\u001b[0;32m    232\u001b[0m \u001b[38;5;250m    \u001b[39m\u001b[38;5;124;03m\"\"\"\u001b[39;00m\n\u001b[0;32m    233\u001b[0m \u001b[38;5;124;03m    Read a pyarrow.Table from Feather format\u001b[39;00m\n\u001b[0;32m    234\u001b[0m \n\u001b[1;32m   (...)\u001b[0m\n\u001b[0;32m    250\u001b[0m \u001b[38;5;124;03m        The contents of the Feather file as a pyarrow.Table\u001b[39;00m\n\u001b[0;32m    251\u001b[0m \u001b[38;5;124;03m    \"\"\"\u001b[39;00m\n\u001b[1;32m--> 252\u001b[0m     reader \u001b[38;5;241m=\u001b[39m \u001b[43m_feather\u001b[49m\u001b[38;5;241;43m.\u001b[39;49m\u001b[43mFeatherReader\u001b[49m\u001b[43m(\u001b[49m\n\u001b[0;32m    253\u001b[0m \u001b[43m        \u001b[49m\u001b[43msource\u001b[49m\u001b[43m,\u001b[49m\u001b[43m \u001b[49m\u001b[43muse_memory_map\u001b[49m\u001b[38;5;241;43m=\u001b[39;49m\u001b[43mmemory_map\u001b[49m\u001b[43m,\u001b[49m\u001b[43m \u001b[49m\u001b[43muse_threads\u001b[49m\u001b[38;5;241;43m=\u001b[39;49m\u001b[43muse_threads\u001b[49m\u001b[43m)\u001b[49m\n\u001b[0;32m    255\u001b[0m     \u001b[38;5;28;01mif\u001b[39;00m columns \u001b[38;5;129;01mis\u001b[39;00m \u001b[38;5;28;01mNone\u001b[39;00m:\n\u001b[0;32m    256\u001b[0m         \u001b[38;5;28;01mreturn\u001b[39;00m reader\u001b[38;5;241m.\u001b[39mread()\n",
      "File \u001b[1;32mD:\\Users\\admin\\anaconda3\\envs\\timebert\\lib\\site-packages\\pyarrow\\_feather.pyx:77\u001b[0m, in \u001b[0;36mpyarrow._feather.FeatherReader.__cinit__\u001b[1;34m()\u001b[0m\n",
      "File \u001b[1;32mD:\\Users\\admin\\anaconda3\\envs\\timebert\\lib\\site-packages\\pyarrow\\io.pxi:1761\u001b[0m, in \u001b[0;36mpyarrow.lib.get_reader\u001b[1;34m()\u001b[0m\n",
      "File \u001b[1;32mD:\\Users\\admin\\anaconda3\\envs\\timebert\\lib\\site-packages\\pyarrow\\io.pxi:1752\u001b[0m, in \u001b[0;36mpyarrow.lib.get_native_file\u001b[1;34m()\u001b[0m\n",
      "File \u001b[1;32mD:\\Users\\admin\\anaconda3\\envs\\timebert\\lib\\site-packages\\pyarrow\\io.pxi:995\u001b[0m, in \u001b[0;36mpyarrow.lib.OSFile.__cinit__\u001b[1;34m()\u001b[0m\n",
      "File \u001b[1;32mD:\\Users\\admin\\anaconda3\\envs\\timebert\\lib\\site-packages\\pyarrow\\io.pxi:1005\u001b[0m, in \u001b[0;36mpyarrow.lib.OSFile._open_readable\u001b[1;34m()\u001b[0m\n",
      "File \u001b[1;32mD:\\Users\\admin\\anaconda3\\envs\\timebert\\lib\\site-packages\\pyarrow\\error.pxi:144\u001b[0m, in \u001b[0;36mpyarrow.lib.pyarrow_internal_check_status\u001b[1;34m()\u001b[0m\n",
      "File \u001b[1;32mD:\\Users\\admin\\anaconda3\\envs\\timebert\\lib\\site-packages\\pyarrow\\error.pxi:111\u001b[0m, in \u001b[0;36mpyarrow.lib.check_status\u001b[1;34m()\u001b[0m\n",
      "\u001b[1;31mFileNotFoundError\u001b[0m: [WinError 3] Failed to open local file './0_Corpus/0_NYT_Data_Extraction/0_NYT_Data/0_NYT_total_data.feather'. Detail: [Windows error 3] 系统找不到指定的路径。\r\n"
     ]
    }
   ],
   "source": [
    "import re\n",
    "import pyarrow.feather as feather\n",
    "total_nyt_data = feather.read_feather(\"./0_Corpus/0_NYT_Data_Extraction/0_NYT_Data/0_NYT_total_data.feather\")\n",
    "\n",
    "print(f\"raw nyt_pd Size: {len(total_nyt_data)}\")\n",
    "print(total_nyt_data.head(1).values)"
   ]
  },
  {
   "cell_type": "code",
   "execution_count": 2,
   "id": "8b5c4503",
   "metadata": {
    "code_folding": [],
    "hidden": true
   },
   "outputs": [],
   "source": [
    "def filtering_NYT_data(raw_nyt_pd):\n",
    "    #1.Remove None body_text Records\n",
    "    before_filtering_step_data_num = len(raw_nyt_pd)\n",
    "    raw_nyt_pd = raw_nyt_pd[raw_nyt_pd.body_text != \"No_Text\"]\n",
    "    remove_doc_num = before_filtering_step_data_num-len(raw_nyt_pd)\n",
    "    \n",
    "    companyrep_paraid = []\n",
    "    bad_short_paraid = []\n",
    "    duplicate_doc_num = 0\n",
    "    for index, row in raw_nyt_pd.iterrows():\n",
    "        file_id = row['file_id']\n",
    "        pub = row['pub']\n",
    "        title = row['title']\n",
    "        body_text = row['body_text'].strip()\n",
    "        \n",
    "        body_text=re.sub(r\"^LEAD:\",\"\",body_text).strip()\n",
    "        \n",
    "        #2.Remove COMPANY REPORTS Records\n",
    "        if \"*** COMPANY REPORTS **\" in body_text:\n",
    "            companyrep_paraid.append(file_id)\n",
    "            continue\n",
    "        \n",
    "        #3.Remove bad short paragraph Records\n",
    "        token_num = body_text.count(\" \")+1\n",
    "        para_num = body_text.count(\"\\n\")+1\n",
    "        if token_num/para_num<=15:\n",
    "            bad_short_paraid.append(file_id)\n",
    "            continue\n",
    "        \n",
    "        paragraph_list=body_text.split(\"\\n\")\n",
    "        #4.Modified duplicate leading paragraph Records\n",
    "        if len(paragraph_list)>1:\n",
    "            lead_para=paragraph_list[0]\n",
    "            second_para=paragraph_list[1]\n",
    "            if second_para in lead_para or lead_para in second_para:\n",
    "                body_text=\"\\n\".join(paragraph_list[1:])\n",
    "                duplicate_doc_num+=1\n",
    "        raw_nyt_pd.at[index,'body_text'] = body_text\n",
    "    \n",
    "    companyrep_paraid = set(companyrep_paraid)\n",
    "    bad_short_paraid = set(bad_short_paraid)\n",
    "    print(f\"1.Removed {remove_doc_num} records that do not have body_text.\")\n",
    "    print(f\"2.Remove {len(companyrep_paraid)} records that have COMPANY REPORTS.\")\n",
    "    print(f\"3.Remove {len(bad_short_paraid)} records that are short paragraphs.\")\n",
    "    print(f\"4.Modified {duplicate_doc_num} records that have duplicate leading paragraph.\")\n",
    "    \n",
    "    remove_id_list = list(set.union(companyrep_paraid, bad_short_paraid))\n",
    "    raw_nyt_pd = raw_nyt_pd[~raw_nyt_pd['file_id'].isin(remove_id_list)]\n",
    "    \n",
    "    before_filtering_data_num = len(raw_nyt_pd)\n",
    "    raw_nyt_pd=raw_nyt_pd[~raw_nyt_pd.duplicated(['body_text'],keep='last')]\n",
    "    remove_doc_num = before_filtering_data_num-len(raw_nyt_pd)\n",
    "    print(f\"5.removed {remove_doc_num} records that have duplicate body_text (keep only the last).\")\n",
    "    \n",
    "    filtered_nyt_pd = raw_nyt_pd.reset_index(drop=True)\n",
    "    return filtered_nyt_pd"
   ]
  },
  {
   "cell_type": "code",
   "execution_count": 3,
   "id": "4702a6de",
   "metadata": {
    "hidden": true
   },
   "outputs": [
    {
     "name": "stdout",
     "output_type": "stream",
     "text": [
      "1.Removed 24549 records that do not have body_text.\n",
      "2.Remove 103251 records that have COMPANY REPORTS.\n",
      "3.Remove 47582 records that are short paragraphs.\n",
      "4.Modified 316145 records that have duplicate leading paragraph.\n",
      "5.removed 27929 records that have duplicate body_text (keep only the last).\n",
      "1652347\n"
     ]
    }
   ],
   "source": [
    "filtered_nyt_pd = filtering_NYT_data(total_nyt_data)\n",
    "print(len(filtered_nyt_pd))"
   ]
  },
  {
   "cell_type": "markdown",
   "id": "14d782bf",
   "metadata": {},
   "source": [
    "# Step2: Shuffle & Save Split Files\n",
    "\n",
    "**\"./0_Corpus/0_NYT_Data_Extraction/1_NYT_FilteredData_Files/{i}_NYT_filtered_data.feather\"**"
   ]
  },
  {
   "cell_type": "code",
   "execution_count": 4,
   "id": "7f55590f",
   "metadata": {},
   "outputs": [],
   "source": [
    "filtered_nyt_pd = filtered_nyt_pd.sample(frac=1).reset_index(drop=True)\n",
    "split_num = len(filtered_nyt_pd)//10\n",
    "for i in range(10):\n",
    "    if i==9:\n",
    "        sampled_nyt_pd = filtered_nyt_pd.iloc[i*split_num:].reset_index(drop=True)\n",
    "    else:\n",
    "        sampled_d_feather(nyt_file)\n",
    "    s = nyt_data.title.str.len().sort_values().index\n",
    "    sort_nyt_data = nyt_data.reindex(s)nyt_pd = filtered_nyt_pd.iloc[i*split_num:(i+1)*split_num].reset_index(drop=True)\n",
    "    sampled_nyt_pd.to_feather(f\"./0_Corpus/0_NYT_Data_Extraction/1_NYT_FilteredData_Files/{i}_NYT_filtered_data.feather\")"
   ]
  },
  {
   "cell_type": "markdown",
   "id": "aa77743d",
   "metadata": {},
   "source": [
    "## Check"
   ]
  },
  {
   "cell_type": "code",
   "execution_count": 1,
   "id": "9ae58e0b",
   "metadata": {
    "ExecuteTime": {
     "end_time": "2023-12-19T00:44:08.092174Z",
     "start_time": "2023-12-19T00:43:35.104005Z"
    }
   },
   "outputs": [
    {
     "ename": "FileNotFoundError",
     "evalue": "[Errno 2] Failed to open local file './0_Corpus/0_NYT_Data_Extraction/1_NYT_FilteredData_Files/0_NYT_filtered_data.feather'. Detail: [errno 2] No such file or directory",
     "output_type": "error",
     "traceback": [
      "\u001b[0;31m---------------------------------------------------------------------------\u001b[0m",
      "\u001b[0;31mFileNotFoundError\u001b[0m                         Traceback (most recent call last)",
      "Cell \u001b[0;32mIn [1], line 5\u001b[0m\n\u001b[1;32m      3\u001b[0m \u001b[38;5;28;01mfor\u001b[39;00m i \u001b[38;5;129;01min\u001b[39;00m \u001b[38;5;28mrange\u001b[39m(\u001b[38;5;241m10\u001b[39m):\n\u001b[1;32m      4\u001b[0m     nyt_file \u001b[38;5;241m=\u001b[39m \u001b[38;5;124mf\u001b[39m\u001b[38;5;124m\"\u001b[39m\u001b[38;5;124m./0_Corpus/0_NYT_Data_Extraction/1_NYT_FilteredData_Files/\u001b[39m\u001b[38;5;132;01m{\u001b[39;00mi\u001b[38;5;132;01m}\u001b[39;00m\u001b[38;5;124m_NYT_filtered_data.feather\u001b[39m\u001b[38;5;124m\"\u001b[39m\n\u001b[0;32m----> 5\u001b[0m     nyt_data \u001b[38;5;241m=\u001b[39m \u001b[43mfeather\u001b[49m\u001b[38;5;241;43m.\u001b[39;49m\u001b[43mread_feather\u001b[49m\u001b[43m(\u001b[49m\u001b[43mnyt_file\u001b[49m\u001b[43m)\u001b[49m\n\u001b[1;32m      6\u001b[0m     fileid_list\u001b[38;5;241m.\u001b[39mextend(nyt_data[\u001b[38;5;124m\"\u001b[39m\u001b[38;5;124mfile_id\u001b[39m\u001b[38;5;124m\"\u001b[39m]\u001b[38;5;241m.\u001b[39mtolist())\n\u001b[1;32m      7\u001b[0m \u001b[38;5;28mprint\u001b[39m(\u001b[38;5;28mlen\u001b[39m(\u001b[38;5;28mset\u001b[39m(fileid_list)))\n",
      "File \u001b[0;32m~/Library/Python/3.9/lib/python/site-packages/pyarrow/feather.py:231\u001b[0m, in \u001b[0;36mread_feather\u001b[0;34m(source, columns, use_threads, memory_map)\u001b[0m\n\u001b[1;32m    208\u001b[0m \u001b[38;5;124;03m\"\"\"\u001b[39;00m\n\u001b[1;32m    209\u001b[0m \u001b[38;5;124;03mRead a pandas.DataFrame from Feather format. To read as pyarrow.Table use\u001b[39;00m\n\u001b[1;32m    210\u001b[0m \u001b[38;5;124;03mfeather.read_table.\u001b[39;00m\n\u001b[0;32m   (...)\u001b[0m\n\u001b[1;32m    228\u001b[0m \u001b[38;5;124;03mdf : pandas.DataFrame\u001b[39;00m\n\u001b[1;32m    229\u001b[0m \u001b[38;5;124;03m\"\"\"\u001b[39;00m\n\u001b[1;32m    230\u001b[0m _check_pandas_version()\n\u001b[0;32m--> 231\u001b[0m \u001b[38;5;28;01mreturn\u001b[39;00m (\u001b[43mread_table\u001b[49m\u001b[43m(\u001b[49m\n\u001b[1;32m    232\u001b[0m \u001b[43m    \u001b[49m\u001b[43msource\u001b[49m\u001b[43m,\u001b[49m\u001b[43m \u001b[49m\u001b[43mcolumns\u001b[49m\u001b[38;5;241;43m=\u001b[39;49m\u001b[43mcolumns\u001b[49m\u001b[43m,\u001b[49m\u001b[43m \u001b[49m\u001b[43mmemory_map\u001b[49m\u001b[38;5;241;43m=\u001b[39;49m\u001b[43mmemory_map\u001b[49m\u001b[43m,\u001b[49m\n\u001b[1;32m    233\u001b[0m \u001b[43m    \u001b[49m\u001b[43muse_threads\u001b[49m\u001b[38;5;241;43m=\u001b[39;49m\u001b[43muse_threads\u001b[49m\u001b[43m)\u001b[49m\u001b[38;5;241m.\u001b[39mto_pandas(use_threads\u001b[38;5;241m=\u001b[39muse_threads))\n",
      "File \u001b[0;32m~/Library/Python/3.9/lib/python/site-packages/pyarrow/feather.py:256\u001b[0m, in \u001b[0;36mread_table\u001b[0;34m(source, columns, memory_map, use_threads)\u001b[0m\n\u001b[1;32m    236\u001b[0m \u001b[38;5;28;01mdef\u001b[39;00m \u001b[38;5;21mread_table\u001b[39m(source, columns\u001b[38;5;241m=\u001b[39m\u001b[38;5;28;01mNone\u001b[39;00m, memory_map\u001b[38;5;241m=\u001b[39m\u001b[38;5;28;01mFalse\u001b[39;00m, use_threads\u001b[38;5;241m=\u001b[39m\u001b[38;5;28;01mTrue\u001b[39;00m):\n\u001b[1;32m    237\u001b[0m     \u001b[38;5;124;03m\"\"\"\u001b[39;00m\n\u001b[1;32m    238\u001b[0m \u001b[38;5;124;03m    Read a pyarrow.Table from Feather format\u001b[39;00m\n\u001b[1;32m    239\u001b[0m \n\u001b[0;32m   (...)\u001b[0m\n\u001b[1;32m    254\u001b[0m \u001b[38;5;124;03m    table : pyarrow.Table\u001b[39;00m\n\u001b[1;32m    255\u001b[0m \u001b[38;5;124;03m    \"\"\"\u001b[39;00m\n\u001b[0;32m--> 256\u001b[0m     reader \u001b[38;5;241m=\u001b[39m \u001b[43m_feather\u001b[49m\u001b[38;5;241;43m.\u001b[39;49m\u001b[43mFeatherReader\u001b[49m\u001b[43m(\u001b[49m\n\u001b[1;32m    257\u001b[0m \u001b[43m        \u001b[49m\u001b[43msource\u001b[49m\u001b[43m,\u001b[49m\u001b[43m \u001b[49m\u001b[43muse_memory_map\u001b[49m\u001b[38;5;241;43m=\u001b[39;49m\u001b[43mmemory_map\u001b[49m\u001b[43m,\u001b[49m\u001b[43m \u001b[49m\u001b[43muse_threads\u001b[49m\u001b[38;5;241;43m=\u001b[39;49m\u001b[43muse_threads\u001b[49m\u001b[43m)\u001b[49m\n\u001b[1;32m    259\u001b[0m     \u001b[38;5;28;01mif\u001b[39;00m columns \u001b[38;5;129;01mis\u001b[39;00m \u001b[38;5;28;01mNone\u001b[39;00m:\n\u001b[1;32m    260\u001b[0m         \u001b[38;5;28;01mreturn\u001b[39;00m reader\u001b[38;5;241m.\u001b[39mread()\n",
      "File \u001b[0;32m~/Library/Python/3.9/lib/python/site-packages/pyarrow/_feather.pyx:77\u001b[0m, in \u001b[0;36mpyarrow._feather.FeatherReader.__cinit__\u001b[0;34m()\u001b[0m\n",
      "File \u001b[0;32m~/Library/Python/3.9/lib/python/site-packages/pyarrow/io.pxi:1761\u001b[0m, in \u001b[0;36mpyarrow.lib.get_reader\u001b[0;34m()\u001b[0m\n",
      "File \u001b[0;32m~/Library/Python/3.9/lib/python/site-packages/pyarrow/io.pxi:1752\u001b[0m, in \u001b[0;36mpyarrow.lib.get_native_file\u001b[0;34m()\u001b[0m\n",
      "File \u001b[0;32m~/Library/Python/3.9/lib/python/site-packages/pyarrow/io.pxi:995\u001b[0m, in \u001b[0;36mpyarrow.lib.OSFile.__cinit__\u001b[0;34m()\u001b[0m\n",
      "File \u001b[0;32m~/Library/Python/3.9/lib/python/site-packages/pyarrow/io.pxi:1005\u001b[0m, in \u001b[0;36mpyarrow.lib.OSFile._open_readable\u001b[0;34m()\u001b[0m\n",
      "File \u001b[0;32m~/Library/Python/3.9/lib/python/site-packages/pyarrow/error.pxi:144\u001b[0m, in \u001b[0;36mpyarrow.lib.pyarrow_internal_check_status\u001b[0;34m()\u001b[0m\n",
      "File \u001b[0;32m~/Library/Python/3.9/lib/python/site-packages/pyarrow/error.pxi:113\u001b[0m, in \u001b[0;36mpyarrow.lib.check_status\u001b[0;34m()\u001b[0m\n",
      "\u001b[0;31mFileNotFoundError\u001b[0m: [Errno 2] Failed to open local file './0_Corpus/0_NYT_Data_Extraction/1_NYT_FilteredData_Files/0_NYT_filtered_data.feather'. Detail: [errno 2] No such file or directory"
     ]
    }
   ],
   "source": [
    "import pyarrow.feather as feather\n",
    "fileid_list = []\n",
    "for i in range(10):\n",
    "    nyt_file = f\"./0_Corpus/0_NYT_Data_Extraction/1_NYT_FilteredData_Files/{i}_NYT_filtered_data.feather\"\n",
    "    nyt_data = feather.read_feather(nyt_file)\n",
    "    fileid_list.extend(nyt_data[\"file_id\"].tolist())\n",
    "print(len(set(fileid_list)))"
   ]
  },
  {
   "cell_type": "code",
   "execution_count": 3,
   "id": "93cb1391",
   "metadata": {
    "ExecuteTime": {
     "end_time": "2023-12-19T00:44:13.877527Z",
     "start_time": "2023-12-19T00:44:13.856594Z"
    },
    "scrolled": true
   },
   "outputs": [
    {
     "data": {
      "text/html": [
       "<div>\n",
       "<style scoped>\n",
       "    .dataframe tbody tr th:only-of-type {\n",
       "        vertical-align: middle;\n",
       "    }\n",
       "\n",
       "    .dataframe tbody tr th {\n",
       "        vertical-align: top;\n",
       "    }\n",
       "\n",
       "    .dataframe thead th {\n",
       "        text-align: right;\n",
       "    }\n",
       "</style>\n",
       "<table border=\"1\" class=\"dataframe\">\n",
       "  <thead>\n",
       "    <tr style=\"text-align: right;\">\n",
       "      <th></th>\n",
       "      <th>file_id</th>\n",
       "      <th>pub</th>\n",
       "      <th>title</th>\n",
       "      <th>body_text</th>\n",
       "    </tr>\n",
       "  </thead>\n",
       "  <tbody>\n",
       "    <tr>\n",
       "      <th>0</th>\n",
       "      <td>1144727</td>\n",
       "      <td>19991012</td>\n",
       "      <td>Fugitive Is Arrested Near Rome</td>\n",
       "      <td>Giancarlo Parretti, a flamboyant former Hollyw...</td>\n",
       "    </tr>\n",
       "    <tr>\n",
       "      <th>1</th>\n",
       "      <td>0137146</td>\n",
       "      <td>19880418</td>\n",
       "      <td>Dukakis's Record: A Success Story</td>\n",
       "      <td>Assessing the qualification of individuals to ...</td>\n",
       "    </tr>\n",
       "    <tr>\n",
       "      <th>2</th>\n",
       "      <td>0823851</td>\n",
       "      <td>19960119</td>\n",
       "      <td>Woe to Those Displaced by China Dam Project</td>\n",
       "      <td>To the Editor:\\nRe \"Cracks Show Early in China...</td>\n",
       "    </tr>\n",
       "    <tr>\n",
       "      <th>3</th>\n",
       "      <td>0201339</td>\n",
       "      <td>19881125</td>\n",
       "      <td>Fugitive Greek Banker Is Arrested by the F.B.I.</td>\n",
       "      <td>A fugitive Greek banker, indicted in a $300 mi...</td>\n",
       "    </tr>\n",
       "    <tr>\n",
       "      <th>4</th>\n",
       "      <td>0404828</td>\n",
       "      <td>19901129</td>\n",
       "      <td>In Boston, A Slaying Reawakens Gang Fears</td>\n",
       "      <td>They called themselves the Pistons, hoping a n...</td>\n",
       "    </tr>\n",
       "  </tbody>\n",
       "</table>\n",
       "</div>"
      ],
      "text/plain": [
       "   file_id       pub                                            title  \\\n",
       "0  1144727  19991012                   Fugitive Is Arrested Near Rome   \n",
       "1  0137146  19880418                Dukakis's Record: A Success Story   \n",
       "2  0823851  19960119      Woe to Those Displaced by China Dam Project   \n",
       "3  0201339  19881125  Fugitive Greek Banker Is Arrested by the F.B.I.   \n",
       "4  0404828  19901129        In Boston, A Slaying Reawakens Gang Fears   \n",
       "\n",
       "                                           body_text  \n",
       "0  Giancarlo Parretti, a flamboyant former Hollyw...  \n",
       "1  Assessing the qualification of individuals to ...  \n",
       "2  To the Editor:\\nRe \"Cracks Show Early in China...  \n",
       "3  A fugitive Greek banker, indicted in a $300 mi...  \n",
       "4  They called themselves the Pistons, hoping a n...  "
      ]
     },
     "execution_count": 3,
     "metadata": {},
     "output_type": "execute_result"
    }
   ],
   "source": [
    "nyt_data.head(5)"
   ]
  },
  {
   "cell_type": "markdown",
   "id": "76251ac8",
   "metadata": {
    "heading_collapsed": true
   },
   "source": [
    "# Step3: Save docid2timestamp dict\n",
    "\n",
    "**\"./0_Corpus/0_NYT_Data_Extraction/1_NYT_FilteredData_Files/0_docid2timestamp.pkl\"**"
   ]
  },
  {
   "cell_type": "code",
   "execution_count": 1,
   "id": "d98aceb4",
   "metadata": {
    "hidden": true
   },
   "outputs": [],
   "source": [
    "import pickle\n",
    "import pyarrow.feather as feather"
   ]
  },
  {
   "cell_type": "code",
   "execution_count": null,
   "id": "ba0d8b61",
   "metadata": {
    "hidden": true
   },
   "outputs": [],
   "source": [
    "docid2timestamp = dict()\n",
    "for i in range(10):\n",
    "    nyt_file = f\"./0_Corpus/0_NYT_Data_Extraction/1_NYT_FilteredData_Files/{i}_NYT_filtered_data.feather\"\n",
    "    nyt_data = feather.read_feather(nyt_file)\n",
    "    nyt_dict = nyt_data.set_index('file_id').to_dict()['pub']\n",
    "    docid2timestamp.update(nyt_dict)\n",
    "print(len(docid2timestamp))"
   ]
  },
  {
   "cell_type": "code",
   "execution_count": 3,
   "id": "08d5f612",
   "metadata": {
    "hidden": true
   },
   "outputs": [],
   "source": [
    "with open(\"./0_Corpus/0_NYT_Data_Extraction/1_NYT_FilteredData_Files/0_docid2timestamp.pickle\", 'wb') as f:\n",
    "    pickle.dump(docid2timestamp, f)"
   ]
  },
  {
   "cell_type": "code",
   "execution_count": 8,
   "id": "b201ff91",
   "metadata": {
    "ExecuteTime": {
     "end_time": "2023-12-19T01:38:16.080892Z",
     "start_time": "2023-12-19T01:38:15.530978Z"
    },
    "hidden": true
   },
   "outputs": [
    {
     "name": "stdout",
     "output_type": "stream",
     "text": [
      "1652347\n",
      "19901129\n"
     ]
    }
   ],
   "source": [
    "import pickle\n",
    "docid2timestamp = pickle.load(open(\"./0_Corpus/0_NYT_Data_Extraction/1_NYT_FilteredData_Files/0_docid2timestamp.pickle\", \"rb\" ))\n",
    "print(len(docid2timestamp))\n",
    "print(docid2timestamp[\"0404828\"])"
   ]
  },
  {
   "cell_type": "code",
   "execution_count": null,
   "id": "2ee345f8",
   "metadata": {
    "hidden": true
   },
   "outputs": [],
   "source": []
  }
 ],
 "metadata": {
  "hide_input": false,
  "kernelspec": {
   "display_name": "Python 3 (ipykernel)",
   "language": "python",
   "name": "python3"
  },
  "language_info": {
   "codemirror_mode": {
    "name": "ipython",
    "version": 3
   },
   "file_extension": ".py",
   "mimetype": "text/x-python",
   "name": "python",
   "nbconvert_exporter": "python",
   "pygments_lexer": "ipython3",
   "version": "3.9.6"
  },
  "toc": {
   "base_numbering": 1,
   "nav_menu": {},
   "number_sections": true,
   "sideBar": true,
   "skip_h1_title": false,
   "title_cell": "Table of Contents",
   "title_sidebar": "Contents",
   "toc_cell": false,
   "toc_position": {},
   "toc_section_display": true,
   "toc_window_display": false
  },
  "varInspector": {
   "cols": {
    "lenName": 16,
    "lenType": 16,
    "lenVar": 40
   },
   "kernels_config": {
    "python": {
     "delete_cmd_postfix": "",
     "delete_cmd_prefix": "del ",
     "library": "var_list.py",
     "varRefreshCmd": "print(var_dic_list())"
    },
    "r": {
     "delete_cmd_postfix": ") ",
     "delete_cmd_prefix": "rm(",
     "library": "var_list.r",
     "varRefreshCmd": "cat(var_dic_list()) "
    }
   },
   "types_to_exclude": [
    "module",
    "function",
    "builtin_function_or_method",
    "instance",
    "_Feature"
   ],
   "window_display": false
  }
 },
 "nbformat": 4,
 "nbformat_minor": 5
}
