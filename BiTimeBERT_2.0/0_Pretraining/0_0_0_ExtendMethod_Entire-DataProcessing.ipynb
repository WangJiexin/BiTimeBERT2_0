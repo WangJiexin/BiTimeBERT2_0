{
 "cells": [
  {
   "cell_type": "code",
   "execution_count": 1,
   "id": "dfd0df9f",
   "metadata": {},
   "outputs": [],
   "source": [
    "import re\n",
    "import pickle\n",
    "import pandas as pd\n",
    "import pyarrow.feather as feather"
   ]
  },
  {
   "cell_type": "code",
   "execution_count": 13,
   "id": "cdfce739",
   "metadata": {},
   "outputs": [
    {
     "ename": "RuntimeError",
     "evalue": "No active exception to reraise",
     "output_type": "error",
     "traceback": [
      "\u001b[0;31m---------------------------------------------------------------------------\u001b[0m",
      "\u001b[0;31mRuntimeError\u001b[0m                              Traceback (most recent call last)",
      "Cell \u001b[0;32mIn [13], line 6\u001b[0m\n\u001b[1;32m      4\u001b[0m entinforANDsentidx_file \u001b[38;5;241m=\u001b[39m \u001b[38;5;124mf\u001b[39m\u001b[38;5;124m\"\u001b[39m\u001b[38;5;124m0_Corpus/0_Corpus/0_NYT_Data_Extraction/2_EntInfor_AND_SentIdxInfor_Files/\u001b[39m\u001b[38;5;132;01m{\u001b[39;00mi\u001b[38;5;132;01m}\u001b[39;00m\u001b[38;5;124m_final_filtered_entinforANDsentidx.feather\u001b[39m\u001b[38;5;124m\"\u001b[39m\n\u001b[1;32m      5\u001b[0m entinforANDsentidx_data \u001b[38;5;241m=\u001b[39m feather\u001b[38;5;241m.\u001b[39mread_feather(entinforANDsentidx_file)\n\u001b[0;32m----> 6\u001b[0m \u001b[38;5;28;01mraise\u001b[39;00m\n\u001b[1;32m      7\u001b[0m entinforANDsentidx_data \u001b[38;5;241m=\u001b[39m entinforANDsentidx_data\u001b[38;5;241m.\u001b[39mrename(columns\u001b[38;5;241m=\u001b[39m{\u001b[38;5;124m\"\u001b[39m\u001b[38;5;124mID\u001b[39m\u001b[38;5;124m\"\u001b[39m:\u001b[38;5;124m\"\u001b[39m\u001b[38;5;124mfile_id\u001b[39m\u001b[38;5;124m\"\u001b[39m})\n\u001b[1;32m      8\u001b[0m title_entinforANDsentidx_file \u001b[38;5;241m=\u001b[39m \u001b[38;5;124mf\u001b[39m\u001b[38;5;124m\"\u001b[39m\u001b[38;5;124m0_Corpus/0_Corpus/0_NYT_Data_Extraction/3_EntInfor_AND_SentIdxInfor-Titles_Files/\u001b[39m\u001b[38;5;132;01m{\u001b[39;00mi\u001b[38;5;132;01m}\u001b[39;00m\u001b[38;5;124m_final_filtered_entinforANDsentidx-title.feather\u001b[39m\u001b[38;5;124m\"\u001b[39m\n",
      "\u001b[0;31mRuntimeError\u001b[0m: No active exception to reraise"
     ]
    }
   ],
   "source": [
    "for i in range(10):\n",
    "    nyt_file = f\"./0_Corpus/0_Corpus/0_NYT_Data_Extraction/1_NYT_FilteredData_Files/{i}_NYT_filtered_data.feather\"\n",
    "    nyt_data = feather.read_feather(nyt_file)\n",
    "    entinforANDsentidx_file = f\"0_Corpus/0_Corpus/0_NYT_Data_Extraction/2_EntInfor_AND_SentIdxInfor_Files/{i}_final_filtered_entinforANDsentidx.feather\"\n",
    "    entinforANDsentidx_data = feather.read_feather(entinforANDsentidx_file)\n",
    "    raise\n",
    "    entinforANDsentidx_data = entinforANDsentidx_data.rename(columns={\"ID\":\"file_id\"})\n",
    "    title_entinforANDsentidx_file = f\"0_Corpus/0_Corpus/0_NYT_Data_Extraction/3_EntInfor_AND_SentIdxInfor-Titles_Files/{i}_final_filtered_entinforANDsentidx-title.feather\"\n",
    "    title_entinforANDsentidx_data = feather.read_feather(title_entinforANDsentidx_file)\n",
    "    title_entinforANDsentidx_data = title_entinforANDsentidx_data.rename(columns={\"ID\":\"file_id\", \"ent_infor\":\"t_ent_infor\", \"sent_infor\":\"t_sent_infor\", \"token_num\":\"t_token_num\"})\n",
    "    combined_pd = pd.merge(nyt_data, entinforANDsentidx_data, on=\"file_id\")\n",
    "    combined_pd = pd.merge(combined_pd, title_entinforANDsentidx_data, on=\"file_id\")"
   ]
  },
  {
   "cell_type": "code",
   "execution_count": 22,
   "id": "a3167119",
   "metadata": {},
   "outputs": [
    {
     "data": {
      "text/plain": [
       "array(['its second year_X_110_X_125_X_DATE',\n",
       "       'Patricia Neal_X_127_X_140_X_PERSON',\n",
       "       'Treat Williams_X_142_X_156_X_PERSON',\n",
       "       'Kathleen Turner_X_161_X_176_X_PERSON',\n",
       "       'Samuel Beckett_X_230_X_244_X_PERSON',\n",
       "       'Tennessee Williams_X_246_X_264_X_PERSON',\n",
       "       'Arthur Miller_X_266_X_279_X_PERSON',\n",
       "       'Harold Pinter_X_281_X_294_X_PERSON', 'Mondays_X_346_X_353_X_DATE',\n",
       "       'Wednesdays_X_355_X_365_X_DATE', 'Thursdays_X_370_X_379_X_DATE',\n",
       "       '1 to 2 p.m._X_385_X_396_X_TIME', 'Dec. 10_X_406_X_413_X_DATE',\n",
       "       'the National Arts Club_X_417_X_439_X_ORG',\n",
       "       '15_X_441_X_443_X_CARDINAL',\n",
       "       'Gramercy Park South_X_444_X_463_X_LOC',\n",
       "       'Nov. 20_X_492_X_499_X_DATE', 'Nov. 21_X_512_X_519_X_DATE',\n",
       "       '22_X_523_X_525_X_CARDINAL', 'Dec. 10_X_530_X_537_X_DATE',\n",
       "       'one_X_543_X_546_X_CARDINAL', 'Sept. 11_X_586_X_594_X_DATE',\n",
       "       'the Red Cross_X_652_X_665_X_ORG', '29_X_708_X_710_X_MONEY',\n",
       "       '27_X_716_X_718_X_MONEY', '212_X_864_X_867_X_CARDINAL',\n",
       "       'Tomorrow_X_901_X_909_X_DATE', '6:30 p.m._X_913_X_922_X_TIME',\n",
       "       'Park Avenue Methodist Church_X_926_X_954_X_FAC',\n",
       "       '106_X_956_X_959_X_CARDINAL', 'East 86th Street_X_960_X_976_X_LOC',\n",
       "       'the Culinary Historians_X_978_X_1001_X_ORG',\n",
       "       'New York_X_1005_X_1013_X_GPE',\n",
       "       'Andrew Smith_X_1037_X_1049_X_PERSON',\n",
       "       'turkey_X_1071_X_1077_X_GPE', 'America_X_1081_X_1088_X_GPE',\n",
       "       'Admission_X_1090_X_1099_X_ORG', '25_X_1104_X_1106_X_MONEY',\n",
       "       '30_X_1124_X_1126_X_MONEY', '212_X_1157_X_1160_X_CARDINAL',\n",
       "       'Thanksgiving_X_1185_X_1197_X_DATE',\n",
       "       'Tomorrow_X_1198_X_1206_X_DATE',\n",
       "       '5 to 7 p.m._X_1212_X_1223_X_TIME', 'Nov. 15_X_1232_X_1239_X_DATE',\n",
       "       'Les Halles_X_1241_X_1251_X_GPE', '411_X_1253_X_1256_X_CARDINAL',\n",
       "       'Park Avenue South_X_1257_X_1274_X_FAC',\n",
       "       '28th_X_1276_X_1280_X_ORDINAL', 'turkey_X_1334_X_1340_X_GPE',\n",
       "       'Ouest_X_1398_X_1403_X_ORG', 'Tom Valenti_X_1508_X_1519_X_PERSON',\n",
       "       'Saturday_X_1524_X_1532_X_DATE', '1 p.m._X_1536_X_1542_X_TIME',\n",
       "       '108_X_1570_X_1573_X_CARDINAL',\n",
       "       'East 16th Street_X_1574_X_1590_X_LOC', '75_X_1606_X_1608_X_MONEY',\n",
       "       '212_X_1621_X_1624_X_CARDINAL', 'Farmers_X_1644_X_1651_X_ORG',\n",
       "       'Sunday_X_1655_X_1661_X_DATE',\n",
       "       '5:30 to 8:30 p.m._X_1667_X_1684_X_TIME',\n",
       "       'the Javits Convention Center_X_1688_X_1716_X_FAC',\n",
       "       '10_X_1755_X_1757_X_CARDINAL', 'Manhattan_X_1758_X_1767_X_GPE',\n",
       "       'American_X_1795_X_1803_X_NORP',\n",
       "       'the International Hotel, Motel and Restaurant Show_X_1954_X_2004_X_ORG',\n",
       "       'Italian_X_2055_X_2062_X_NORP',\n",
       "       '4:30 p.m. Tickets_X_2088_X_2105_X_TIME',\n",
       "       '75_X_2108_X_2110_X_MONEY', '914_X_2190_X_2193_X_CARDINAL',\n",
       "       '245-5390_X_2195_X_2203_X_CARDINAL',\n",
       "       'Monday through Nov. 18_X_2239_X_2261_X_DATE',\n",
       "       'San Domenico_X_2265_X_2277_X_GPE', '240_X_2279_X_2282_X_CARDINAL',\n",
       "       'Central Park South_X_2283_X_2301_X_LOC',\n",
       "       'Piedmont_X_2385_X_2393_X_GPE', 'Italy_X_2404_X_2409_X_GPE',\n",
       "       '110_X_2428_X_2431_X_MONEY', 'Nov. 19_X_2471_X_2478_X_DATE',\n",
       "       '250_X_2509_X_2512_X_MONEY', 'Luigi Caputo_X_2537_X_2549_X_PERSON',\n",
       "       'Balbo_X_2553_X_2558_X_PERSON', 'Turin_X_2573_X_2578_X_GPE',\n",
       "       'Italy_X_2580_X_2585_X_GPE', 'each evening_X_2637_X_2649_X_TIME',\n",
       "       'the Twin Towers Fund_X_2662_X_2682_X_LAW',\n",
       "       '212_X_2719_X_2722_X_CARDINAL', 'Cheese_X_2745_X_2751_X_NORP',\n",
       "       'Monday_X_2755_X_2761_X_DATE', '7 to 9 p.m._X_2767_X_2778_X_TIME',\n",
       "       'Jarnac_X_2782_X_2788_X_ORG', '328_X_2790_X_2793_X_CARDINAL',\n",
       "       'West 12th Street_X_2794_X_2810_X_LOC',\n",
       "       'Cognacs_X_2852_X_2859_X_GPE',\n",
       "       'Hine Triomphe_X_2871_X_2884_X_PERSON',\n",
       "       '45 to 50 years old_X_2886_X_2904_X_DATE',\n",
       "       'Cheddar_X_2929_X_2936_X_GPE', '35_X_2976_X_2978_X_MONEY',\n",
       "       'half_X_2985_X_2989_X_CARDINAL', 'Sept. 11_X_3086_X_3094_X_DATE',\n",
       "       '212_X_3097_X_3100_X_CARDINAL', 'Tuesday_X_3136_X_3143_X_DATE',\n",
       "       '8 p.m. Archaeology_X_3147_X_3165_X_TIME',\n",
       "       'Rome_X_3233_X_3237_X_GPE',\n",
       "       'the National Arts Club_X_3241_X_3263_X_ORG',\n",
       "       '15_X_3265_X_3267_X_CARDINAL',\n",
       "       'Gramercy Park South_X_3268_X_3287_X_LOC',\n",
       "       '12_X_3299_X_3301_X_MONEY',\n",
       "       'Archaeology, Department L_X_3400_X_3425_X_ORG',\n",
       "       '3636_X_3427_X_3431_X_CARDINAL', '33rd Street_X_3432_X_3443_X_FAC',\n",
       "       'Long Island City_X_3445_X_3461_X_GPE', 'N.Y._X_3463_X_3467_X_GPE',\n",
       "       '11106_X_3468_X_3473_X_DATE', 'Spain_X_3486_X_3491_X_GPE',\n",
       "       'Nov. 14_X_3495_X_3502_X_DATE', '6 to 9 p.m._X_3508_X_3519_X_TIME',\n",
       "       'the Regent Wall Street_X_3523_X_3545_X_FAC',\n",
       "       'Spanish_X_3547_X_3554_X_NORP',\n",
       "       'Dan Barber_X_3625_X_3635_X_PERSON',\n",
       "       'Blue Hill_X_3639_X_3648_X_ORG',\n",
       "       'Jason Avery_X_3650_X_3661_X_PERSON',\n",
       "       '55_X_3665_X_3667_X_CARDINAL',\n",
       "       'David Coleman_X_3674_X_3687_X_PERSON',\n",
       "       'Andrew DiCataldo_X_3698_X_3714_X_PERSON',\n",
       "       'March_X_3740_X_3745_X_DATE',\n",
       "       'Juan Carlos Rodriguez_X_3750_X_3771_X_PERSON',\n",
       "       '1492_X_3775_X_3779_X_CARDINAL', '75_X_3800_X_3802_X_MONEY',\n",
       "       '50_X_3806_X_3808_X_MONEY', '866_X_3857_X_3860_X_CARDINAL',\n",
       "       '468-7619_X_3862_X_3870_X_DATE', 'Nov. 14_X_3893_X_3900_X_DATE',\n",
       "       '7 to 11 p.m._X_3906_X_3918_X_TIME',\n",
       "       'the Puck Building_X_3922_X_3939_X_FAC',\n",
       "       '293_X_3941_X_3944_X_CARDINAL',\n",
       "       'Houston Street_X_3963_X_3977_X_FAC',\n",
       "       '18_X_4004_X_4006_X_CARDINAL', 'Rain_X_4029_X_4033_X_GPE',\n",
       "       'Verbena_X_4038_X_4045_X_GPE', '150_X_4140_X_4143_X_MONEY',\n",
       "       '212_X_4153_X_4156_X_CARDINAL', '415_X_4158_X_4161_X_CARDINAL',\n",
       "       'Nov. 15_X_4175_X_4182_X_DATE', '6 to 9 p.m._X_4188_X_4199_X_TIME',\n",
       "       'the Puck Building_X_4209_X_4226_X_FAC',\n",
       "       'New York_X_4288_X_4296_X_GPE', 'Aquavit_X_4320_X_4327_X_PERSON',\n",
       "       'Caviarteria_X_4329_X_4340_X_PERSON',\n",
       "       'Lenox Room_X_4345_X_4355_X_PERSON',\n",
       "       'City Harvest_X_4368_X_4380_X_LOC', '100_X_4396_X_4399_X_MONEY',\n",
       "       '30_X_4410_X_4412_X_CARDINAL', '150_X_4425_X_4428_X_MONEY',\n",
       "       '212_X_4453_X_4456_X_CARDINAL'], dtype=object)"
      ]
     },
     "execution_count": 22,
     "metadata": {},
     "output_type": "execute_result"
    }
   ],
   "source": [
    "entinforANDsentidx_data[\"ent_infor\"][0]"
   ]
  },
  {
   "cell_type": "code",
   "execution_count": 39,
   "id": "8d3f2a0b",
   "metadata": {},
   "outputs": [],
   "source": [
    "EVENT_set = set()\n",
    "PRODUCT_set = set()\n",
    "PERSON_set = set()\n",
    "for i in range(9):\n",
    "    entinforANDsentidx_file = f\"0_Corpus/0_Corpus/0_NYT_Data_Extraction/2_EntInfor_AND_SentIdxInfor_Files/{i}_final_filtered_entinforANDsentidx.feather\"\n",
    "    entinforANDsentidx_data = feather.read_feather(entinforANDsentidx_file)\n",
    "    for ent_list in entinforANDsentidx_data[\"ent_infor\"]:\n",
    "        for ent_string in ent_list:\n",
    "            if \"EVENT\" in ent_string:\n",
    "                EVENT_set.add(ent_string.split(\"_X_\")[0])\n",
    "            if \"PRODUCT\" in ent_string:\n",
    "                PRODUCT_set.add(ent_string.split(\"_X_\")[0])\n",
    "            if \"PERSON\" in ent_string:\n",
    "                PERSON_set.add(ent_string.split(\"_X_\")[0])"
   ]
  },
  {
   "cell_type": "code",
   "execution_count": 40,
   "id": "01c146e1",
   "metadata": {},
   "outputs": [
    {
     "data": {
      "text/plain": [
       "(52504, 63634, 3020807)"
      ]
     },
     "execution_count": 40,
     "metadata": {},
     "output_type": "execute_result"
    }
   ],
   "source": [
    "len(EVENT_set),len(PRODUCT_set),len(PERSON_set)"
   ]
  },
  {
   "cell_type": "code",
   "execution_count": 43,
   "id": "61ffdd48",
   "metadata": {},
   "outputs": [
    {
     "data": {
      "text/plain": [
       "(9944, 12475, 610216)"
      ]
     },
     "execution_count": 43,
     "metadata": {},
     "output_type": "execute_result"
    }
   ],
   "source": [
    "EVENT_set1 = set()\n",
    "PRODUCT_set1 = set()\n",
    "PERSON_set1 = set()\n",
    "for i in [9]:\n",
    "    entinforANDsentidx_file = f\"0_Corpus/0_Corpus/0_NYT_Data_Extraction/2_EntInfor_AND_SentIdxInfor_Files/{i}_final_filtered_entinforANDsentidx.feather\"\n",
    "    entinforANDsentidx_data = feather.read_feather(entinforANDsentidx_file)\n",
    "    for ent_list in entinforANDsentidx_data[\"ent_infor\"]:\n",
    "        for ent_string in ent_list:\n",
    "            if \"EVENT\" in ent_string:\n",
    "                EVENT_set1.add(ent_string.split(\"_X_\")[0])\n",
    "            if \"PRODUCT\" in ent_string:\n",
    "                PRODUCT_set1.add(ent_string.split(\"_X_\")[0])\n",
    "            if \"PERSON\" in ent_string:\n",
    "                PERSON_set1.add(ent_string.split(\"_X_\")[0])\n",
    "len(EVENT_set1),len(PRODUCT_set1),len(PERSON_set1)"
   ]
  },
  {
   "cell_type": "code",
   "execution_count": 50,
   "id": "10f61c7f",
   "metadata": {},
   "outputs": [
    {
     "data": {
      "text/plain": [
       "165241"
      ]
     },
     "execution_count": 50,
     "metadata": {},
     "output_type": "execute_result"
    }
   ],
   "source": [
    "len(entinforANDsentidx_data)"
   ]
  },
  {
   "cell_type": "code",
   "execution_count": 60,
   "id": "8e2e4bd5",
   "metadata": {},
   "outputs": [
    {
     "data": {
      "text/plain": [
       "(3893, 4975, 241917)"
      ]
     },
     "execution_count": 60,
     "metadata": {},
     "output_type": "execute_result"
    }
   ],
   "source": [
    "EVENT_set1 = set()\n",
    "PRODUCT_set1 = set()\n",
    "PERSON_set1 = set()\n",
    "for i in [9]:\n",
    "    entinforANDsentidx_file = f\"0_Corpus/0_Corpus/0_NYT_Data_Extraction/2_EntInfor_AND_SentIdxInfor_Files/{i}_final_filtered_entinforANDsentidx.feather\"\n",
    "    entinforANDsentidx_data = feather.read_feather(entinforANDsentidx_file)[:50000]\n",
    "    for ent_list in entinforANDsentidx_data[\"ent_infor\"]:\n",
    "        for ent_string in ent_list:\n",
    "            if \"EVENT\" in ent_string:\n",
    "                EVENT_set1.add(ent_string.split(\"_X_\")[0])\n",
    "            if \"PRODUCT\" in ent_string:\n",
    "                PRODUCT_set1.add(ent_string.split(\"_X_\")[0])\n",
    "            if \"PERSON\" in ent_string:\n",
    "                PERSON_set1.add(ent_string.split(\"_X_\")[0])\n",
    "len(EVENT_set1),len(PRODUCT_set1),len(PERSON_set1)"
   ]
  },
  {
   "cell_type": "code",
   "execution_count": 61,
   "id": "fcc06ea7",
   "metadata": {},
   "outputs": [
    {
     "data": {
      "text/plain": [
       "(2.522418846133178, 3.2)"
      ]
     },
     "execution_count": 61,
     "metadata": {},
     "output_type": "execute_result"
    }
   ],
   "source": [
    "610216/241917, 16/5"
   ]
  },
  {
   "cell_type": "code",
   "execution_count": 62,
   "id": "c22ea7da",
   "metadata": {},
   "outputs": [
    {
     "data": {
      "text/plain": [
       "28.0"
      ]
     },
     "execution_count": 62,
     "metadata": {},
     "output_type": "execute_result"
    }
   ],
   "source": [
    "1400000/50000"
   ]
  },
  {
   "cell_type": "code",
   "execution_count": 63,
   "id": "d09639b6",
   "metadata": {},
   "outputs": [
    {
     "data": {
      "text/plain": [
       "14.193401042506315"
      ]
     },
     "execution_count": 63,
     "metadata": {},
     "output_type": "execute_result"
    }
   ],
   "source": [
    "3433625/241917"
   ]
  },
  {
   "cell_type": "code",
   "execution_count": 65,
   "id": "720f335f",
   "metadata": {},
   "outputs": [
    {
     "data": {
      "text/plain": [
       "4.83834"
      ]
     },
     "execution_count": 65,
     "metadata": {},
     "output_type": "execute_result"
    }
   ],
   "source": [
    "\n"
   ]
  },
  {
   "cell_type": "code",
   "execution_count": 53,
   "id": "1756d742",
   "metadata": {},
   "outputs": [],
   "source": [
    "entinforANDsentidx_file1 = f\"0_Corpus/NYT_doc_timestamp_data.feather\"\n",
    "entinforANDsentidx_data1 = feather.read_feather(entinforANDsentidx_file1)"
   ]
  },
  {
   "cell_type": "code",
   "execution_count": 54,
   "id": "34e33261",
   "metadata": {},
   "outputs": [
    {
     "data": {
      "text/plain": [
       "50000"
      ]
     },
     "execution_count": 54,
     "metadata": {},
     "output_type": "execute_result"
    }
   ],
   "source": [
    "len(entinforANDsentidx_data1)"
   ]
  },
  {
   "cell_type": "code",
   "execution_count": null,
   "id": "c380c339",
   "metadata": {},
   "outputs": [],
   "source": []
  },
  {
   "cell_type": "code",
   "execution_count": 73,
   "id": "e0bac841",
   "metadata": {},
   "outputs": [
    {
     "data": {
      "text/plain": [
       "(7462, 9575, 463964)"
      ]
     },
     "execution_count": 73,
     "metadata": {},
     "output_type": "execute_result"
    }
   ],
   "source": [
    "EVENT_set2 = set()\n",
    "PRODUCT_set2 = set()\n",
    "PERSON_set2 = set()\n",
    "for i in [9]:\n",
    "    entinforANDsentidx_file = f\"0_Corpus/0_Corpus/0_NYT_Data_Extraction/2_EntInfor_AND_SentIdxInfor_Files/{i}_final_filtered_entinforANDsentidx.feather\"\n",
    "    entinforANDsentidx_data = feather.read_feather(entinforANDsentidx_file)[50000:]\n",
    "    for ent_list in entinforANDsentidx_data[\"ent_infor\"]:\n",
    "        for ent_string in ent_list:\n",
    "            if \"EVENT\" in ent_string:\n",
    "                EVENT_set2.add(ent_string.split(\"_X_\")[0])\n",
    "            if \"PRODUCT\" in ent_string:\n",
    "                PRODUCT_set2.add(ent_string.split(\"_X_\")[0])\n",
    "            if \"PERSON\" in ent_string:\n",
    "                PERSON_set2.add(ent_string.split(\"_X_\")[0])\n",
    "len(EVENT_set2),len(PRODUCT_set2),len(PERSON_set2)"
   ]
  },
  {
   "cell_type": "code",
   "execution_count": 67,
   "id": "313ede30",
   "metadata": {},
   "outputs": [
    {
     "data": {
      "text/plain": [
       "(55557, 67024, 3180211)"
      ]
     },
     "execution_count": 67,
     "metadata": {},
     "output_type": "execute_result"
    }
   ],
   "source": [
    "EVENT_setS = EVENT_set|EVENT_set2\n",
    "PRODUCT_setS = PRODUCT_set|PRODUCT_set2\n",
    "PERSON_setS = PERSON_set|PERSON_set2\n",
    "len(EVENT_setS),len(PRODUCT_setS),len(PERSON_setS)"
   ]
  },
  {
   "cell_type": "code",
   "execution_count": 71,
   "id": "c2c72337",
   "metadata": {},
   "outputs": [
    {
     "data": {
      "text/plain": [
       "115241"
      ]
     },
     "execution_count": 71,
     "metadata": {},
     "output_type": "execute_result"
    }
   ],
   "source": [
    "len(entinforANDsentidx_data)"
   ]
  },
  {
   "cell_type": "code",
   "execution_count": 72,
   "id": "340b156d",
   "metadata": {},
   "outputs": [
    {
     "data": {
      "text/html": [
       "<div>\n",
       "<style scoped>\n",
       "    .dataframe tbody tr th:only-of-type {\n",
       "        vertical-align: middle;\n",
       "    }\n",
       "\n",
       "    .dataframe tbody tr th {\n",
       "        vertical-align: top;\n",
       "    }\n",
       "\n",
       "    .dataframe thead th {\n",
       "        text-align: right;\n",
       "    }\n",
       "</style>\n",
       "<table border=\"1\" class=\"dataframe\">\n",
       "  <thead>\n",
       "    <tr style=\"text-align: right;\">\n",
       "      <th></th>\n",
       "      <th>ent_infor</th>\n",
       "      <th>sent_infor</th>\n",
       "      <th>ID</th>\n",
       "    </tr>\n",
       "  </thead>\n",
       "  <tbody>\n",
       "    <tr>\n",
       "      <th>50000</th>\n",
       "      <td>[the latest month_X_31_X_47_X_DATE, The Federa...</td>\n",
       "      <td>[0_X_86, 86_X_87, 87_X_211, 211_X_212, 212_X_3...</td>\n",
       "      <td>0046923</td>\n",
       "    </tr>\n",
       "    <tr>\n",
       "      <th>50001</th>\n",
       "      <td>[Chagas_X_148_X_154_X_PERSON, Americas_X_190_X...</td>\n",
       "      <td>[0_X_128, 128_X_129, 129_X_294, 294_X_295, 295...</td>\n",
       "      <td>1664245</td>\n",
       "    </tr>\n",
       "    <tr>\n",
       "      <th>50002</th>\n",
       "      <td>[GREENBAUM-Ray_X_0_X_13_X_PERSON, February 28_...</td>\n",
       "      <td>[0_X_31, 32_X_49, 50_X_113, 114_X_191, 192_X_2...</td>\n",
       "      <td>0998665</td>\n",
       "    </tr>\n",
       "    <tr>\n",
       "      <th>50003</th>\n",
       "      <td>[Tom O'Toole_X_0_X_11_X_PERSON, Nick Nolte_X_1...</td>\n",
       "      <td>[0_X_206, 207_X_330, 331_X_421, 421_X_422, 422...</td>\n",
       "      <td>0318281</td>\n",
       "    </tr>\n",
       "    <tr>\n",
       "      <th>50004</th>\n",
       "      <td>[25-minute_X_197_X_206_X_TIME, Pam Tom_X_215_X...</td>\n",
       "      <td>[0_X_134, 135_X_183, 183_X_463, 463_X_466, 466...</td>\n",
       "      <td>0338462</td>\n",
       "    </tr>\n",
       "    <tr>\n",
       "      <th>...</th>\n",
       "      <td>...</td>\n",
       "      <td>...</td>\n",
       "      <td>...</td>\n",
       "    </tr>\n",
       "    <tr>\n",
       "      <th>165236</th>\n",
       "      <td>[Rajat Neogy_X_0_X_11_X_PERSON, Ugandan_X_17_X...</td>\n",
       "      <td>[0_X_177, 178_X_188, 188_X_189, 189_X_288, 288...</td>\n",
       "      <td>0815314</td>\n",
       "    </tr>\n",
       "    <tr>\n",
       "      <th>165237</th>\n",
       "      <td>[Older Cities Relying More on Suburbs' Taxes_X...</td>\n",
       "      <td>[0_X_191, 192_X_263, 263_X_343, 344_X_423, 424...</td>\n",
       "      <td>0592240</td>\n",
       "    </tr>\n",
       "    <tr>\n",
       "      <th>165238</th>\n",
       "      <td>[American_X_42_X_50_X_NORP, European_X_315_X_3...</td>\n",
       "      <td>[0_X_272, 273_X_496, 496_X_497, 497_X_675, 676...</td>\n",
       "      <td>1265245</td>\n",
       "    </tr>\n",
       "    <tr>\n",
       "      <th>165239</th>\n",
       "      <td>[Joyce Van Patten_X_229_X_245_X_PERSON, New Yo...</td>\n",
       "      <td>[0_X_109, 110_X_201, 202_X_399, 399_X_570, 571...</td>\n",
       "      <td>1614637</td>\n",
       "    </tr>\n",
       "    <tr>\n",
       "      <th>165240</th>\n",
       "      <td>[Jed_X_119_X_122_X_PERSON, Rhys Ifans_X_161_X_...</td>\n",
       "      <td>[0_X_286, 287_X_384, 385_X_448, 449_X_581, 582...</td>\n",
       "      <td>1624014</td>\n",
       "    </tr>\n",
       "  </tbody>\n",
       "</table>\n",
       "<p>115241 rows × 3 columns</p>\n",
       "</div>"
      ],
      "text/plain": [
       "                                                ent_infor  \\\n",
       "50000   [the latest month_X_31_X_47_X_DATE, The Federa...   \n",
       "50001   [Chagas_X_148_X_154_X_PERSON, Americas_X_190_X...   \n",
       "50002   [GREENBAUM-Ray_X_0_X_13_X_PERSON, February 28_...   \n",
       "50003   [Tom O'Toole_X_0_X_11_X_PERSON, Nick Nolte_X_1...   \n",
       "50004   [25-minute_X_197_X_206_X_TIME, Pam Tom_X_215_X...   \n",
       "...                                                   ...   \n",
       "165236  [Rajat Neogy_X_0_X_11_X_PERSON, Ugandan_X_17_X...   \n",
       "165237  [Older Cities Relying More on Suburbs' Taxes_X...   \n",
       "165238  [American_X_42_X_50_X_NORP, European_X_315_X_3...   \n",
       "165239  [Joyce Van Patten_X_229_X_245_X_PERSON, New Yo...   \n",
       "165240  [Jed_X_119_X_122_X_PERSON, Rhys Ifans_X_161_X_...   \n",
       "\n",
       "                                               sent_infor       ID  \n",
       "50000   [0_X_86, 86_X_87, 87_X_211, 211_X_212, 212_X_3...  0046923  \n",
       "50001   [0_X_128, 128_X_129, 129_X_294, 294_X_295, 295...  1664245  \n",
       "50002   [0_X_31, 32_X_49, 50_X_113, 114_X_191, 192_X_2...  0998665  \n",
       "50003   [0_X_206, 207_X_330, 331_X_421, 421_X_422, 422...  0318281  \n",
       "50004   [0_X_134, 135_X_183, 183_X_463, 463_X_466, 466...  0338462  \n",
       "...                                                   ...      ...  \n",
       "165236  [0_X_177, 178_X_188, 188_X_189, 189_X_288, 288...  0815314  \n",
       "165237  [0_X_191, 192_X_263, 263_X_343, 344_X_423, 424...  0592240  \n",
       "165238  [0_X_272, 273_X_496, 496_X_497, 497_X_675, 676...  1265245  \n",
       "165239  [0_X_109, 110_X_201, 202_X_399, 399_X_570, 571...  1614637  \n",
       "165240  [0_X_286, 287_X_384, 385_X_448, 449_X_581, 582...  1624014  \n",
       "\n",
       "[115241 rows x 3 columns]"
      ]
     },
     "execution_count": 72,
     "metadata": {},
     "output_type": "execute_result"
    }
   ],
   "source": [
    "entinforANDsentidx_data"
   ]
  },
  {
   "cell_type": "code",
   "execution_count": null,
   "id": "8063f7d6",
   "metadata": {},
   "outputs": [],
   "source": []
  },
  {
   "cell_type": "code",
   "execution_count": null,
   "id": "74277a79",
   "metadata": {},
   "outputs": [],
   "source": [
    "(9445, 11925, 582144)\n"
   ]
  },
  {
   "cell_type": "code",
   "execution_count": 44,
   "id": "8e624428",
   "metadata": {},
   "outputs": [
    {
     "data": {
      "text/plain": [
       "(56888, 68423, 3247805)"
      ]
     },
     "execution_count": 44,
     "metadata": {},
     "output_type": "execute_result"
    }
   ],
   "source": [
    "EVENT_setT = EVENT_set|EVENT_set1\n",
    "PRODUCT_setT = PRODUCT_set|PRODUCT_set1\n",
    "PERSON_set1T = PERSON_set|PERSON_set1\n",
    "len(EVENT_setT),len(PRODUCT_setT),len(PERSON_set1T)"
   ]
  },
  {
   "cell_type": "code",
   "execution_count": 49,
   "id": "6e6faa2f",
   "metadata": {},
   "outputs": [
    {
     "data": {
      "text/plain": [
       "184644.24688787892"
      ]
     },
     "execution_count": 49,
     "metadata": {},
     "output_type": "execute_result"
    }
   ],
   "source": [
    "610216/165241*50000"
   ]
  },
  {
   "cell_type": "code",
   "execution_count": 47,
   "id": "2caf937d",
   "metadata": {},
   "outputs": [
    {
     "data": {
      "text/plain": [
       "165241"
      ]
     },
     "execution_count": 47,
     "metadata": {},
     "output_type": "execute_result"
    }
   ],
   "source": [
    "len(entinforANDsentidx_data)"
   ]
  },
  {
   "cell_type": "code",
   "execution_count": 2,
   "id": "13c2a9f2",
   "metadata": {},
   "outputs": [],
   "source": [
    "nyt_file = f\"./0_Corpus/0_Corpus/0_NYT_Data_Extraction/1_NYT_FilteredData_Files/9_NYT_filtered_data.feather\"\n",
    "nyt_data = feather.read_feather(nyt_file)"
   ]
  },
  {
   "cell_type": "code",
   "execution_count": 9,
   "id": "e3dbeb96",
   "metadata": {},
   "outputs": [],
   "source": [
    "for row_idx, row in nyt_data.iterrows():\n",
    "    title = row[\"title\"]\n",
    "    if \"to Busta Rhymes\" in title:\n",
    "        break"
   ]
  },
  {
   "cell_type": "code",
   "execution_count": 12,
   "id": "dc704bce",
   "metadata": {},
   "outputs": [
    {
     "data": {
      "text/plain": [
       "\"In the turbulent world of hip-hop, where the line between art and criminality is sometimes blurred, an arrest for drunken driving would normally attract little attention.\\nBut when the police pulled over a sport utility vehicle in Manhattan early yesterday and determined that its driver and sole occupant, the rapper known as Busta Rhymes, was sufficiently impaired to be given a Breathalyzer test, it was the latest blow for an artist who has commanded a huge international following for more than a decade. Recently, under his real name, Trevor Smith, Busta Rhymes has been a regular on the police blotter.\\nMr. Smith, 34, was stopped at 12:48 a.m. near the corner of 51st Street and 11th Avenue, the police said, because the tint on the windows of his Yukon Denali was too dark, in violation of city law. When officers approached the S.U.V. and asked for his paperwork, Mr. Smith dropped his wallet and officers detected a strong odor of alcohol on his breath, the police said.\\nAt his arraignment yesterday afternoon in Manhattan Criminal Court on charges of driving while intoxicated and driving while impaired, he entered no plea. A prosecutor, Harrison Schweiloch, referring to a 1998 arrest for illegal possession of a handgun, called Mr. Smith a ''violent predicate felon.'' Mr. Smith was released on $7,500 bail, set by Judge Tanya Kennedy.\\nAlthough Mr. Smith has completed his sentence of five years' probation in the gun possession case, his problems now center on a series of arrests since August 2006. In a trial scheduled to begin on Tuesday before Judge ShawnDya Simpson in Manhattan Criminal Court, Mr. Smith is facing assault and weapons charges, and is accused in separate cases of attacking a fan after a concert at Randalls Island, and months later, beating his personal driver.\\nThe police are also eager to question him about the fatal shooting of one of his bodyguards outside a Brooklyn recording studio in February 2006. Mr. Smith has remained tight-lipped, volunteering little information, even though investigators say he was standing next to the guard, Israel Ramirez, when the shooting took place.\\nThe charges against Mr. Smith, who was born in Brooklyn and raised in Uniondale, on Long Island, have followed his career as a major figure in rap music and videos during the 1990s. Before 2006 he had largely stayed clear of the kind of violence and criminality associated with the personal lives and music of some other pioneering rap artists, including the Notorious B.I.G. and Tupac Shakur, who were killed in drive-by shootings.\\nBut since Mr. Smith's problems with the law have multiplied, he has been struggling to maintain his prominence in hip-hop. He parted ways with his record label, Elektra, after a poor reception to ''Anarchy,'' an album released in 2000, and more recent releases, including his latest album, ''The Big Bang,'' have had lackluster sales.\\nAs his personal life has become more tumultuous, Mr. Smith has signaled a change in his public persona. In November 2005, he cut his dreadlocks, which, along with tattoos that cover his forearms, had been his most conspicuous signature. With the release of ''The Big Bang,'' he also sought to deliver more nuanced lyrics and claim more gravitas in hip-hop culture.\\nKelefa Sanneh, reviewing ''The Big Bang'' for The New York Times in June 2006, wrote, ''It's hard to imagine a major rapper less well suited for this kind of self-conscious bid for greatness.'' Mr. Sanneh asked, ''Why should Busta get serious when silly suits him so much better?''\\nBut by then, Mr. Smith's personal life had become more troubled. Mr. Ramirez had been killed four months earlier, and by August, police officials were losing patience with Mr. Smith's refusal to cooperate in their investigation.\\nAlthough several people were present when the shooting took place, ''no one has come forward as a witness,'' a deputy police commissioner, Paul J. Browne, said at the time. He said some witnesses had told detectives that they would cooperate only if Mr. Smith did so first. No arrests have been made in the case.\\nAlso last August, Mr. Smith was arrested on assault and weapons charges after he was accused of attacking a fan at Randalls Island. And in January, he was charged with misdemeanor assault after his former driver said that Mr. Smith beat and kicked him in a dispute over money.\\nMr. Smith had agreed to a plea offer in both cases that would have included probation, community service and delivering lectures to troubled youths. But Judge Simpson withdrew that offer after Mr. Smith was arrested again in February, this time for driving with a suspended license.\\nAt the arraignment yesterday, Judge Kennedy said she would add the new charges to the others being considered at Mr. Smith's trial next week. But Scott E. Leemon, a lawyer for Mr. Smith, said he would challenge that order.\\nMr. Schweiloch, an assistant Manhattan district attorney, told Judge Kennedy that Mr. Smith told the arresting officers early yesterday, ''I don't have my license on me,'' and that he ''had one shot of Hennessey about an hour and a half ago.''\\nIt was unclear whether Mr. Smith was carrying a valid license when he was arrested; he was not charged with any license violations. Wearing a T-shirt and jeans decorated with studs on the back, Mr. Smith said little in court, and nothing when he was confronted by reporters outside the courthouse.\\nAmid his legal troubles, and his efforts to remain at the pinnacle of rap stardom, Mr. Smith was chosen to play a role in a movie, ''Order of Redemption,'' which was being filmed in Manhattan. But the production company was forced to begin filming without him in March after the police raised concerns about his safety.\\nNormally, the city provides two police officers at no charge for film productions. But the city said greater security would be required at the production company's expense.\\n''Due to the celebrity status of Busta Rhymes, we were unfortunately unable to meet the additional cost for the police detail,'' said John Fitzpatrick, a spokesman for the production company.\""
      ]
     },
     "execution_count": 12,
     "metadata": {},
     "output_type": "execute_result"
    }
   ],
   "source": [
    "row[\"body_text\"]"
   ]
  },
  {
   "cell_type": "code",
   "execution_count": 3,
   "id": "c8d96a81",
   "metadata": {},
   "outputs": [],
   "source": [
    "for row_idx, row in combined_pd.iterrows():\n",
    "    pub = row[\"pub\"]\n",
    "    if \"20070501\" in pub:\n",
    "        break"
   ]
  },
  {
   "cell_type": "code",
   "execution_count": 19,
   "id": "acd9318b",
   "metadata": {},
   "outputs": [],
   "source": [
    "for row_idx, row in combined_pd.iterrows():\n",
    "    text = row[\"body_text\"]\n",
    "    if \"associated with the personal lives and music of some other pioneering rap artists\" in text:\n",
    "        break"
   ]
  },
  {
   "cell_type": "code",
   "execution_count": 4,
   "id": "eefaf261",
   "metadata": {
    "scrolled": true
   },
   "outputs": [
    {
     "name": "stdout",
     "output_type": "stream",
     "text": [
      "The police did not violate a speeding driver's rights by ramming his car and causing an accident that left him permanently paralyzed, the Supreme Court ruled on Monday by a vote of 8 to 1.\n",
      "Writing for the majority, Justice Antonin Scalia said that despite the fact that the 19-year-old driver was suspected of nothing more than speeding, the decision to force him off the road was reasonable in light of the need to protect pedestrians and other drivers from ''a Hollywood-style car chase of the most frightening sort.''\n",
      "The justices took the unusual step -- a first for the court -- of posting on the court's Web site the 15-minute video of the chase, recorded by a camera mounted on the squad car's dashboard. A link to the video in the case, Scott v. Harris, No. 05-1631, is at supremecourtus.gov/opinions/06slipopinion.html.\n",
      "Justice Scalia said the videotape demonstrated the danger posed by the efforts of the driver, Victor Harris, to elude the police on a narrow and winding Georgia road. Justice Scalia added that the federal appeals court in Atlanta, which ruled that Mr. Harris was entitled to a jury trial on his constitutional claims against the sheriff's deputy who forced him off the road, should have viewed the tape with more care rather than accept Mr. Harris's version of how the chase proceeded.\n",
      "Mr. Harris's benign description of his actions during the chase, which according to Justice Scalia gave the impression that he was ''attempting to pass his driving test'' rather than fleeing the police, was ''blatantly contradicted by the record so that no reasonable jury could believe it,'' the justice said.\n",
      "The lone dissenter, Justice John Paul Stevens, said that to the contrary, jurors could well have concluded that the late-night chase endangered no pedestrians, since there were none, and no other motorists, since the police sirens warned other cars to pull off the road. ''The Court has usurped the jury's fact-finding function,'' Justice Stevens said, adding that ''whether a person's actions have risen to a level warranting deadly force is a question of fact best reserved for a jury.''\n",
      "With evident sarcasm, Justice Stevens referred to the other justices as ''my colleagues on the jury.'' He said that while Mr. Harris's offense -- speeding, refusing to stop and fleeing -- was a serious one, ''it was not, however, a capital offense, or even an offense that justified the use of deadly force rather than an abandonment of the chase.''\n",
      "The constitutional issue in the case concerned the Fourth Amendment, which prohibits unreasonable searches and seizures. There was no dispute that Sheriff's Deputy Timothy Scott ''seized'' Mr. Harris, in constitutional terms, when he rammed his car from behind, sending it down an embankment. The resulting accident left Mr. Harris a quadriplegic.\n",
      "The question, as in any Fourth Amendment case, was whether the seizure was ''reasonable'' under the circumstances. Mr. Harris sued the deputy for damages, and the United States Court of Appeals for the 11th Circuit, in Atlanta, held that he was entitled to have his case heard by a jury. The appeals court said that a jury could find that the case was governed by a 1985 Supreme Court precedent on the use of deadly force by the police against a fleeing suspect and that the jury could reasonably find that the police behavior in this case was unreasonable.\n",
      "In the earlier case, the Supreme Court found that the police acted unreasonably in shooting a suspected burglar in the back as he fled the crime scene. But that case could not govern this one, Justice Scalia said, because while the unarmed burglary suspect did not, in his flight, pose a threat to the public, Mr. Harris's behavior posed ''an extreme danger to human life.''\n",
      "Originally clocked at 73 miles an hour on a 55 m.p.h. four-lane road, Mr. Harris led the police on a 10-mile chase over two-lane roads at speeds of up to 83 m.p.h.\n",
      "Justice Scalia said the rule of the case was that ''a police officer's attempt to terminate a dangerous high-speed car chase that threatens the lives of innocent bystanders does not violate the Fourth Amendment, even when it places the fleeing motorist at risk of serious injury or death.''\n",
      "In response to Mr. Harris's argument that the police had his license number and could have avoided more danger by abandoning the chase, Justice Scalia said that such an outcome would give a ''perverse incentive'' to fleeing motorists who would ''get away whenever they drive so recklessly that they put other people's lives in danger.'' In any event, Justice Scalia said, it was Mr. Harris ''who intentionally placed himself and the public in danger'' and gave the police ''the choice between two evils'' that they confronted.\n",
      "It is obvious in the videotape that Deputy Scott and the other officers involved in the chase were taken aback by its devastating end. Worried voices can be heard calling to Mr. Harris and summoning an ambulance.\n",
      "These were among the court's other actions on a busy Monday.\n",
      "By a 6 to 3 vote, the court held that a local government can constitutionally channel the disposal of all solid waste generated within its borders to a government-run landfill. The question in the case, from upstate New York, was whether such a requirement, often called a ''flow-control ordinance,'' amounts to an unconstitutional restriction on interstate commerce.\n",
      "In 1994, the court ruled in a New York case that a flow-control ordinance was unconstitutional if its object was to channel waste to a private facility. Governments had attempted to do this to keep commercial landfills viable and to avoid having to make up any revenue shortfalls, as was usually called for in contracts. The court found then that these ordinances amounted to impermissible economic protectionism.\n",
      "The question in the new case, United Haulers Association v. Oneida-Herkimer Solid Waste Management Authority, No. 05-1345, was whether it made a difference if the facility was government-run. It did, the court held in an opinion by Chief Justice John G. Roberts Jr. ''Disposing of trash has been a traditional government activity for years,'' the chief justice said, ''and laws that favor the government in such areas -- but treat every private business, whether in-state or out-of-state, exactly the same -- do not discriminate against interstate commerce for purposes of the Commerce Clause.''\n",
      "The decision affirmed a ruling by the United States Court of Appeals for the Second Circuit, in Manhattan. A trade organization of trash haulers had sued the waste management authority, set up by New York State at the behest of Oneida and Herkimer Counties, for requiring them to dispose of their trash at much higher fees than they were being charged at other nearby facilities, $86 a ton compared with $37 to $55. Chief Justice Roberts said there were ''compelling reasons'' to find a constitutional protection for a government-run disposal program. He said the Commerce Clause ''is not a roving license for federal courts to decide what activities are appropriate for state and local government to undertake, and what activities must be the province of private market competition.\n",
      "In another action, the court turned, without comment, down the latest appeals by two Guantánamo detainees, Salim A. Hamdan and Omar Khadr. Justices Ruth Bader Ginsburg, David H. Souter, and Stephen G. Breyer dissented, as they had earlier this month. The case was Hamdan v. Gates, No. 06-1169.\n"
     ]
    }
   ],
   "source": [
    "print(row.to_dict()[\"body_text\"])"
   ]
  },
  {
   "cell_type": "code",
   "execution_count": 11,
   "id": "fee9f299",
   "metadata": {},
   "outputs": [],
   "source": [
    "from transformers import BertTokenizer\n",
    "tokenizer = BertTokenizer.from_pretrained(\"./bert-base-cased/\")"
   ]
  },
  {
   "cell_type": "code",
   "execution_count": 39,
   "id": "850cd84c",
   "metadata": {},
   "outputs": [
    {
     "name": "stdout",
     "output_type": "stream",
     "text": [
      "[101, 9809, 1394, 20452, 19457, 102]\n",
      "[CLS] Anton ##in Sc ##alia [SEP]\n"
     ]
    }
   ],
   "source": [
    "encoding = tokenizer.encode(\"Antonin Scalia\")\n",
    "print(encoding)\n",
    "print(\" \".join(tokenizer.convert_ids_to_tokens(encoding)))\n",
    "\n"
   ]
  },
  {
   "cell_type": "code",
   "execution_count": 8,
   "id": "594719c6",
   "metadata": {},
   "outputs": [
    {
     "data": {
      "text/plain": [
       "{'file_id': '1844806',\n",
       " 'pub': '20070504',\n",
       " 'title': \"Add a Drunken-Driving Charge to Busta Rhymes's Troubles\",\n",
       " 'body_text': \"In the turbulent world of hip-hop, where the line between art and criminality is sometimes blurred, an arrest for drunken driving would normally attract little attention.\\nBut when the police pulled over a sport utility vehicle in Manhattan early yesterday and determined that its driver and sole occupant, the rapper known as Busta Rhymes, was sufficiently impaired to be given a Breathalyzer test, it was the latest blow for an artist who has commanded a huge international following for more than a decade. Recently, under his real name, Trevor Smith, Busta Rhymes has been a regular on the police blotter.\\nMr. Smith, 34, was stopped at 12:48 a.m. near the corner of 51st Street and 11th Avenue, the police said, because the tint on the windows of his Yukon Denali was too dark, in violation of city law. When officers approached the S.U.V. and asked for his paperwork, Mr. Smith dropped his wallet and officers detected a strong odor of alcohol on his breath, the police said.\\nAt his arraignment yesterday afternoon in Manhattan Criminal Court on charges of driving while intoxicated and driving while impaired, he entered no plea. A prosecutor, Harrison Schweiloch, referring to a 1998 arrest for illegal possession of a handgun, called Mr. Smith a ''violent predicate felon.'' Mr. Smith was released on $7,500 bail, set by Judge Tanya Kennedy.\\nAlthough Mr. Smith has completed his sentence of five years' probation in the gun possession case, his problems now center on a series of arrests since August 2006. In a trial scheduled to begin on Tuesday before Judge ShawnDya Simpson in Manhattan Criminal Court, Mr. Smith is facing assault and weapons charges, and is accused in separate cases of attacking a fan after a concert at Randalls Island, and months later, beating his personal driver.\\nThe police are also eager to question him about the fatal shooting of one of his bodyguards outside a Brooklyn recording studio in February 2006. Mr. Smith has remained tight-lipped, volunteering little information, even though investigators say he was standing next to the guard, Israel Ramirez, when the shooting took place.\\nThe charges against Mr. Smith, who was born in Brooklyn and raised in Uniondale, on Long Island, have followed his career as a major figure in rap music and videos during the 1990s. Before 2006 he had largely stayed clear of the kind of violence and criminality associated with the personal lives and music of some other pioneering rap artists, including the Notorious B.I.G. and Tupac Shakur, who were killed in drive-by shootings.\\nBut since Mr. Smith's problems with the law have multiplied, he has been struggling to maintain his prominence in hip-hop. He parted ways with his record label, Elektra, after a poor reception to ''Anarchy,'' an album released in 2000, and more recent releases, including his latest album, ''The Big Bang,'' have had lackluster sales.\\nAs his personal life has become more tumultuous, Mr. Smith has signaled a change in his public persona. In November 2005, he cut his dreadlocks, which, along with tattoos that cover his forearms, had been his most conspicuous signature. With the release of ''The Big Bang,'' he also sought to deliver more nuanced lyrics and claim more gravitas in hip-hop culture.\\nKelefa Sanneh, reviewing ''The Big Bang'' for The New York Times in June 2006, wrote, ''It's hard to imagine a major rapper less well suited for this kind of self-conscious bid for greatness.'' Mr. Sanneh asked, ''Why should Busta get serious when silly suits him so much better?''\\nBut by then, Mr. Smith's personal life had become more troubled. Mr. Ramirez had been killed four months earlier, and by August, police officials were losing patience with Mr. Smith's refusal to cooperate in their investigation.\\nAlthough several people were present when the shooting took place, ''no one has come forward as a witness,'' a deputy police commissioner, Paul J. Browne, said at the time. He said some witnesses had told detectives that they would cooperate only if Mr. Smith did so first. No arrests have been made in the case.\\nAlso last August, Mr. Smith was arrested on assault and weapons charges after he was accused of attacking a fan at Randalls Island. And in January, he was charged with misdemeanor assault after his former driver said that Mr. Smith beat and kicked him in a dispute over money.\\nMr. Smith had agreed to a plea offer in both cases that would have included probation, community service and delivering lectures to troubled youths. But Judge Simpson withdrew that offer after Mr. Smith was arrested again in February, this time for driving with a suspended license.\\nAt the arraignment yesterday, Judge Kennedy said she would add the new charges to the others being considered at Mr. Smith's trial next week. But Scott E. Leemon, a lawyer for Mr. Smith, said he would challenge that order.\\nMr. Schweiloch, an assistant Manhattan district attorney, told Judge Kennedy that Mr. Smith told the arresting officers early yesterday, ''I don't have my license on me,'' and that he ''had one shot of Hennessey about an hour and a half ago.''\\nIt was unclear whether Mr. Smith was carrying a valid license when he was arrested; he was not charged with any license violations. Wearing a T-shirt and jeans decorated with studs on the back, Mr. Smith said little in court, and nothing when he was confronted by reporters outside the courthouse.\\nAmid his legal troubles, and his efforts to remain at the pinnacle of rap stardom, Mr. Smith was chosen to play a role in a movie, ''Order of Redemption,'' which was being filmed in Manhattan. But the production company was forced to begin filming without him in March after the police raised concerns about his safety.\\nNormally, the city provides two police officers at no charge for film productions. But the city said greater security would be required at the production company's expense.\\n''Due to the celebrity status of Busta Rhymes, we were unfortunately unable to meet the additional cost for the police detail,'' said John Fitzpatrick, a spokesman for the production company.\",\n",
       " 'ent_infor': array(['Manhattan_X_230_X_239_X_GPE',\n",
       "        'early yesterday_X_240_X_255_X_DATE',\n",
       "        'Busta Rhymes_X_326_X_338_X_PERSON',\n",
       "        'Breathalyzer_X_380_X_392_X_PERSON',\n",
       "        'more than a decade_X_489_X_507_X_DATE',\n",
       "        'Trevor Smith_X_540_X_552_X_PERSON',\n",
       "        'Busta Rhymes_X_554_X_566_X_PERSON', 'Smith_X_613_X_618_X_PERSON',\n",
       "        '34_X_620_X_622_X_DATE', '12:48 a.m._X_639_X_649_X_TIME',\n",
       "        '11th Avenue_X_685_X_696_X_FAC',\n",
       "        'Yukon Denali_X_754_X_766_X_PERSON', 'Smith_X_876_X_881_X_PERSON',\n",
       "        'yesterday_X_999_X_1008_X_DATE', 'afternoon_X_1009_X_1018_X_TIME',\n",
       "        'Manhattan Criminal Court_X_1022_X_1046_X_ORG',\n",
       "        'Harrison Schweiloch_X_1149_X_1168_X_PERSON',\n",
       "        '1998_X_1185_X_1189_X_DATE', 'Smith_X_1245_X_1250_X_PERSON',\n",
       "        'Smith_X_1286_X_1291_X_PERSON', '7,500_X_1309_X_1314_X_MONEY',\n",
       "        'Tanya Kennedy_X_1334_X_1347_X_PERSON',\n",
       "        'Smith_X_1362_X_1367_X_PERSON', \"five years'_X_1398_X_1409_X_DATE\",\n",
       "        'August 2006_X_1501_X_1512_X_DATE', 'Tuesday_X_1547_X_1554_X_DATE',\n",
       "        'ShawnDya Simpson_X_1568_X_1584_X_PERSON',\n",
       "        'Manhattan Criminal Court_X_1588_X_1612_X_ORG',\n",
       "        'Smith_X_1618_X_1623_X_PERSON',\n",
       "        'Randalls Island_X_1734_X_1749_X_GPE',\n",
       "        'months later_X_1755_X_1767_X_DATE',\n",
       "        'one_X_1868_X_1871_X_CARDINAL', 'Brooklyn_X_1900_X_1908_X_GPE',\n",
       "        'February 2006_X_1929_X_1942_X_DATE',\n",
       "        'Smith_X_1948_X_1953_X_PERSON',\n",
       "        'Israel Ramirez_X_2079_X_2093_X_PERSON',\n",
       "        'Smith_X_2149_X_2154_X_PERSON', 'Brooklyn_X_2172_X_2180_X_GPE',\n",
       "        'Uniondale_X_2195_X_2204_X_ORG', 'Long Island_X_2209_X_2220_X_LOC',\n",
       "        'the 1990s_X_2296_X_2305_X_DATE', '2006_X_2314_X_2318_X_DATE',\n",
       "        'the Notorious B.I.G._X_2480_X_2500_X_ORG',\n",
       "        'Smith_X_2572_X_2577_X_PERSON', 'Elektra_X_2719_X_2726_X_PRODUCT',\n",
       "        '2000_X_2788_X_2792_X_DATE', 'Smith_X_2946_X_2951_X_PERSON',\n",
       "        'November 2005_X_3000_X_3013_X_DATE',\n",
       "        \"''The Big Bang_X_3150_X_3164_X_WORK_OF_ART\",\n",
       "        'Kelefa Sanneh_X_3258_X_3271_X_PERSON',\n",
       "        \"The Big Bang'' for The New York Times_X_3285_X_3322_X_WORK_OF_ART\",\n",
       "        'June 2006_X_3326_X_3335_X_DATE', 'Sanneh_X_3456_X_3462_X_PERSON',\n",
       "        'Busta_X_3483_X_3488_X_PERSON', 'Smith_X_3557_X_3562_X_PERSON',\n",
       "        'Ramirez_X_3609_X_3616_X_PERSON',\n",
       "        'four months earlier_X_3633_X_3652_X_DATE',\n",
       "        'August_X_3661_X_3667_X_DATE', 'Smith_X_3716_X_3721_X_PERSON',\n",
       "        'Paul J. Browne_X_3908_X_3922_X_PERSON',\n",
       "        'Smith_X_4023_X_4028_X_PERSON', 'last August_X_4087_X_4098_X_DATE',\n",
       "        'Smith_X_4104_X_4109_X_PERSON',\n",
       "        'Randalls Island_X_4197_X_4212_X_FAC',\n",
       "        'January_X_4221_X_4228_X_DATE', 'Smith_X_4308_X_4313_X_PERSON',\n",
       "        'Smith_X_4363_X_4368_X_PERSON', 'Simpson_X_4518_X_4525_X_PERSON',\n",
       "        'Smith_X_4556_X_4561_X_PERSON', 'February_X_4584_X_4592_X_DATE',\n",
       "        'yesterday_X_4661_X_4670_X_DATE', 'Kennedy_X_4678_X_4685_X_PERSON',\n",
       "        'Smith_X_4759_X_4764_X_PERSON', 'next week_X_4773_X_4782_X_DATE',\n",
       "        'Scott E. Leemon_X_4788_X_4803_X_PERSON',\n",
       "        'Smith_X_4822_X_4827_X_PERSON',\n",
       "        'Schweiloch_X_4869_X_4879_X_PERSON',\n",
       "        'Manhattan_X_4894_X_4903_X_GPE', 'Kennedy_X_4934_X_4941_X_PERSON',\n",
       "        'Smith_X_4951_X_4956_X_PERSON',\n",
       "        'early yesterday_X_4985_X_5000_X_DATE',\n",
       "        'one_X_5055_X_5058_X_CARDINAL', 'Hennessey_X_5067_X_5076_X_GPE',\n",
       "        'about an hour and a half ago_X_5077_X_5105_X_TIME',\n",
       "        'Smith_X_5136_X_5141_X_PERSON', 'Smith_X_5307_X_5312_X_PERSON',\n",
       "        'Smith_X_5494_X_5499_X_PERSON', 'Manhattan_X_5589_X_5598_X_GPE',\n",
       "        'March_X_5670_X_5675_X_DATE', 'two_X_5755_X_5758_X_CARDINAL',\n",
       "        'Busta Rhymes_X_5933_X_5945_X_PERSON',\n",
       "        'John Fitzpatrick_X_6034_X_6050_X_PERSON'], dtype=object),\n",
       " 'sent_infor': array(['0_X_170', '170_X_171', '171_X_508', '509_X_608', '608_X_806',\n",
       "        '807_X_979', '979_X_980', '980_X_1134', '1135_X_1281',\n",
       "        '1282_X_1348', '1348_X_1349', '1349_X_1513', '1514_X_1797',\n",
       "        '1797_X_1798', '1798_X_1943', '1944_X_2124', '2124_X_2125',\n",
       "        '2125_X_2306', '2307_X_2557', '2557_X_2558', '2558_X_2680',\n",
       "        '2681_X_2892', '2892_X_2893', '2893_X_2996', '2997_X_3129',\n",
       "        '3130_X_3257', '3257_X_3451', '3452_X_3539', '3539_X_3540',\n",
       "        '3540_X_3604', '3605_X_3768', '3768_X_3769', '3769_X_3941',\n",
       "        '3942_X_4042', '4043_X_4081', '4081_X_4082', '4082_X_4213',\n",
       "        '4214_X_4358', '4358_X_4359', '4359_X_4507', '4508_X_4641',\n",
       "        '4641_X_4642', '4642_X_4783', '4784_X_4864', '4864_X_5108',\n",
       "        '5108_X_5240', '5241_X_5406', '5406_X_5407', '5407_X_5599',\n",
       "        '5600_X_5726', '5726_X_5727', '5727_X_5809', '5810_X_5899',\n",
       "        '5899_X_5902', '5902_X_6091'], dtype=object),\n",
       " 'title_text': \"Add a Drunken-Driving Charge to Busta Rhymes's Troubles.\\n\",\n",
       " 't_ent_infor': array([], dtype=object),\n",
       " 't_sent_infor': array(['0_X_56', '56_X_57'], dtype=object),\n",
       " 't_token_num': 13}"
      ]
     },
     "execution_count": 8,
     "metadata": {},
     "output_type": "execute_result"
    }
   ],
   "source": [
    "row.to_dict()"
   ]
  },
  {
   "cell_type": "raw",
   "id": "893e4f93",
   "metadata": {},
   "source": [
    "But when the police pulled over a sport utility vehicle in Manhattan early yesterday and determined that its driver and sole occupant, the rapper known as Busta Rhymes, was sufficiently impaired to be given a Breathalyzer test, it was the latest blow for an artist who has commanded a huge international following for more than a decade. Recently, under his real name, Trevor Smith, Busta Rhymes has been a regular on the police blotter."
   ]
  },
  {
   "cell_type": "raw",
   "id": "8ea1031b",
   "metadata": {},
   "source": [
    "The charges against Mr. Smith, who was born in Brooklyn and raised in Uniondale, on Long Island, have followed his career as a major figure in rap music and videos during the 1990s. Before 2006 he had largely stayed clear of the kind of violence and criminality associated with the personal lives and music of some other pioneering rap artists, including the Notorious B.I.G. and Tupac Shakur, who were killed in drive-by shootings."
   ]
  },
  {
   "cell_type": "raw",
   "id": "37d9e7bb",
   "metadata": {},
   "source": [
    "The charges against Mr . Smith , who was born in Brooklyn and raised in Union ##dale , on Long Island , have followed his career as a major figure in rap music and videos during the 1990s . Before 2006 he had largely stayed clear of the kind of violence and criminal ##ity associated with the personal lives and music of some other pioneering rap artists , including the Not ##orious B . I . G . and Tu ##pa ##c S ##hak ##ur , who were killed in drive - by shooting ##s ."
   ]
  },
  {
   "cell_type": "markdown",
   "id": "28fd0043",
   "metadata": {
    "heading_collapsed": true
   },
   "source": [
    "# Focused_Information_Extraction (\\_T_ & \\_P_)"
   ]
  },
  {
   "cell_type": "code",
   "execution_count": 1,
   "id": "b8968c6a",
   "metadata": {
    "ExecuteTime": {
     "end_time": "2023-12-29T00:31:05.212437Z",
     "start_time": "2023-12-29T00:31:00.951657Z"
    },
    "hidden": true
   },
   "outputs": [],
   "source": [
    "import re\n",
    "import pickle\n",
    "import pandas as pd\n",
    "import pyarrow.feather as feather"
   ]
  },
  {
   "cell_type": "code",
   "execution_count": 2,
   "id": "e2b747d1",
   "metadata": {
    "ExecuteTime": {
     "end_time": "2023-12-29T00:31:05.275055Z",
     "start_time": "2023-12-29T00:31:05.216437Z"
    },
    "code_folding": [
     0,
     39,
     69
    ],
    "hidden": true
   },
   "outputs": [],
   "source": [
    "def sutimetemp_filtering_fun(tempinfor):\n",
    "    def skip_temp_fun(text):\n",
    "        skip_temp_tag = False\n",
    "        if re.search('(.*weeks?)|(.*weekends?)|(.*years?)|(.*decades?)', text.lower()):\n",
    "            skip_temp_tag = True\n",
    "        if re.search('(several)|(a few)', text.lower()):\n",
    "            skip_temp_tag = True\n",
    "        if re.search(\"(the day)|(the other day)|(millennium)|(century)|(centuries)\",text.lower()):\n",
    "            skip_temp_tag = True\n",
    "        if re.search(\"(more)|(less)\",text.lower()):\n",
    "            skip_temp_tag = True\n",
    "        return skip_temp_tag\n",
    "\n",
    "    temp_list = []\n",
    "    for temp_dict in tempinfor:\n",
    "        try:\n",
    "            if temp_dict['type']==\"DATE\":\n",
    "                temp_text = temp_dict['text']\n",
    "                skip_temp_tag = skip_temp_fun(temp_text)\n",
    "                if skip_temp_tag:\n",
    "                    continue\n",
    "                t_infor = [temp_text, temp_dict['value'], temp_dict['start'], temp_dict['end']]\n",
    "                \n",
    "                if re.match(r'(([1-2]\\d{3})-((0[1-9])|(1[0-2]))-((0[1-9])|([1,2][0-9])|(3[0-1])))',temp_dict['value']):\n",
    "                    t_infor.append(\"day\")\n",
    "                    temp_list.append(t_infor)\n",
    "                    continue\n",
    "                if re.match(r'(([1-2]\\d{3})-((0[1-9])|(1[0-2])))',temp_dict['value']):\n",
    "                    t_infor.append(\"month\")\n",
    "                    temp_list.append(t_infor)\n",
    "                    continue\n",
    "                if re.match(r'([1-2]\\d{3})',temp_dict['value']):\n",
    "                    t_infor.append(\"year\")\n",
    "                    temp_list.append(t_infor)\n",
    "                    continue\n",
    "        except:\n",
    "            continue\n",
    "    return temp_list\n",
    "\n",
    "def replace_person_strings(ent_infor_l, text):\n",
    "    person_list = []\n",
    "    for entinfor in ent_infor_l:\n",
    "        if entinfor.endswith('PERSON'):\n",
    "            person_list.append(entinfor[:entinfor.find(\"_X_\")])\n",
    "    person_list = list(set(person_list))\n",
    "    person_list.sort(key=lambda s: len(s), reverse=True)\n",
    "    \n",
    "    replacements = []\n",
    "    for string in person_list:\n",
    "        start = 0\n",
    "        while start < len(text):\n",
    "            start = text.find(string, start)\n",
    "            if start == -1:\n",
    "                break\n",
    "            end = start + len(string)\n",
    "            replacements.append((start, end, \"_P_\" + string + \"_P_\"))\n",
    "            start = end\n",
    "    replacements.sort()\n",
    "\n",
    "    result = []\n",
    "    last_end = 0\n",
    "    for start, end, replacement in replacements:\n",
    "        if start >= last_end:\n",
    "            result.append(text[last_end:start])\n",
    "            result.append(replacement)\n",
    "            last_end = end\n",
    "    result.append(text[last_end:])\n",
    "    return ''.join(result)\n",
    "\n",
    "def return_text_focused_temp_data(text, sutimetemp_infor, sent_infor_list, ent_infor_list, title_tag = False):\n",
    "    sent_pos_list = []\n",
    "    for sent_infor in sent_infor_list:  \n",
    "        b_pos, e_pos = list(map(int, sent_infor.split(\"_X_\")))\n",
    "        sent_pos_list.append([b_pos, e_pos])\n",
    "    \n",
    "    focused_temp_data = []\n",
    "    org_temp_sentence_list = []\n",
    "    if len(sutimetemp_infor)!=0:\n",
    "        enttemp_pos  = []\n",
    "        for entinfor in ent_infor_list:\n",
    "            if entinfor.endswith('DATE'):\n",
    "                enttemp_pos.append(list(map(int,entinfor.split(\"_X_\")[1:3])))\n",
    "        \n",
    "        processed_sentence_index = []\n",
    "        for temp_infor in sutimetemp_infor:\n",
    "            temp_text, temp_value, b_pos, e_pos, temp_grad = temp_infor\n",
    "            ent_pos_tag = False\n",
    "            for ent_pos in enttemp_pos:\n",
    "                if b_pos==ent_pos[0] and e_pos==ent_pos[1]:\n",
    "                    ent_pos_tag = True\n",
    "                    break\n",
    "            \n",
    "            if ent_pos_tag:\n",
    "                for sent_i, sent_pos in enumerate(sent_pos_list):\n",
    "                    try:\n",
    "                        if sent_pos[0]<=b_pos<=e_pos<=sent_pos[1]:\n",
    "                            if sent_i not in processed_sentence_index:\n",
    "                                temp_sentence = text[sent_pos[0]:sent_pos[1]]\n",
    "                                assert temp_text == temp_sentence[b_pos-sent_pos[0]:e_pos-sent_pos[0]]\n",
    "                                tagged_temp_sent = temp_sentence[:b_pos-sent_pos[0]]+\"_T_\"+temp_text+\"_T_\"+temp_sentence[e_pos-sent_pos[0]:]\n",
    "                                focused_temp_data.append([tagged_temp_sent, [(temp_text, temp_value, temp_grad)]])\n",
    "                                processed_sentence_index.append(sent_i)\n",
    "                                org_temp_sentence_list.append(temp_sentence)\n",
    "                            else:\n",
    "                                temp_sentence = focused_temp_data[-1][0]\n",
    "                                add_space = temp_sentence.count(\"_T_\")*3\n",
    "                                assert temp_text == temp_sentence[b_pos-sent_pos[0]+add_space:e_pos-sent_pos[0]+add_space]\n",
    "                                tagged_temp_sent = temp_sentence[:b_pos-sent_pos[0]+add_space]+\"_T_\"+temp_text+\"_T_\"+temp_sentence[e_pos-sent_pos[0]+add_space:]\n",
    "                                focused_temp_data[-1][0] = tagged_temp_sent\n",
    "                                assert \"\\n\" not in temp_text\n",
    "                                focused_temp_data[-1][1].append((temp_text, temp_value, temp_grad))\n",
    "                    except:\n",
    "                        continue\n",
    "    assert len(org_temp_sentence_list)==len(focused_temp_data)\n",
    "    \n",
    "    if title_tag:\n",
    "        title_focused_temp_data = [\"Place_Holder\", []]\n",
    "        for i in range(len(focused_temp_data)):\n",
    "            tagged_temp_sent = focused_temp_data[i][0]\n",
    "            text = text.replace(org_temp_sentence_list[i], tagged_temp_sent)\n",
    "            title_focused_temp_data[1].extend(focused_temp_data[i][1])\n",
    "        text = replace_person_strings(ent_infor_list, text)\n",
    "        title_focused_temp_data[0] = text.replace(\"\\n\",\" \").strip()\n",
    "        return title_focused_temp_data\n",
    "    else:\n",
    "        for i in range(len(focused_temp_data)):\n",
    "            focused_temp_data[i][0] = replace_person_strings(ent_infor_list, focused_temp_data[i][0])\n",
    "            focused_temp_data[i][0] = focused_temp_data[i][0].replace(\"\\n\",\" \").strip()\n",
    "        return focused_temp_data"
   ]
  },
  {
   "cell_type": "code",
   "execution_count": 3,
   "id": "646ab7a6",
   "metadata": {
    "ExecuteTime": {
     "end_time": "2023-12-29T01:34:20.249111Z",
     "start_time": "2023-12-29T00:31:05.278056Z"
    },
    "hidden": true
   },
   "outputs": [
    {
     "name": "stdout",
     "output_type": "stream",
     "text": [
      "Processing 0-th File.\n",
      "0; 10000; 20000; 30000; 40000; 50000; 60000; 70000; 80000; 90000; 100000; 110000; 120000; 130000; 140000; 150000; 160000; Processing 1-th File.\n",
      "0; 10000; 20000; 30000; 40000; 50000; 60000; 70000; 80000; 90000; 100000; 110000; 120000; 130000; 140000; 150000; 160000; Processing 2-th File.\n",
      "0; 10000; 20000; 30000; 40000; 50000; 60000; 70000; 80000; 90000; 100000; 110000; 120000; 130000; 140000; 150000; 160000; Processing 3-th File.\n",
      "0; 10000; 20000; 30000; 40000; 50000; 60000; 70000; 80000; 90000; 100000; 110000; 120000; 130000; 140000; 150000; 160000; Processing 4-th File.\n",
      "0; 10000; 20000; 30000; 40000; 50000; 60000; 70000; 80000; 90000; 100000; 110000; 120000; 130000; 140000; 150000; 160000; Processing 5-th File.\n",
      "0; 10000; 20000; 30000; 40000; 50000; 60000; 70000; 80000; 90000; 100000; 110000; 120000; 130000; 140000; 150000; 160000; Processing 6-th File.\n",
      "0; 10000; 20000; 30000; 40000; 50000; 60000; 70000; 80000; 90000; 100000; 110000; 120000; 130000; 140000; 150000; 160000; Processing 7-th File.\n",
      "0; 10000; 20000; 30000; 40000; 50000; 60000; 70000; 80000; 90000; 100000; 110000; 120000; 130000; 140000; 150000; 160000; Processing 8-th File.\n",
      "0; 10000; 20000; 30000; 40000; 50000; 60000; 70000; 80000; 90000; 100000; 110000; 120000; 130000; 140000; 150000; 160000; Processing 9-th File.\n",
      "0; 10000; 20000; 30000; 40000; 50000; 60000; 70000; 80000; 90000; 100000; 110000; 120000; 130000; 140000; 150000; 160000; "
     ]
    }
   ],
   "source": [
    "for i in range(10):\n",
    "    nyt_file = f\"./0_Corpus/0_NYT_Data_Extraction/1_NYT_FilteredData_Files/{i}_NYT_filtered_data.feather\"\n",
    "    nyt_data = feather.read_feather(nyt_file)\n",
    "    entinforANDsentidx_file = f\"0_Corpus/0_NYT_Data_Extraction/2_EntInfor_AND_SentIdxInfor_Files/{i}_final_filtered_entinforANDsentidx.feather\"\n",
    "    entinforANDsentidx_data = feather.read_feather(entinforANDsentidx_file)\n",
    "    entinforANDsentidx_data = entinforANDsentidx_data.rename(columns={\"ID\":\"file_id\"})\n",
    "    title_entinforANDsentidx_file = f\"0_Corpus/0_NYT_Data_Extraction/3_EntInfor_AND_SentIdxInfor-Titles_Files/{i}_final_filtered_entinforANDsentidx-title.feather\"\n",
    "    title_entinforANDsentidx_data = feather.read_feather(title_entinforANDsentidx_file)\n",
    "    title_entinforANDsentidx_data = title_entinforANDsentidx_data.rename(columns={\"ID\":\"file_id\", \"ent_infor\":\"t_ent_infor\", \"sent_infor\":\"t_sent_infor\", \"token_num\":\"t_token_num\"})\n",
    "    combined_pd = pd.merge(nyt_data, entinforANDsentidx_data, on=\"file_id\")\n",
    "    combined_pd = pd.merge(combined_pd, title_entinforANDsentidx_data, on=\"file_id\")\n",
    "    \n",
    "    maintext_tempinfor_file = f\"0_Corpus/1_Pretraining_Preprocessing/3_Temporal_Information_Data/0_Maintext_TempInfor_Files/{i}_maintext_sutime_tempinfor.pickle\"\n",
    "    docid2maintext_tempinfor_dict = pickle.load(open(maintext_tempinfor_file,'rb'))\n",
    "    titletext_tempinfor_file = f\"0_Corpus/1_Pretraining_Preprocessing/3_Temporal_Information_Data/1_Titletext_TempInfor_Files/{i}_titletext_sutime_tempinfor.pickle\"\n",
    "    docid2titletext_tempinfor_dict = pickle.load(open(titletext_tempinfor_file,'rb'))\n",
    "    assert len(nyt_data)==len(entinforANDsentidx_data)==len(title_entinforANDsentidx_data)==len(combined_pd)==len(docid2maintext_tempinfor_dict)==len(docid2titletext_tempinfor_dict)\n",
    "    \n",
    "    print(f\"Processing {i}-th File.\")\n",
    "    docid2tempinfor_dict = dict()\n",
    "    for row_idx, row in combined_pd.iterrows():\n",
    "        if row_idx%10000==0:\n",
    "            print(row_idx,end=\"; \")\n",
    "\n",
    "        docid = row[\"file_id\"]\n",
    "        main_text = row[\"body_text\"]\n",
    "        main_sent_infor = row[\"sent_infor\"]\n",
    "        main_ent_infor = row[\"ent_infor\"]\n",
    "        title_text = row[\"title_text\"]\n",
    "        title_ent_infor = row[\"t_ent_infor\"]\n",
    "        title_sent_infor = row[\"t_sent_infor\"]\n",
    "        main_sutimetemp_infor = sutimetemp_filtering_fun(docid2maintext_tempinfor_dict[docid])\n",
    "        title_sutimetemp_infor = sutimetemp_filtering_fun(docid2titletext_tempinfor_dict[docid])\n",
    "        main_focused_temp_data = return_text_focused_temp_data(main_text, main_sutimetemp_infor, main_sent_infor, main_ent_infor)\n",
    "        title_focused_temp_data = return_text_focused_temp_data(title_text, title_sutimetemp_infor, title_sent_infor, title_ent_infor, title_tag=True)\n",
    "        \n",
    "        docid2tempinfor_dict[docid] = [main_focused_temp_data, title_focused_temp_data]\n",
    "        \n",
    "    save_file = f\"./0_Corpus/0_ExtendMethod_Data/0_Focused_Information_Data/{i}_focused_tempinfor_data.pickle\"\n",
    "    pickle.dump(docid2tempinfor_dict, open(save_file, \"wb\"))"
   ]
  },
  {
   "cell_type": "code",
   "execution_count": null,
   "id": "35896a88",
   "metadata": {
    "hidden": true
   },
   "outputs": [],
   "source": []
  },
  {
   "cell_type": "markdown",
   "id": "2dbb5300",
   "metadata": {
    "hidden": true
   },
   "source": [
    "## Person Raw Extraction"
   ]
  },
  {
   "cell_type": "code",
   "execution_count": 3,
   "id": "6566573b",
   "metadata": {
    "hidden": true
   },
   "outputs": [
    {
     "name": "stdout",
     "output_type": "stream",
     "text": [
      "Processing 0-th File.\n",
      "0; 10000; 20000; 30000; 40000; 50000; 60000; 70000; 80000; 90000; 100000; 110000; 120000; 130000; 140000; 150000; 160000; 633925\n",
      "Processing 1-th File.\n",
      "0; 10000; 20000; 30000; 40000; 50000; 60000; 70000; 80000; 90000; 100000; 110000; 120000; 130000; 140000; 150000; 160000; 1072855\n",
      "Processing 2-th File.\n",
      "0; 10000; 20000; 30000; 40000; 50000; 60000; 70000; 80000; 90000; 100000; 110000; 120000; 130000; 140000; 150000; 160000; 1447850\n",
      "Processing 3-th File.\n",
      "0; 10000; 20000; 30000; 40000; 50000; 60000; 70000; 80000; 90000; 100000; 110000; 120000; 130000; 140000; 150000; 160000; 1786486\n",
      "Processing 4-th File.\n",
      "0; 10000; 20000; 30000; 40000; 50000; 60000; 70000; 80000; 90000; 100000; 110000; 120000; 130000; 140000; 150000; 160000; 2099774\n",
      "Processing 5-th File.\n",
      "0; 10000; 20000; 30000; 40000; 50000; 60000; 70000; 80000; 90000; 100000; 110000; 120000; 130000; 140000; 150000; 160000; 2393592\n",
      "Processing 6-th File.\n",
      "0; 10000; 20000; 30000; 40000; 50000; 60000; 70000; 80000; 90000; 100000; 110000; 120000; 130000; 140000; 150000; 160000; 2671565\n",
      "Processing 7-th File.\n",
      "0; 10000; 20000; 30000; 40000; 50000; 60000; 70000; 80000; 90000; 100000; 110000; 120000; 130000; 140000; 150000; 160000; 2936399\n",
      "Processing 8-th File.\n",
      "0; 10000; 20000; 30000; 40000; 50000; 60000; 70000; 80000; 90000; 100000; 110000; 120000; 130000; 140000; 150000; 160000; 3193620\n",
      "Processing 9-th File.\n",
      "0; 10000; 20000; 30000; 40000; 50000; 60000; 70000; 80000; 90000; 100000; 110000; 120000; 130000; 140000; 150000; 160000; 3437300\n"
     ]
    }
   ],
   "source": [
    "total_person_set = set()\n",
    "for i in range(10):\n",
    "    nyt_file = f\"./0_Corpus/0_NYT_Data_Extraction/1_NYT_FilteredData_Files/{i}_NYT_filtered_data.feather\"\n",
    "    nyt_data = feather.read_feather(nyt_file)\n",
    "    entinforANDsentidx_file = f\"0_Corpus/0_NYT_Data_Extraction/2_EntInfor_AND_SentIdxInfor_Files/{i}_final_filtered_entinforANDsentidx.feather\"\n",
    "    entinforANDsentidx_data = feather.read_feather(entinforANDsentidx_file)\n",
    "    entinforANDsentidx_data = entinforANDsentidx_data.rename(columns={\"ID\":\"file_id\"})\n",
    "    title_entinforANDsentidx_file = f\"0_Corpus/0_NYT_Data_Extraction/3_EntInfor_AND_SentIdxInfor-Titles_Files/{i}_final_filtered_entinforANDsentidx-title.feather\"\n",
    "    title_entinforANDsentidx_data = feather.read_feather(title_entinforANDsentidx_file)\n",
    "    title_entinforANDsentidx_data = title_entinforANDsentidx_data.rename(columns={\"ID\":\"file_id\", \"ent_infor\":\"t_ent_infor\", \"sent_infor\":\"t_sent_infor\", \"token_num\":\"t_token_num\"})\n",
    "    combined_pd = pd.merge(nyt_data, entinforANDsentidx_data, on=\"file_id\")\n",
    "    combined_pd = pd.merge(combined_pd, title_entinforANDsentidx_data, on=\"file_id\")\n",
    "    print(f\"Processing {i}-th File.\")\n",
    "    for row_idx, row in combined_pd.iterrows():\n",
    "        if row_idx%10000==0:\n",
    "            print(row_idx,end=\"; \")\n",
    "        docid = row[\"file_id\"]\n",
    "        main_ent_infor = row[\"ent_infor\"]\n",
    "        title_ent_infor = row[\"t_ent_infor\"]\n",
    "\n",
    "        person_set = set()\n",
    "        for entinfor in title_ent_infor.tolist()+main_ent_infor.tolist():\n",
    "            if entinfor.endswith('PERSON'):\n",
    "                person_set.add(entinfor[:entinfor.find(\"_X_\")])\n",
    "        total_person_set.update(set(person_set))\n",
    "    print(len(total_person_set))\n",
    "save_file = f\"./0_Corpus/0_ExtendMethod_Data/0_Focused_Information_Data/total_person_set.pickle\"\n",
    "pickle.dump(total_person_set, open(save_file, \"wb\"))"
   ]
  },
  {
   "cell_type": "code",
   "execution_count": 14,
   "id": "ee111402",
   "metadata": {
    "hidden": true
   },
   "outputs": [],
   "source": [
    "from pytorch_pretrained_bert import BertTokenizer, BasicTokenizer\n",
    "tokenizer = BertTokenizer.from_pretrained('bert-base-cased')\n",
    "basic_tokenizer = BasicTokenizer(do_lower_case=False)\n",
    "\n",
    "perslen2ids = dict()\n",
    "for pers in total_person_set:\n",
    "    tokenized_text = tokenizer.tokenize(pers)\n",
    "    indexed_tokens = tokenizer.convert_tokens_to_ids(tokenized_text)\n",
    "    tokens_len = len(indexed_tokens)\n",
    "    if tokens_len>15:\n",
    "        continue\n",
    "    if tokens_len not in perslen2ids:\n",
    "        perslen2ids[tokens_len] = [indexed_tokens]\n",
    "    else:\n",
    "        perslen2ids[tokens_len].append(indexed_tokens)\n",
    "save_file = f\"./0_Corpus/0_ExtendMethod_Data/0_Focused_Information_Data/perslen2ids_dict.pickle\"\n",
    "pickle.dump(perslen2ids, open(save_file, \"wb\"))"
   ]
  },
  {
   "cell_type": "markdown",
   "id": "e4698aa5",
   "metadata": {
    "hidden": true
   },
   "source": [
    "## Same Month Extraction"
   ]
  },
  {
   "cell_type": "code",
   "execution_count": 1,
   "id": "df4d318b",
   "metadata": {
    "hidden": true
   },
   "outputs": [
    {
     "name": "stderr",
     "output_type": "stream",
     "text": [
      "The pre-trained model you are loading is a cased model but you have not set `do_lower_case` to False. We are setting `do_lower_case=False` for you but you may want to check this behavior.\n"
     ]
    }
   ],
   "source": [
    "import re\n",
    "import pickle\n",
    "import pandas as pd\n",
    "import pyarrow.feather as feather\n",
    "from pytorch_pretrained_bert import BertTokenizer, BasicTokenizer\n",
    "tokenizer = BertTokenizer.from_pretrained('bert-base-cased')\n",
    "basic_tokenizer = BasicTokenizer(do_lower_case=False)\n",
    "\n",
    "date_to_idx_dict=dict()\n",
    "count = 0\n",
    "for year_i in range(1987,2008):\n",
    "    if year_i==2007:\n",
    "        for month in range(1,7):\n",
    "            date = str(year_i)+str(month).zfill(2)\n",
    "            date_to_idx_dict[date] = count\n",
    "            count+=1\n",
    "        break\n",
    "    for month in range(1,13):\n",
    "        date = str(year_i)+str(month).zfill(2)\n",
    "        date_to_idx_dict[date] = count\n",
    "        count+=1"
   ]
  },
  {
   "cell_type": "code",
   "execution_count": null,
   "id": "98a5b96c",
   "metadata": {
    "hidden": true
   },
   "outputs": [],
   "source": [
    "date2person_dict = dict()\n",
    "date2pertext_dict = dict()\n",
    "for i in range(10):\n",
    "    nyt_file = f\"./0_Corpus/0_NYT_Data_Extraction/1_NYT_FilteredData_Files/{i}_NYT_filtered_data.feather\"\n",
    "    nyt_data = feather.read_feather(nyt_file)\n",
    "    entinforANDsentidx_file = f\"0_Corpus/0_NYT_Data_Extraction/2_EntInfor_AND_SentIdxInfor_Files/{i}_final_filtered_entinforANDsentidx.feather\"\n",
    "    entinforANDsentidx_data = feather.read_feather(entinforANDsentidx_file)\n",
    "    entinforANDsentidx_data = entinforANDsentidx_data.rename(columns={\"ID\":\"file_id\"})\n",
    "    title_entinforANDsentidx_file = f\"0_Corpus/0_NYT_Data_Extraction/3_EntInfor_AND_SentIdxInfor-Titles_Files/{i}_final_filtered_entinforANDsentidx-title.feather\"\n",
    "    title_entinforANDsentidx_data = feather.read_feather(title_entinforANDsentidx_file)\n",
    "    title_entinforANDsentidx_data = title_entinforANDsentidx_data.rename(columns={\"ID\":\"file_id\", \"ent_infor\":\"t_ent_infor\", \"sent_infor\":\"t_sent_infor\", \"token_num\":\"t_token_num\"})\n",
    "    combined_pd = pd.merge(nyt_data, entinforANDsentidx_data, on=\"file_id\")\n",
    "    combined_pd = pd.merge(combined_pd, title_entinforANDsentidx_data, on=\"file_id\")\n",
    "    combined_pd['dateidx'] = combined_pd['pub'].str[:6].map(date_to_idx_dict)\n",
    "    \n",
    "    for row_idx, row in combined_pd.iterrows():\n",
    "        if row_idx%10000==0:\n",
    "            print(row_idx,end=\"; \")\n",
    "        docid = row[\"file_id\"]\n",
    "        main_ent_infor = row[\"ent_infor\"]\n",
    "        title_ent_infor = row[\"t_ent_infor\"]\n",
    "        dateidx = row[\"dateidx\"]\n",
    "        if dateidx not in date2person_dict:\n",
    "            date2person_dict[dateidx] = dict()\n",
    "        if dateidx not in date2pertext_dict:\n",
    "            date2pertext_dict[dateidx] = set()\n",
    "        \n",
    "        for entinfor in title_ent_infor.tolist()+main_ent_infor.tolist():\n",
    "            if entinfor.endswith('PERSON'):\n",
    "                pers = entinfor[:entinfor.find(\"_X_\")]\n",
    "                tokenized_text = tokenizer.tokenize(pers)\n",
    "                if pers in date2pertext_dict[dateidx]:\n",
    "                    continue\n",
    "                date2pertext_dict[dateidx].add(pers)\n",
    "                indexed_tokens = tokenizer.convert_tokens_to_ids(tokenized_text)\n",
    "                tokens_len = len(indexed_tokens)\n",
    "                if tokens_len>10:\n",
    "                    continue\n",
    "                if tokens_len not in date2person_dict[dateidx]:\n",
    "                    date2person_dict[dateidx][tokens_len] = []\n",
    "                date2person_dict[dateidx][tokens_len].append(indexed_tokens)\n",
    "    \n",
    "save_file = f\"./0_Corpus/0_ExtendMethod_Data/0_Focused_Information_Data/refined_perslen2ids_dict.pickle\"\n",
    "pickle.dump(date2person_dict, open(save_file, \"wb\"))"
   ]
  },
  {
   "cell_type": "code",
   "execution_count": 5,
   "id": "015917e6",
   "metadata": {
    "hidden": true
   },
   "outputs": [
    {
     "name": "stdout",
     "output_type": "stream",
     "text": [
      "----------------------------------0----------------------------------\n",
      "1 1938; 2 8772; 3 8088; 4 8197; 5 4387; 6 2788; 7 1220; 8 553; 9 263; 10 175; \n",
      "----------------------------------1----------------------------------\n",
      "1 1872; 2 8755; 3 8053; 4 7944; 5 4197; 6 2808; 7 1184; 8 595; 9 261; 10 154; \n",
      "----------------------------------2----------------------------------\n",
      "1 2034; 2 9588; 3 9074; 4 8826; 5 4760; 6 3097; 7 1337; 8 645; 9 320; 10 172; \n",
      "----------------------------------3----------------------------------\n",
      "1 1960; 2 9345; 3 8781; 4 8565; 5 4602; 6 3009; 7 1263; 8 571; 9 270; 10 168; \n",
      "----------------------------------4----------------------------------\n",
      "1 2021; 2 9924; 3 9404; 4 9314; 5 5013; 6 3322; 7 1431; 8 707; 9 330; 10 179; \n",
      "----------------------------------5----------------------------------\n",
      "1 1965; 2 8979; 3 8253; 4 8345; 5 4438; 6 2862; 7 1245; 8 659; 9 275; 10 190; \n",
      "----------------------------------6----------------------------------\n",
      "1 1927; 2 8590; 3 8042; 4 7922; 5 4186; 6 2743; 7 1185; 8 583; 9 324; 10 162; \n",
      "----------------------------------7----------------------------------\n",
      "1 2004; 2 9492; 3 8850; 4 8568; 5 4571; 6 2922; 7 1241; 8 638; 9 316; 10 168; \n",
      "----------------------------------8----------------------------------\n",
      "1 1975; 2 9433; 3 8676; 4 8720; 5 4657; 6 2977; 7 1336; 8 623; 9 309; 10 172; \n",
      "----------------------------------9----------------------------------\n",
      "1 2031; 2 9736; 3 9380; 4 9173; 5 4992; 6 3226; 7 1353; 8 636; 9 304; 10 185; \n",
      "----------------------------------10----------------------------------\n",
      "1 2099; 2 10137; 3 9657; 4 9594; 5 5122; 6 3346; 7 1441; 8 593; 9 290; 10 167; \n",
      "----------------------------------11----------------------------------\n",
      "1 2084; 2 9979; 3 9447; 4 9222; 5 4835; 6 3236; 7 1370; 8 669; 9 301; 10 142; \n",
      "----------------------------------12----------------------------------\n",
      "1 2038; 2 9306; 3 8628; 4 8651; 5 4573; 6 3095; 7 1302; 8 653; 9 306; 10 143; \n",
      "----------------------------------13----------------------------------\n",
      "1 1945; 2 8936; 3 8447; 4 8430; 5 4392; 6 2999; 7 1238; 8 583; 9 264; 10 138; \n",
      "----------------------------------14----------------------------------\n",
      "1 2052; 2 9652; 3 9045; 4 9128; 5 4853; 6 3168; 7 1363; 8 628; 9 292; 10 173; \n",
      "----------------------------------15----------------------------------\n",
      "1 2015; 2 9552; 3 8854; 4 8899; 5 4692; 6 3110; 7 1404; 8 579; 9 268; 10 162; \n",
      "----------------------------------16----------------------------------\n",
      "1 2046; 2 9954; 3 9598; 4 9695; 5 5157; 6 3513; 7 1452; 8 656; 9 279; 10 156; \n",
      "----------------------------------17----------------------------------\n",
      "1 2017; 2 9115; 3 8689; 4 8759; 5 4804; 6 3360; 7 1350; 8 656; 9 282; 10 154; \n",
      "----------------------------------18----------------------------------\n",
      "1 2011; 2 9081; 3 8473; 4 8526; 5 4651; 6 3128; 7 1346; 8 639; 9 268; 10 136; \n",
      "----------------------------------19----------------------------------\n",
      "1 1939; 2 8991; 3 8323; 4 8178; 5 4495; 6 2965; 7 1255; 8 571; 9 246; 10 128; \n",
      "----------------------------------20----------------------------------\n",
      "1 2056; 2 9580; 3 8635; 4 8990; 5 4865; 6 3196; 7 1393; 8 640; 9 260; 10 142; \n",
      "----------------------------------21----------------------------------\n",
      "1 2064; 2 10196; 3 9584; 4 9608; 5 5267; 6 3469; 7 1512; 8 725; 9 304; 10 138; \n",
      "----------------------------------22----------------------------------\n",
      "1 2028; 2 9826; 3 8979; 4 9097; 5 4849; 6 3190; 7 1396; 8 693; 9 261; 10 153; \n",
      "----------------------------------23----------------------------------\n",
      "1 2033; 2 9680; 3 8972; 4 8949; 5 4782; 6 3133; 7 1365; 8 619; 9 278; 10 145; \n",
      "----------------------------------24----------------------------------\n",
      "1 2024; 2 9126; 3 8541; 4 8566; 5 4613; 6 3055; 7 1311; 8 609; 9 264; 10 159; \n",
      "----------------------------------25----------------------------------\n",
      "1 1904; 2 8498; 3 7996; 4 7792; 5 4245; 6 2871; 7 1167; 8 599; 9 262; 10 141; \n",
      "----------------------------------26----------------------------------\n",
      "1 2018; 2 9350; 3 8731; 4 8611; 5 4662; 6 3049; 7 1372; 8 678; 9 278; 10 180; \n",
      "----------------------------------27----------------------------------\n",
      "1 2062; 2 9541; 3 8995; 4 9117; 5 5031; 6 3203; 7 1442; 8 631; 9 313; 10 169; \n",
      "----------------------------------28----------------------------------\n",
      "1 2000; 2 9285; 3 8886; 4 8874; 5 4842; 6 3148; 7 1406; 8 594; 9 267; 10 169; \n",
      "----------------------------------29----------------------------------\n",
      "1 1991; 2 9043; 3 8462; 4 8683; 5 4638; 6 3088; 7 1342; 8 618; 9 306; 10 147; \n",
      "----------------------------------30----------------------------------\n",
      "1 1977; 2 8707; 3 8395; 4 8213; 5 4498; 6 3049; 7 1248; 8 604; 9 289; 10 161; \n",
      "----------------------------------31----------------------------------\n",
      "1 1952; 2 8678; 3 8124; 4 8022; 5 4347; 6 2882; 7 1232; 8 577; 9 302; 10 154; \n",
      "----------------------------------32----------------------------------\n",
      "1 2000; 2 9306; 3 8419; 4 8484; 5 4532; 6 3041; 7 1254; 8 587; 9 301; 10 164; \n",
      "----------------------------------33----------------------------------\n",
      "1 2057; 2 9917; 3 9328; 4 9299; 5 4932; 6 3350; 7 1423; 8 641; 9 286; 10 152; \n",
      "----------------------------------34----------------------------------\n",
      "1 2056; 2 9477; 3 8919; 4 9094; 5 4887; 6 3248; 7 1338; 8 647; 9 278; 10 171; \n",
      "----------------------------------35----------------------------------\n",
      "1 2104; 2 9964; 3 9468; 4 9346; 5 5086; 6 3367; 7 1495; 8 677; 9 318; 10 183; \n",
      "----------------------------------36----------------------------------\n",
      "1 2007; 2 9138; 3 8668; 4 8506; 5 4553; 6 3055; 7 1289; 8 625; 9 265; 10 159; \n",
      "----------------------------------37----------------------------------\n",
      "1 1910; 2 8495; 3 8128; 4 7882; 5 4196; 6 2794; 7 1206; 8 592; 9 286; 10 175; \n",
      "----------------------------------38----------------------------------\n",
      "1 2056; 2 9356; 3 8963; 4 8865; 5 4759; 6 3207; 7 1408; 8 654; 9 328; 10 165; \n",
      "----------------------------------39----------------------------------\n",
      "1 2032; 2 9862; 3 9307; 4 9105; 5 4904; 6 3260; 7 1370; 8 704; 9 318; 10 192; \n",
      "----------------------------------40----------------------------------\n",
      "1 2058; 2 9102; 3 8720; 4 8721; 5 4670; 6 3046; 7 1359; 8 639; 9 284; 10 170; \n",
      "----------------------------------41----------------------------------\n",
      "1 2006; 2 9026; 3 8570; 4 8519; 5 4543; 6 3057; 7 1332; 8 665; 9 297; 10 157; \n",
      "----------------------------------42----------------------------------\n",
      "1 2027; 2 8673; 3 8427; 4 8386; 5 4652; 6 3012; 7 1273; 8 609; 9 282; 10 159; \n",
      "----------------------------------43----------------------------------\n",
      "1 1928; 2 8835; 3 8312; 4 8367; 5 4455; 6 2950; 7 1210; 8 638; 9 250; 10 137; \n",
      "----------------------------------44----------------------------------\n",
      "1 1980; 2 9194; 3 8570; 4 8540; 5 4593; 6 3158; 7 1310; 8 622; 9 340; 10 180; \n",
      "----------------------------------45----------------------------------\n",
      "1 1987; 2 9078; 3 8744; 4 8601; 5 4729; 6 3126; 7 1354; 8 596; 9 326; 10 147; \n",
      "----------------------------------46----------------------------------\n",
      "1 1970; 2 9080; 3 8556; 4 8299; 5 4534; 6 2996; 7 1241; 8 601; 9 257; 10 140; \n",
      "----------------------------------47----------------------------------\n",
      "1 1996; 2 9234; 3 8676; 4 8608; 5 4574; 6 3014; 7 1261; 8 606; 9 276; 10 164; \n",
      "----------------------------------48----------------------------------\n",
      "1 1967; 2 8454; 3 7973; 4 7798; 5 4219; 6 2676; 7 1206; 8 566; 9 258; 10 145; \n",
      "----------------------------------49----------------------------------\n",
      "1 1858; 2 8074; 3 7616; 4 7415; 5 4003; 6 2584; 7 1060; 8 505; 9 233; 10 121; \n",
      "----------------------------------50----------------------------------\n",
      "1 1997; 2 9208; 3 8901; 4 8632; 5 4606; 6 3145; 7 1345; 8 686; 9 278; 10 170; \n",
      "----------------------------------51----------------------------------\n",
      "1 1931; 2 8350; 3 7775; 4 7768; 5 4127; 6 2705; 7 1121; 8 610; 9 255; 10 123; \n",
      "----------------------------------52----------------------------------\n",
      "1 1934; 2 8847; 3 8519; 4 8420; 5 4467; 6 2981; 7 1293; 8 656; 9 314; 10 158; \n",
      "----------------------------------53----------------------------------\n",
      "1 1922; 2 8779; 3 8343; 4 8226; 5 4383; 6 2895; 7 1346; 8 681; 9 272; 10 159; \n",
      "----------------------------------54----------------------------------\n",
      "1 1863; 2 8133; 3 7682; 4 7398; 5 3930; 6 2701; 7 1209; 8 591; 9 282; 10 153; \n",
      "----------------------------------55----------------------------------\n",
      "1 1854; 2 8394; 3 7887; 4 7555; 5 4022; 6 2687; 7 1296; 8 683; 9 321; 10 167; \n",
      "----------------------------------56----------------------------------\n",
      "1 1857; 2 8458; 3 7989; 4 8005; 5 4349; 6 2852; 7 1312; 8 691; 9 344; 10 192; \n",
      "----------------------------------57----------------------------------\n",
      "1 1929; 2 8342; 3 7988; 4 7623; 5 4068; 6 2806; 7 1214; 8 628; 9 299; 10 159; \n",
      "----------------------------------58----------------------------------\n",
      "1 1904; 2 8456; 3 7846; 4 7595; 5 4162; 6 2640; 7 1187; 8 596; 9 310; 10 152; \n",
      "----------------------------------59----------------------------------\n",
      "1 1907; 2 8674; 3 8155; 4 7824; 5 4270; 6 2820; 7 1253; 8 604; 9 276; 10 182; \n",
      "----------------------------------60----------------------------------\n",
      "1 1852; 2 7977; 3 7548; 4 7256; 5 3941; 6 2614; 7 1130; 8 569; 9 251; 10 139; \n",
      "----------------------------------61----------------------------------\n",
      "1 1851; 2 7965; 3 7474; 4 7469; 5 3895; 6 2561; 7 1148; 8 598; 9 231; 10 137; \n",
      "----------------------------------62----------------------------------\n",
      "1 1953; 2 8883; 3 8258; 4 8133; 5 4472; 6 2978; 7 1293; 8 686; 9 312; 10 191; \n",
      "----------------------------------63----------------------------------\n",
      "1 1909; 2 8436; 3 7886; 4 7757; 5 4157; 6 2810; 7 1203; 8 613; 9 311; 10 161; \n",
      "----------------------------------64----------------------------------\n",
      "1 1963; 2 9099; 3 8417; 4 8302; 5 4345; 6 2830; 7 1327; 8 646; 9 316; 10 166; \n",
      "----------------------------------65----------------------------------\n",
      "1 1959; 2 8517; 3 7932; 4 7877; 5 4190; 6 2811; 7 1196; 8 621; 9 260; 10 139; \n",
      "----------------------------------66----------------------------------\n",
      "1 1913; 2 8237; 3 7628; 4 7417; 5 3830; 6 2583; 7 1152; 8 583; 9 292; 10 146; \n",
      "----------------------------------67----------------------------------\n",
      "1 1905; 2 8317; 3 7822; 4 7742; 5 4104; 6 2731; 7 1271; 8 587; 9 307; 10 118; \n",
      "----------------------------------68----------------------------------\n",
      "1 1837; 2 8226; 3 7705; 4 7559; 5 4030; 6 2587; 7 1136; 8 539; 9 285; 10 151; \n",
      "----------------------------------69----------------------------------\n",
      "1 1990; 2 8571; 3 7989; 4 7987; 5 4232; 6 2687; 7 1206; 8 567; 9 286; 10 128; \n",
      "----------------------------------70----------------------------------\n",
      "1 1966; 2 9038; 3 8341; 4 8188; 5 4542; 6 2840; 7 1290; 8 619; 9 289; 10 154; \n",
      "----------------------------------71----------------------------------\n",
      "1 1803; 2 8410; 3 7782; 4 7737; 5 3928; 6 2742; 7 1116; 8 537; 9 261; 10 151; \n",
      "----------------------------------72----------------------------------\n",
      "1 1853; 2 8363; 3 7658; 4 7407; 5 3953; 6 2497; 7 1122; 8 561; 9 249; 10 134; \n",
      "----------------------------------73----------------------------------\n",
      "1 1819; 2 7573; 3 7179; 4 6818; 5 3542; 6 2196; 7 1039; 8 505; 9 220; 10 128; \n",
      "----------------------------------74----------------------------------\n",
      "1 1892; 2 8235; 3 7754; 4 7426; 5 3957; 6 2577; 7 1155; 8 578; 9 310; 10 178; \n",
      "----------------------------------75----------------------------------\n",
      "1 1876; 2 8380; 3 7741; 4 7483; 5 3886; 6 2428; 7 1116; 8 573; 9 249; 10 141; \n",
      "----------------------------------76----------------------------------\n",
      "1 1945; 2 8556; 3 8214; 4 8131; 5 4232; 6 2881; 7 1314; 8 650; 9 313; 10 148; \n",
      "----------------------------------77----------------------------------\n",
      "1 1937; 2 8269; 3 8032; 4 7734; 5 4104; 6 2665; 7 1190; 8 606; 9 283; 10 139; \n",
      "----------------------------------78----------------------------------\n",
      "1 1883; 2 8087; 3 7423; 4 7006; 5 3834; 6 2484; 7 1152; 8 550; 9 281; 10 136; \n",
      "----------------------------------79----------------------------------\n",
      "1 1945; 2 8370; 3 7975; 4 7674; 5 3954; 6 2640; 7 1192; 8 632; 9 285; 10 153; \n",
      "----------------------------------80----------------------------------\n",
      "1 1856; 2 7965; 3 7382; 4 7230; 5 3816; 6 2491; 7 1138; 8 609; 9 299; 10 147; \n",
      "----------------------------------81----------------------------------\n",
      "1 1991; 2 9465; 3 8998; 4 8871; 5 4562; 6 3098; 7 1350; 8 656; 9 313; 10 190; \n",
      "----------------------------------82----------------------------------\n",
      "1 1896; 2 8781; 3 8220; 4 7868; 5 4141; 6 2690; 7 1212; 8 569; 9 287; 10 170; \n",
      "----------------------------------83----------------------------------\n",
      "1 1884; 2 8501; 3 7777; 4 7679; 5 4006; 6 2643; 7 1205; 8 654; 9 310; 10 158; \n",
      "----------------------------------84----------------------------------\n",
      "1 1925; 2 8475; 3 7799; 4 7455; 5 3968; 6 2607; 7 1172; 8 586; 9 290; 10 176; \n",
      "----------------------------------85----------------------------------\n",
      "1 1858; 2 7698; 3 7087; 4 6836; 5 3739; 6 2349; 7 1079; 8 522; 9 245; 10 135; \n",
      "----------------------------------86----------------------------------\n",
      "1 1952; 2 8592; 3 8100; 4 7904; 5 4044; 6 2590; 7 1228; 8 599; 9 264; 10 157; \n",
      "----------------------------------87----------------------------------\n",
      "1 1862; 2 7971; 3 7470; 4 7385; 5 3677; 6 2486; 7 1126; 8 588; 9 257; 10 150; \n",
      "----------------------------------88----------------------------------\n",
      "1 1986; 2 8774; 3 8289; 4 8083; 5 4295; 6 2857; 7 1293; 8 683; 9 315; 10 158; \n",
      "----------------------------------89----------------------------------\n",
      "1 1892; 2 8350; 3 7794; 4 7604; 5 3930; 6 2604; 7 1174; 8 598; 9 270; 10 147; \n",
      "----------------------------------90----------------------------------\n",
      "1 1923; 2 8171; 3 7768; 4 7426; 5 3936; 6 2518; 7 1102; 8 560; 9 276; 10 154; \n",
      "----------------------------------91----------------------------------\n",
      "1 1865; 2 8008; 3 7295; 4 7057; 5 3727; 6 2349; 7 1072; 8 538; 9 278; 10 137; \n",
      "----------------------------------92----------------------------------\n",
      "1 1887; 2 8330; 3 7751; 4 7532; 5 3885; 6 2568; 7 1099; 8 557; 9 288; 10 176; \n",
      "----------------------------------93----------------------------------\n",
      "1 1960; 2 8989; 3 8245; 4 8037; 5 4152; 6 2709; 7 1165; 8 562; 9 305; 10 151; \n",
      "----------------------------------94----------------------------------\n",
      "1 1860; 2 8711; 3 7786; 4 7536; 5 3789; 6 2503; 7 1113; 8 539; 9 287; 10 148; \n",
      "----------------------------------95----------------------------------\n",
      "1 1822; 2 8090; 3 7427; 4 7044; 5 3643; 6 2340; 7 1010; 8 520; 9 276; 10 114; \n",
      "----------------------------------96----------------------------------\n",
      "1 1896; 2 8007; 3 7524; 4 7089; 5 3616; 6 2404; 7 1025; 8 511; 9 270; 10 133; \n",
      "----------------------------------97----------------------------------\n",
      "1 1791; 2 7723; 3 6852; 4 6437; 5 3294; 6 2092; 7 968; 8 442; 9 231; 10 130; \n",
      "----------------------------------98----------------------------------\n",
      "1 1920; 2 7964; 3 7444; 4 7048; 5 3739; 6 2355; 7 1013; 8 517; 9 287; 10 153; \n",
      "----------------------------------99----------------------------------\n",
      "1 2009; 2 9014; 3 8476; 4 8047; 5 4089; 6 2589; 7 1170; 8 579; 9 295; 10 157; \n",
      "----------------------------------100----------------------------------\n",
      "1 1891; 2 8667; 3 8066; 4 7738; 5 3973; 6 2616; 7 1171; 8 595; 9 275; 10 148; \n",
      "----------------------------------101----------------------------------\n",
      "1 1914; 2 8108; 3 7690; 4 7152; 5 3933; 6 2500; 7 1094; 8 553; 9 305; 10 143; \n",
      "----------------------------------102----------------------------------\n",
      "1 1933; 2 8304; 3 7610; 4 7159; 5 3823; 6 2473; 7 1080; 8 489; 9 244; 10 140; \n",
      "----------------------------------103----------------------------------\n",
      "1 1923; 2 8226; 3 7641; 4 7207; 5 3602; 6 2387; 7 1065; 8 527; 9 248; 10 132; \n",
      "----------------------------------104----------------------------------\n",
      "1 1918; 2 8367; 3 7452; 4 7422; 5 3845; 6 2447; 7 1078; 8 535; 9 251; 10 139; \n",
      "----------------------------------105----------------------------------\n",
      "1 2106; 2 9545; 3 8839; 4 8691; 5 4538; 6 2817; 7 1263; 8 638; 9 379; 10 211; \n",
      "----------------------------------106----------------------------------\n",
      "1 2005; 2 9102; 3 8226; 4 7669; 5 4014; 6 2546; 7 1185; 8 644; 9 299; 10 163; \n",
      "----------------------------------107----------------------------------\n",
      "1 2022; 2 9084; 3 8259; 4 7901; 5 4023; 6 2611; 7 1175; 8 564; 9 328; 10 156; \n",
      "----------------------------------108----------------------------------\n",
      "1 2067; 2 9019; 3 8350; 4 7872; 5 3982; 6 2554; 7 1133; 8 560; 9 273; 10 148; \n",
      "----------------------------------109----------------------------------\n",
      "1 2040; 2 9145; 3 8204; 4 7669; 5 3886; 6 2582; 7 1107; 8 619; 9 275; 10 163; \n",
      "----------------------------------110----------------------------------\n",
      "1 2152; 2 10334; 3 9443; 4 8882; 5 4651; 6 2984; 7 1276; 8 662; 9 357; 10 169; \n",
      "----------------------------------111----------------------------------\n",
      "1 2040; 2 8960; 3 8324; 4 7884; 5 4073; 6 2703; 7 1114; 8 608; 9 295; 10 169; \n",
      "----------------------------------112----------------------------------\n",
      "1 2058; 2 9497; 3 8918; 4 8380; 5 4456; 6 2831; 7 1239; 8 622; 9 309; 10 185; \n",
      "----------------------------------113----------------------------------\n",
      "1 2099; 2 9535; 3 8935; 4 8657; 5 4572; 6 2879; 7 1290; 8 626; 9 337; 10 200; \n",
      "----------------------------------114----------------------------------\n",
      "1 2012; 2 8960; 3 8392; 4 7986; 5 4273; 6 2770; 7 1218; 8 603; 9 293; 10 183; \n",
      "----------------------------------115----------------------------------\n",
      "1 1957; 2 8532; 3 7958; 4 7539; 5 3893; 6 2456; 7 1112; 8 580; 9 281; 10 150; \n",
      "----------------------------------116----------------------------------\n",
      "1 2046; 2 9244; 3 8686; 4 8247; 5 4478; 6 2747; 7 1289; 8 674; 9 321; 10 170; \n",
      "----------------------------------117----------------------------------\n",
      "1 2016; 2 9151; 3 8516; 4 8146; 5 4316; 6 2746; 7 1169; 8 636; 9 296; 10 162; \n",
      "----------------------------------118----------------------------------\n",
      "1 2036; 2 8975; 3 8117; 4 7728; 5 4125; 6 2594; 7 1141; 8 605; 9 301; 10 166; \n",
      "----------------------------------119----------------------------------\n",
      "1 2043; 2 9095; 3 8410; 4 7938; 5 4179; 6 2773; 7 1201; 8 640; 9 293; 10 185; \n",
      "----------------------------------120----------------------------------\n",
      "1 2029; 2 9098; 3 8596; 4 8348; 5 4256; 6 2800; 7 1269; 8 697; 9 337; 10 217; \n",
      "----------------------------------121----------------------------------\n",
      "1 2094; 2 9095; 3 8619; 4 8160; 5 4271; 6 2825; 7 1284; 8 641; 9 322; 10 184; \n",
      "----------------------------------122----------------------------------\n",
      "1 2151; 2 10590; 3 9893; 4 9736; 5 5118; 6 3334; 7 1496; 8 738; 9 369; 10 213; \n",
      "----------------------------------123----------------------------------\n",
      "1 2100; 2 9408; 3 9051; 4 8559; 5 4568; 6 2860; 7 1325; 8 691; 9 337; 10 167; \n",
      "----------------------------------124----------------------------------\n",
      "1 2106; 2 9898; 3 9344; 4 9015; 5 4820; 6 3097; 7 1400; 8 703; 9 339; 10 200; \n",
      "----------------------------------125----------------------------------\n",
      "1 2118; 2 10056; 3 9486; 4 9020; 5 4769; 6 3213; 7 1355; 8 744; 9 347; 10 196; \n",
      "----------------------------------126----------------------------------\n",
      "1 2067; 2 9105; 3 8725; 4 8373; 5 4351; 6 2848; 7 1277; 8 664; 9 314; 10 178; \n",
      "----------------------------------127----------------------------------\n",
      "1 2126; 2 9724; 3 9351; 4 8819; 5 4657; 6 2983; 7 1390; 8 699; 9 378; 10 206; \n",
      "----------------------------------128----------------------------------\n",
      "1 2098; 2 10228; 3 9776; 4 9435; 5 4951; 6 3147; 7 1425; 8 738; 9 378; 10 205; \n",
      "----------------------------------129----------------------------------\n",
      "1 2207; 2 10998; 3 10408; 4 9984; 5 5385; 6 3383; 7 1537; 8 786; 9 387; 10 220; \n",
      "----------------------------------130----------------------------------\n",
      "1 2230; 2 11156; 3 10482; 4 10045; 5 5303; 6 3390; 7 1515; 8 715; 9 391; 10 234; \n",
      "----------------------------------131----------------------------------\n",
      "1 2156; 2 10618; 3 9975; 4 9513; 5 5043; 6 3108; 7 1443; 8 729; 9 360; 10 238; \n",
      "----------------------------------132----------------------------------\n",
      "1 2207; 2 10411; 3 9866; 4 9307; 5 4824; 6 3124; 7 1477; 8 745; 9 373; 10 219; \n",
      "----------------------------------133----------------------------------\n",
      "1 2120; 2 10191; 3 9550; 4 9047; 5 4803; 6 3013; 7 1391; 8 699; 9 358; 10 220; \n",
      "----------------------------------134----------------------------------\n",
      "1 2280; 2 11342; 3 10823; 4 10230; 5 5480; 6 3425; 7 1600; 8 828; 9 429; 10 252; \n",
      "----------------------------------135----------------------------------\n",
      "1 2201; 2 10629; 3 9992; 4 9636; 5 4812; 6 3038; 7 1424; 8 726; 9 372; 10 231; \n",
      "----------------------------------136----------------------------------\n",
      "1 2256; 2 11524; 3 10944; 4 10289; 5 5414; 6 3465; 7 1518; 8 843; 9 423; 10 241; \n",
      "----------------------------------137----------------------------------\n",
      "1 2192; 2 10413; 3 9908; 4 9395; 5 4895; 6 3140; 7 1451; 8 754; 9 368; 10 231; \n",
      "----------------------------------138----------------------------------\n",
      "1 2196; 2 10650; 3 10134; 4 9469; 5 5012; 6 3137; 7 1366; 8 686; 9 363; 10 258; \n",
      "----------------------------------139----------------------------------\n",
      "1 2187; 2 10649; 3 10330; 4 9740; 5 5113; 6 3198; 7 1487; 8 743; 9 392; 10 222; \n",
      "----------------------------------140----------------------------------\n",
      "1 2257; 2 10948; 3 10406; 4 9970; 5 5325; 6 3284; 7 1548; 8 841; 9 399; 10 270; \n",
      "----------------------------------141----------------------------------\n",
      "1 2262; 2 11074; 3 10634; 4 10105; 5 5377; 6 3319; 7 1576; 8 827; 9 371; 10 234; \n",
      "----------------------------------142----------------------------------\n",
      "1 2315; 2 11771; 3 11243; 4 10612; 5 5504; 6 3366; 7 1583; 8 798; 9 376; 10 211; \n",
      "----------------------------------143----------------------------------\n",
      "1 2192; 2 11050; 3 10194; 4 9718; 5 4968; 6 3156; 7 1433; 8 745; 9 405; 10 248; \n",
      "----------------------------------144----------------------------------\n",
      "1 2264; 2 11217; 3 10700; 4 10069; 5 5328; 6 3300; 7 1567; 8 804; 9 447; 10 250; \n",
      "----------------------------------145----------------------------------\n",
      "1 2211; 2 10496; 3 9969; 4 9211; 5 4837; 6 2953; 7 1368; 8 712; 9 398; 10 210; \n",
      "----------------------------------146----------------------------------\n",
      "1 2251; 2 11479; 3 10724; 4 10319; 5 5440; 6 3519; 7 1565; 8 813; 9 435; 10 246; \n",
      "----------------------------------147----------------------------------\n",
      "1 2179; 2 11189; 3 10304; 4 9673; 5 5123; 6 3278; 7 1495; 8 774; 9 380; 10 247; \n",
      "----------------------------------148----------------------------------\n",
      "1 2316; 2 11414; 3 11136; 4 10493; 5 5578; 6 3627; 7 1611; 8 784; 9 418; 10 249; \n",
      "----------------------------------149----------------------------------\n",
      "1 2179; 2 10429; 3 10210; 4 9631; 5 5167; 6 3311; 7 1459; 8 750; 9 375; 10 219; \n",
      "----------------------------------150----------------------------------\n",
      "1 2194; 2 10602; 3 9867; 4 9370; 5 4916; 6 3035; 7 1454; 8 747; 9 361; 10 231; \n",
      "----------------------------------151----------------------------------\n",
      "1 2226; 2 11120; 3 10432; 4 9978; 5 5137; 6 3312; 7 1551; 8 808; 9 431; 10 225; \n",
      "----------------------------------152----------------------------------\n",
      "1 2200; 2 11179; 3 10466; 4 9887; 5 5229; 6 3246; 7 1496; 8 743; 9 386; 10 246; \n",
      "----------------------------------153----------------------------------\n",
      "1 2320; 2 11829; 3 11204; 4 10626; 5 5607; 6 3562; 7 1656; 8 836; 9 430; 10 257; \n",
      "----------------------------------154----------------------------------\n",
      "1 2319; 2 11385; 3 10958; 4 10224; 5 5398; 6 3365; 7 1530; 8 765; 9 408; 10 257; \n",
      "----------------------------------155----------------------------------\n",
      "1 2237; 2 11252; 3 10714; 4 10100; 5 5282; 6 3308; 7 1603; 8 799; 9 417; 10 248; \n",
      "----------------------------------156----------------------------------\n",
      "1 2235; 2 11298; 3 10831; 4 10049; 5 5336; 6 3271; 7 1485; 8 799; 9 431; 10 287; \n",
      "----------------------------------157----------------------------------\n",
      "1 2217; 2 10897; 3 10222; 4 9456; 5 4936; 6 3089; 7 1403; 8 743; 9 370; 10 223; \n",
      "----------------------------------158----------------------------------\n",
      "1 2261; 2 11499; 3 10738; 4 10263; 5 5555; 6 3377; 7 1549; 8 832; 9 399; 10 283; \n",
      "----------------------------------159----------------------------------\n",
      "1 2269; 2 11665; 3 10834; 4 10223; 5 5360; 6 3340; 7 1480; 8 716; 9 417; 10 279; \n",
      "----------------------------------160----------------------------------\n",
      "1 2288; 2 11358; 3 10609; 4 9996; 5 5110; 6 3357; 7 1539; 8 822; 9 413; 10 232; \n",
      "----------------------------------161----------------------------------\n",
      "1 2246; 2 11319; 3 10630; 4 10126; 5 5215; 6 3241; 7 1526; 8 729; 9 399; 10 258; \n",
      "----------------------------------162----------------------------------\n",
      "1 2202; 2 11108; 3 10704; 4 10017; 5 5213; 6 3211; 7 1489; 8 778; 9 424; 10 230; \n",
      "----------------------------------163----------------------------------\n",
      "1 2267; 2 11039; 3 10512; 4 9808; 5 5035; 6 3248; 7 1368; 8 677; 9 360; 10 220; \n",
      "----------------------------------164----------------------------------\n",
      "1 2261; 2 11739; 3 10997; 4 10678; 5 5604; 6 3509; 7 1533; 8 797; 9 468; 10 244; \n",
      "----------------------------------165----------------------------------\n",
      "1 2327; 2 11953; 3 11433; 4 10818; 5 5728; 6 3497; 7 1617; 8 815; 9 466; 10 245; \n",
      "----------------------------------166----------------------------------\n",
      "1 2305; 2 12025; 3 11674; 4 10570; 5 5506; 6 4636; 7 1524; 8 884; 9 547; 10 292; \n",
      "----------------------------------167----------------------------------\n",
      "1 2295; 2 12048; 3 11370; 4 10743; 5 5596; 6 3580; 7 1647; 8 777; 9 441; 10 251; \n",
      "----------------------------------168----------------------------------\n",
      "1 2273; 2 11008; 3 10314; 4 9700; 5 5040; 6 3159; 7 1394; 8 780; 9 436; 10 259; \n",
      "----------------------------------169----------------------------------\n",
      "1 2283; 2 10551; 3 10371; 4 9468; 5 4920; 6 3155; 7 1429; 8 736; 9 418; 10 247; \n",
      "----------------------------------170----------------------------------\n",
      "1 2253; 2 10901; 3 10477; 4 9914; 5 5215; 6 3374; 7 1531; 8 798; 9 446; 10 262; \n",
      "----------------------------------171----------------------------------\n",
      "1 2275; 2 11151; 3 10376; 4 9833; 5 5258; 6 3327; 7 1507; 8 800; 9 392; 10 224; \n",
      "----------------------------------172----------------------------------\n",
      "1 2329; 2 11370; 3 10890; 4 10439; 5 5199; 6 3355; 7 1610; 8 781; 9 449; 10 258; \n",
      "----------------------------------173----------------------------------\n",
      "1 2231; 2 10861; 3 10323; 4 9696; 5 5117; 6 3190; 7 1513; 8 692; 9 387; 10 230; \n",
      "----------------------------------174----------------------------------\n",
      "1 2253; 2 10711; 3 10172; 4 9574; 5 5166; 6 3167; 7 1534; 8 745; 9 388; 10 238; \n",
      "----------------------------------175----------------------------------\n",
      "1 2243; 2 10767; 3 10048; 4 9407; 5 4965; 6 3085; 7 1469; 8 743; 9 415; 10 248; \n",
      "----------------------------------176----------------------------------\n",
      "1 2253; 2 11754; 3 11144; 4 10593; 5 5640; 6 3569; 7 1690; 8 867; 9 464; 10 274; \n",
      "----------------------------------177----------------------------------\n",
      "1 2346; 2 11629; 3 11090; 4 10364; 5 5476; 6 3487; 7 1619; 8 907; 9 480; 10 283; \n",
      "----------------------------------178----------------------------------\n",
      "1 2332; 2 11630; 3 11181; 4 10590; 5 5525; 6 3638; 7 1681; 8 875; 9 529; 10 315; \n",
      "----------------------------------179----------------------------------\n",
      "1 2391; 2 11565; 3 11251; 4 10634; 5 5514; 6 3582; 7 1673; 8 896; 9 483; 10 338; \n",
      "----------------------------------180----------------------------------\n",
      "1 2243; 2 10453; 3 10117; 4 9726; 5 5082; 6 3355; 7 1492; 8 781; 9 410; 10 250; \n",
      "----------------------------------181----------------------------------\n",
      "1 2209; 2 10642; 3 10144; 4 9403; 5 4993; 6 3088; 7 1395; 8 723; 9 369; 10 231; \n",
      "----------------------------------182----------------------------------\n",
      "1 2354; 2 11990; 3 11387; 4 10782; 5 5642; 6 3588; 7 1719; 8 909; 9 407; 10 283; \n",
      "----------------------------------183----------------------------------\n",
      "1 2252; 2 10937; 3 10427; 4 9751; 5 5279; 6 3306; 7 1536; 8 758; 9 399; 10 211; \n",
      "----------------------------------184----------------------------------\n",
      "1 2313; 2 11622; 3 11187; 4 10481; 5 5576; 6 3456; 7 1575; 8 828; 9 422; 10 267; \n",
      "----------------------------------185----------------------------------\n",
      "1 2262; 2 11206; 3 10937; 4 10300; 5 5445; 6 3493; 7 1582; 8 778; 9 413; 10 278; \n",
      "----------------------------------186----------------------------------\n",
      "1 2221; 2 10444; 3 10070; 4 9405; 5 4878; 6 3191; 7 1440; 8 754; 9 385; 10 239; \n",
      "----------------------------------187----------------------------------\n",
      "1 2200; 2 10647; 3 10058; 4 9373; 5 4810; 6 3060; 7 1411; 8 783; 9 394; 10 188; \n",
      "----------------------------------188----------------------------------\n",
      "1 2366; 2 12490; 3 11899; 4 11469; 5 5987; 6 3810; 7 1729; 8 941; 9 466; 10 272; \n",
      "----------------------------------189----------------------------------\n",
      "1 2356; 2 11957; 3 11102; 4 10619; 5 5592; 6 3689; 7 1670; 8 859; 9 455; 10 257; \n",
      "----------------------------------190----------------------------------\n",
      "1 2344; 2 11603; 3 11218; 4 10514; 5 5533; 6 3467; 7 1584; 8 794; 9 371; 10 240; \n",
      "----------------------------------191----------------------------------\n",
      "1 2309; 2 11467; 3 10856; 4 10292; 5 5376; 6 3418; 7 1563; 8 783; 9 405; 10 238; \n",
      "----------------------------------192----------------------------------\n",
      "1 2257; 2 10830; 3 10109; 4 9441; 5 5049; 6 3294; 7 1509; 8 809; 9 422; 10 213; \n",
      "----------------------------------193----------------------------------\n",
      "1 2254; 2 10418; 3 9838; 4 9292; 5 4918; 6 3038; 7 1464; 8 688; 9 377; 10 201; \n",
      "----------------------------------194----------------------------------\n",
      "1 2313; 2 11580; 3 11015; 4 10230; 5 5403; 6 3558; 7 1598; 8 864; 9 436; 10 231; \n",
      "----------------------------------195----------------------------------\n",
      "1 2297; 2 10989; 3 10515; 4 9747; 5 5171; 6 3285; 7 1458; 8 864; 9 432; 10 231; \n",
      "----------------------------------196----------------------------------\n",
      "1 2266; 2 11262; 3 10634; 4 10020; 5 5370; 6 3357; 7 1594; 8 847; 9 409; 10 212; \n",
      "----------------------------------197----------------------------------\n",
      "1 2314; 2 11428; 3 10985; 4 10018; 5 5364; 6 3334; 7 1478; 8 780; 9 368; 10 206; \n",
      "----------------------------------198----------------------------------\n",
      "1 2280; 2 10455; 3 10044; 4 9348; 5 4891; 6 3121; 7 1373; 8 729; 9 345; 10 198; \n",
      "----------------------------------199----------------------------------\n",
      "1 2235; 2 11008; 3 10496; 4 9775; 5 5012; 6 3152; 7 1449; 8 748; 9 360; 10 215; \n",
      "----------------------------------200----------------------------------\n",
      "1 2238; 2 11007; 3 10222; 4 9754; 5 5130; 6 3199; 7 1366; 8 730; 9 327; 10 222; \n",
      "----------------------------------201----------------------------------\n",
      "1 2266; 2 11193; 3 10531; 4 9883; 5 5087; 6 3259; 7 1521; 8 746; 9 365; 10 193; \n",
      "----------------------------------202----------------------------------\n",
      "1 2356; 2 11904; 3 11244; 4 10589; 5 5477; 6 4631; 7 1578; 8 943; 9 473; 10 271; \n",
      "----------------------------------203----------------------------------\n",
      "1 2269; 2 10827; 3 10103; 4 9757; 5 4947; 6 3160; 7 1368; 8 737; 9 344; 10 196; \n",
      "----------------------------------204----------------------------------\n",
      "1 2274; 2 10719; 3 10050; 4 9347; 5 4722; 6 3022; 7 1408; 8 709; 9 345; 10 221; \n",
      "----------------------------------205----------------------------------\n",
      "1 2251; 2 10953; 3 10314; 4 9554; 5 4980; 6 3159; 7 1417; 8 680; 9 370; 10 229; \n",
      "----------------------------------206----------------------------------\n",
      "1 2264; 2 10929; 3 10724; 4 9932; 5 5119; 6 3321; 7 1439; 8 710; 9 349; 10 216; \n",
      "----------------------------------207----------------------------------\n",
      "1 2228; 2 10531; 3 10118; 4 9657; 5 4860; 6 3090; 7 1409; 8 723; 9 353; 10 182; \n",
      "----------------------------------208----------------------------------\n",
      "1 2304; 2 11457; 3 10778; 4 10134; 5 5432; 6 3305; 7 1536; 8 754; 9 354; 10 218; \n",
      "----------------------------------209----------------------------------\n",
      "1 2244; 2 10570; 3 9991; 4 9455; 5 4840; 6 3079; 7 1351; 8 702; 9 380; 10 195; \n",
      "----------------------------------210----------------------------------\n",
      "1 2196; 2 10591; 3 10119; 4 9474; 5 4885; 6 3056; 7 1313; 8 710; 9 347; 10 153; \n",
      "----------------------------------211----------------------------------\n",
      "1 2249; 2 10787; 3 10444; 4 9748; 5 5278; 6 3199; 7 1402; 8 675; 9 295; 10 169; \n",
      "----------------------------------212----------------------------------\n",
      "1 2263; 2 11165; 3 10482; 4 9775; 5 5163; 6 3198; 7 1461; 8 639; 9 311; 10 142; \n",
      "----------------------------------213----------------------------------\n",
      "1 2340; 2 11842; 3 11195; 4 10407; 5 5334; 6 3362; 7 1482; 8 735; 9 321; 10 165; \n",
      "----------------------------------214----------------------------------\n",
      "1 2265; 2 11189; 3 10481; 4 9907; 5 5045; 6 3025; 7 1380; 8 632; 9 300; 10 143; \n",
      "----------------------------------215----------------------------------\n",
      "1 2242; 2 10826; 3 10257; 4 9570; 5 4903; 6 3054; 7 1354; 8 664; 9 329; 10 168; \n",
      "----------------------------------216----------------------------------\n",
      "1 2301; 2 11004; 3 10614; 4 9856; 5 5141; 6 3184; 7 1389; 8 678; 9 340; 10 166; \n",
      "----------------------------------217----------------------------------\n",
      "1 2178; 2 10385; 3 9864; 4 9114; 5 4687; 6 2936; 7 1338; 8 631; 9 290; 10 150; \n",
      "----------------------------------218----------------------------------\n",
      "1 2298; 2 11087; 3 10600; 4 10190; 5 5247; 6 3197; 7 1433; 8 712; 9 279; 10 143; \n",
      "----------------------------------219----------------------------------\n",
      "1 2260; 2 10965; 3 10479; 4 9743; 5 5103; 6 3239; 7 1469; 8 747; 9 333; 10 147; \n",
      "----------------------------------220----------------------------------\n",
      "1 2322; 2 11671; 3 11044; 4 10420; 5 5431; 6 3373; 7 1542; 8 751; 9 305; 10 182; \n",
      "----------------------------------221----------------------------------\n",
      "1 2264; 2 10915; 3 10184; 4 9436; 5 5099; 6 3072; 7 1445; 8 647; 9 301; 10 157; \n",
      "----------------------------------222----------------------------------\n",
      "1 2315; 2 11249; 3 10804; 4 9905; 5 5245; 6 3375; 7 1517; 8 673; 9 318; 10 164; \n",
      "----------------------------------223----------------------------------\n",
      "1 2235; 2 10934; 3 10519; 4 9690; 5 4922; 6 3161; 7 1289; 8 645; 9 288; 10 168; \n",
      "----------------------------------224----------------------------------\n",
      "1 2303; 2 11760; 3 10989; 4 10254; 5 5386; 6 3354; 7 1447; 8 713; 9 337; 10 172; \n",
      "----------------------------------225----------------------------------\n",
      "1 2322; 2 11735; 3 11078; 4 10434; 5 5365; 6 3385; 7 1527; 8 736; 9 319; 10 151; \n",
      "----------------------------------226----------------------------------\n",
      "1 2307; 2 11297; 3 10638; 4 9915; 5 5005; 6 3248; 7 1440; 8 690; 9 323; 10 184; \n",
      "----------------------------------227----------------------------------\n",
      "1 2249; 2 10972; 3 10353; 4 9603; 5 5096; 6 3200; 7 1440; 8 694; 9 356; 10 176; \n",
      "----------------------------------228----------------------------------\n",
      "1 2289; 2 11190; 3 10650; 4 10037; 5 5088; 6 3224; 7 1414; 8 724; 9 361; 10 198; \n",
      "----------------------------------229----------------------------------\n",
      "1 2256; 2 10524; 3 10056; 4 9494; 5 4920; 6 3139; 7 1432; 8 698; 9 299; 10 149; \n",
      "----------------------------------230----------------------------------\n",
      "1 2307; 2 11404; 3 11090; 4 10127; 5 5341; 6 3496; 7 1536; 8 783; 9 342; 10 176; \n",
      "----------------------------------231----------------------------------\n",
      "1 2327; 2 11399; 3 10700; 4 10039; 5 5229; 6 3312; 7 1465; 8 764; 9 351; 10 180; \n",
      "----------------------------------232----------------------------------\n",
      "1 2220; 2 11126; 3 10641; 4 10119; 5 5168; 6 3269; 7 1442; 8 714; 9 346; 10 182; \n",
      "----------------------------------233----------------------------------\n",
      "1 2286; 2 10917; 3 10376; 4 9777; 5 5247; 6 3230; 7 1439; 8 732; 9 326; 10 171; \n",
      "----------------------------------234----------------------------------\n",
      "1 2255; 2 10873; 3 10438; 4 9814; 5 5296; 6 3285; 7 1504; 8 768; 9 348; 10 183; \n",
      "----------------------------------235----------------------------------\n",
      "1 2232; 2 10755; 3 10088; 4 9612; 5 5196; 6 3256; 7 1423; 8 660; 9 311; 10 190; \n",
      "----------------------------------236----------------------------------\n",
      "1 2279; 2 11292; 3 10788; 4 10130; 5 5362; 6 3375; 7 1499; 8 707; 9 323; 10 191; \n",
      "----------------------------------237----------------------------------\n",
      "1 2325; 2 11662; 3 11246; 4 10596; 5 5521; 6 3514; 7 1504; 8 724; 9 375; 10 166; \n",
      "----------------------------------238----------------------------------\n",
      "1 2276; 2 11497; 3 10993; 4 10207; 5 5273; 6 3288; 7 1484; 8 708; 9 367; 10 196; \n",
      "----------------------------------239----------------------------------\n",
      "1 2278; 2 11107; 3 10633; 4 10020; 5 5264; 6 3458; 7 1502; 8 760; 9 369; 10 185; \n",
      "----------------------------------240----------------------------------\n",
      "1 2267; 2 10932; 3 10095; 4 9579; 5 5050; 6 3103; 7 1399; 8 673; 9 307; 10 172; \n",
      "----------------------------------241----------------------------------\n",
      "1 2218; 2 10545; 3 9891; 4 9338; 5 4783; 6 3119; 7 1338; 8 680; 9 283; 10 162; \n",
      "----------------------------------242----------------------------------\n",
      "1 2337; 2 11663; 3 10995; 4 10193; 5 5301; 6 3352; 7 1537; 8 758; 9 334; 10 181; \n",
      "----------------------------------243----------------------------------\n",
      "1 2315; 2 11013; 3 10608; 4 9791; 5 5240; 6 3347; 7 1429; 8 726; 9 309; 10 184; \n",
      "----------------------------------244----------------------------------\n",
      "1 2249; 2 11049; 3 10590; 4 10006; 5 5263; 6 3392; 7 1461; 8 740; 9 349; 10 185; \n",
      "----------------------------------245----------------------------------\n",
      "1 1922; 2 7594; 3 7157; 4 6512; 5 3502; 6 2218; 7 953; 8 452; 9 209; 10 135; \n"
     ]
    }
   ],
   "source": [
    "for month in range(246):\n",
    "    print(f\"----------------------------------{month}----------------------------------\")\n",
    "    for length in range(1,11):\n",
    "        print(length,len(date2person_dict[month][length]), end = \"; \")\n",
    "    print()"
   ]
  },
  {
   "cell_type": "code",
   "execution_count": 2,
   "id": "7a180e1b",
   "metadata": {
    "hidden": true
   },
   "outputs": [],
   "source": [
    "import pickle\n",
    "save_file = f\"./0_Corpus/0_ExtendMethod_Data/4_Additional_Required_Data/2_refined_perslen2ids_dict.pickle\"\n",
    "date2person_dict = pickle.load(open(save_file, 'rb'))\n",
    "\n",
    "date2person6tokens_dict = dict()\n",
    "for month in range(246):\n",
    "    date2person6tokens_dict[month] = dict()\n",
    "    for length in range(1,7):\n",
    "        date2person6tokens_dict[month][length] = date2person_dict[month][length]\n",
    "\n",
    "save_file = f\"./0_Corpus/0_ExtendMethod_Data/4_Additional_Required_Data/2_refined_perslen2ids6tokens_dict.pickle\"\n",
    "pickle.dump(date2person6tokens_dict, open(save_file, \"wb\"))"
   ]
  },
  {
   "cell_type": "code",
   "execution_count": 4,
   "id": "13c29782",
   "metadata": {
    "hidden": true
   },
   "outputs": [
    {
     "name": "stdout",
     "output_type": "stream",
     "text": [
      "----------------------------------0----------------------------------\n",
      "1 1938; 2 8772; 3 8088; 4 8197; 5 4387; 6 2788; \n",
      "----------------------------------1----------------------------------\n",
      "1 1872; 2 8755; 3 8053; 4 7944; 5 4197; 6 2808; \n",
      "----------------------------------2----------------------------------\n",
      "1 2034; 2 9588; 3 9074; 4 8826; 5 4760; 6 3097; \n",
      "----------------------------------3----------------------------------\n",
      "1 1960; 2 9345; 3 8781; 4 8565; 5 4602; 6 3009; \n",
      "----------------------------------4----------------------------------\n",
      "1 2021; 2 9924; 3 9404; 4 9314; 5 5013; 6 3322; \n",
      "----------------------------------5----------------------------------\n",
      "1 1965; 2 8979; 3 8253; 4 8345; 5 4438; 6 2862; \n",
      "----------------------------------6----------------------------------\n",
      "1 1927; 2 8590; 3 8042; 4 7922; 5 4186; 6 2743; \n",
      "----------------------------------7----------------------------------\n",
      "1 2004; 2 9492; 3 8850; 4 8568; 5 4571; 6 2922; \n",
      "----------------------------------8----------------------------------\n",
      "1 1975; 2 9433; 3 8676; 4 8720; 5 4657; 6 2977; \n",
      "----------------------------------9----------------------------------\n",
      "1 2031; 2 9736; 3 9380; 4 9173; 5 4992; 6 3226; \n",
      "----------------------------------10----------------------------------\n",
      "1 2099; 2 10137; 3 9657; 4 9594; 5 5122; 6 3346; \n",
      "----------------------------------11----------------------------------\n",
      "1 2084; 2 9979; 3 9447; 4 9222; 5 4835; 6 3236; \n",
      "----------------------------------12----------------------------------\n",
      "1 2038; 2 9306; 3 8628; 4 8651; 5 4573; 6 3095; \n",
      "----------------------------------13----------------------------------\n",
      "1 1945; 2 8936; 3 8447; 4 8430; 5 4392; 6 2999; \n",
      "----------------------------------14----------------------------------\n",
      "1 2052; 2 9652; 3 9045; 4 9128; 5 4853; 6 3168; \n",
      "----------------------------------15----------------------------------\n",
      "1 2015; 2 9552; 3 8854; 4 8899; 5 4692; 6 3110; \n",
      "----------------------------------16----------------------------------\n",
      "1 2046; 2 9954; 3 9598; 4 9695; 5 5157; 6 3513; \n",
      "----------------------------------17----------------------------------\n",
      "1 2017; 2 9115; 3 8689; 4 8759; 5 4804; 6 3360; \n",
      "----------------------------------18----------------------------------\n",
      "1 2011; 2 9081; 3 8473; 4 8526; 5 4651; 6 3128; \n",
      "----------------------------------19----------------------------------\n",
      "1 1939; 2 8991; 3 8323; 4 8178; 5 4495; 6 2965; \n",
      "----------------------------------20----------------------------------\n",
      "1 2056; 2 9580; 3 8635; 4 8990; 5 4865; 6 3196; \n",
      "----------------------------------21----------------------------------\n",
      "1 2064; 2 10196; 3 9584; 4 9608; 5 5267; 6 3469; \n",
      "----------------------------------22----------------------------------\n",
      "1 2028; 2 9826; 3 8979; 4 9097; 5 4849; 6 3190; \n",
      "----------------------------------23----------------------------------\n",
      "1 2033; 2 9680; 3 8972; 4 8949; 5 4782; 6 3133; \n",
      "----------------------------------24----------------------------------\n",
      "1 2024; 2 9126; 3 8541; 4 8566; 5 4613; 6 3055; \n",
      "----------------------------------25----------------------------------\n",
      "1 1904; 2 8498; 3 7996; 4 7792; 5 4245; 6 2871; \n",
      "----------------------------------26----------------------------------\n",
      "1 2018; 2 9350; 3 8731; 4 8611; 5 4662; 6 3049; \n",
      "----------------------------------27----------------------------------\n",
      "1 2062; 2 9541; 3 8995; 4 9117; 5 5031; 6 3203; \n",
      "----------------------------------28----------------------------------\n",
      "1 2000; 2 9285; 3 8886; 4 8874; 5 4842; 6 3148; \n",
      "----------------------------------29----------------------------------\n",
      "1 1991; 2 9043; 3 8462; 4 8683; 5 4638; 6 3088; \n",
      "----------------------------------30----------------------------------\n",
      "1 1977; 2 8707; 3 8395; 4 8213; 5 4498; 6 3049; \n",
      "----------------------------------31----------------------------------\n",
      "1 1952; 2 8678; 3 8124; 4 8022; 5 4347; 6 2882; \n",
      "----------------------------------32----------------------------------\n",
      "1 2000; 2 9306; 3 8419; 4 8484; 5 4532; 6 3041; \n",
      "----------------------------------33----------------------------------\n",
      "1 2057; 2 9917; 3 9328; 4 9299; 5 4932; 6 3350; \n",
      "----------------------------------34----------------------------------\n",
      "1 2056; 2 9477; 3 8919; 4 9094; 5 4887; 6 3248; \n",
      "----------------------------------35----------------------------------\n",
      "1 2104; 2 9964; 3 9468; 4 9346; 5 5086; 6 3367; \n",
      "----------------------------------36----------------------------------\n",
      "1 2007; 2 9138; 3 8668; 4 8506; 5 4553; 6 3055; \n",
      "----------------------------------37----------------------------------\n",
      "1 1910; 2 8495; 3 8128; 4 7882; 5 4196; 6 2794; \n",
      "----------------------------------38----------------------------------\n",
      "1 2056; 2 9356; 3 8963; 4 8865; 5 4759; 6 3207; \n",
      "----------------------------------39----------------------------------\n",
      "1 2032; 2 9862; 3 9307; 4 9105; 5 4904; 6 3260; \n",
      "----------------------------------40----------------------------------\n",
      "1 2058; 2 9102; 3 8720; 4 8721; 5 4670; 6 3046; \n",
      "----------------------------------41----------------------------------\n",
      "1 2006; 2 9026; 3 8570; 4 8519; 5 4543; 6 3057; \n",
      "----------------------------------42----------------------------------\n",
      "1 2027; 2 8673; 3 8427; 4 8386; 5 4652; 6 3012; \n",
      "----------------------------------43----------------------------------\n",
      "1 1928; 2 8835; 3 8312; 4 8367; 5 4455; 6 2950; \n",
      "----------------------------------44----------------------------------\n",
      "1 1980; 2 9194; 3 8570; 4 8540; 5 4593; 6 3158; \n",
      "----------------------------------45----------------------------------\n",
      "1 1987; 2 9078; 3 8744; 4 8601; 5 4729; 6 3126; \n",
      "----------------------------------46----------------------------------\n",
      "1 1970; 2 9080; 3 8556; 4 8299; 5 4534; 6 2996; \n",
      "----------------------------------47----------------------------------\n",
      "1 1996; 2 9234; 3 8676; 4 8608; 5 4574; 6 3014; \n",
      "----------------------------------48----------------------------------\n",
      "1 1967; 2 8454; 3 7973; 4 7798; 5 4219; 6 2676; \n",
      "----------------------------------49----------------------------------\n",
      "1 1858; 2 8074; 3 7616; 4 7415; 5 4003; 6 2584; \n",
      "----------------------------------50----------------------------------\n",
      "1 1997; 2 9208; 3 8901; 4 8632; 5 4606; 6 3145; \n",
      "----------------------------------51----------------------------------\n",
      "1 1931; 2 8350; 3 7775; 4 7768; 5 4127; 6 2705; \n",
      "----------------------------------52----------------------------------\n",
      "1 1934; 2 8847; 3 8519; 4 8420; 5 4467; 6 2981; \n",
      "----------------------------------53----------------------------------\n",
      "1 1922; 2 8779; 3 8343; 4 8226; 5 4383; 6 2895; \n",
      "----------------------------------54----------------------------------\n",
      "1 1863; 2 8133; 3 7682; 4 7398; 5 3930; 6 2701; \n",
      "----------------------------------55----------------------------------\n",
      "1 1854; 2 8394; 3 7887; 4 7555; 5 4022; 6 2687; \n",
      "----------------------------------56----------------------------------\n",
      "1 1857; 2 8458; 3 7989; 4 8005; 5 4349; 6 2852; \n",
      "----------------------------------57----------------------------------\n",
      "1 1929; 2 8342; 3 7988; 4 7623; 5 4068; 6 2806; \n",
      "----------------------------------58----------------------------------\n",
      "1 1904; 2 8456; 3 7846; 4 7595; 5 4162; 6 2640; \n",
      "----------------------------------59----------------------------------\n",
      "1 1907; 2 8674; 3 8155; 4 7824; 5 4270; 6 2820; \n",
      "----------------------------------60----------------------------------\n",
      "1 1852; 2 7977; 3 7548; 4 7256; 5 3941; 6 2614; \n",
      "----------------------------------61----------------------------------\n",
      "1 1851; 2 7965; 3 7474; 4 7469; 5 3895; 6 2561; \n",
      "----------------------------------62----------------------------------\n",
      "1 1953; 2 8883; 3 8258; 4 8133; 5 4472; 6 2978; \n",
      "----------------------------------63----------------------------------\n",
      "1 1909; 2 8436; 3 7886; 4 7757; 5 4157; 6 2810; \n",
      "----------------------------------64----------------------------------\n",
      "1 1963; 2 9099; 3 8417; 4 8302; 5 4345; 6 2830; \n",
      "----------------------------------65----------------------------------\n",
      "1 1959; 2 8517; 3 7932; 4 7877; 5 4190; 6 2811; \n",
      "----------------------------------66----------------------------------\n",
      "1 1913; 2 8237; 3 7628; 4 7417; 5 3830; 6 2583; \n",
      "----------------------------------67----------------------------------\n",
      "1 1905; 2 8317; 3 7822; 4 7742; 5 4104; 6 2731; \n",
      "----------------------------------68----------------------------------\n",
      "1 1837; 2 8226; 3 7705; 4 7559; 5 4030; 6 2587; \n",
      "----------------------------------69----------------------------------\n",
      "1 1990; 2 8571; 3 7989; 4 7987; 5 4232; 6 2687; \n",
      "----------------------------------70----------------------------------\n",
      "1 1966; 2 9038; 3 8341; 4 8188; 5 4542; 6 2840; \n",
      "----------------------------------71----------------------------------\n",
      "1 1803; 2 8410; 3 7782; 4 7737; 5 3928; 6 2742; \n",
      "----------------------------------72----------------------------------\n",
      "1 1853; 2 8363; 3 7658; 4 7407; 5 3953; 6 2497; \n",
      "----------------------------------73----------------------------------\n",
      "1 1819; 2 7573; 3 7179; 4 6818; 5 3542; 6 2196; \n",
      "----------------------------------74----------------------------------\n",
      "1 1892; 2 8235; 3 7754; 4 7426; 5 3957; 6 2577; \n",
      "----------------------------------75----------------------------------\n",
      "1 1876; 2 8380; 3 7741; 4 7483; 5 3886; 6 2428; \n",
      "----------------------------------76----------------------------------\n",
      "1 1945; 2 8556; 3 8214; 4 8131; 5 4232; 6 2881; \n",
      "----------------------------------77----------------------------------\n",
      "1 1937; 2 8269; 3 8032; 4 7734; 5 4104; 6 2665; \n",
      "----------------------------------78----------------------------------\n",
      "1 1883; 2 8087; 3 7423; 4 7006; 5 3834; 6 2484; \n",
      "----------------------------------79----------------------------------\n",
      "1 1945; 2 8370; 3 7975; 4 7674; 5 3954; 6 2640; \n",
      "----------------------------------80----------------------------------\n",
      "1 1856; 2 7965; 3 7382; 4 7230; 5 3816; 6 2491; \n",
      "----------------------------------81----------------------------------\n",
      "1 1991; 2 9465; 3 8998; 4 8871; 5 4562; 6 3098; \n",
      "----------------------------------82----------------------------------\n",
      "1 1896; 2 8781; 3 8220; 4 7868; 5 4141; 6 2690; \n",
      "----------------------------------83----------------------------------\n",
      "1 1884; 2 8501; 3 7777; 4 7679; 5 4006; 6 2643; \n",
      "----------------------------------84----------------------------------\n",
      "1 1925; 2 8475; 3 7799; 4 7455; 5 3968; 6 2607; \n",
      "----------------------------------85----------------------------------\n",
      "1 1858; 2 7698; 3 7087; 4 6836; 5 3739; 6 2349; \n",
      "----------------------------------86----------------------------------\n",
      "1 1952; 2 8592; 3 8100; 4 7904; 5 4044; 6 2590; \n",
      "----------------------------------87----------------------------------\n",
      "1 1862; 2 7971; 3 7470; 4 7385; 5 3677; 6 2486; \n",
      "----------------------------------88----------------------------------\n",
      "1 1986; 2 8774; 3 8289; 4 8083; 5 4295; 6 2857; \n",
      "----------------------------------89----------------------------------\n",
      "1 1892; 2 8350; 3 7794; 4 7604; 5 3930; 6 2604; \n",
      "----------------------------------90----------------------------------\n",
      "1 1923; 2 8171; 3 7768; 4 7426; 5 3936; 6 2518; \n",
      "----------------------------------91----------------------------------\n",
      "1 1865; 2 8008; 3 7295; 4 7057; 5 3727; 6 2349; \n",
      "----------------------------------92----------------------------------\n",
      "1 1887; 2 8330; 3 7751; 4 7532; 5 3885; 6 2568; \n",
      "----------------------------------93----------------------------------\n",
      "1 1960; 2 8989; 3 8245; 4 8037; 5 4152; 6 2709; \n",
      "----------------------------------94----------------------------------\n",
      "1 1860; 2 8711; 3 7786; 4 7536; 5 3789; 6 2503; \n",
      "----------------------------------95----------------------------------\n",
      "1 1822; 2 8090; 3 7427; 4 7044; 5 3643; 6 2340; \n",
      "----------------------------------96----------------------------------\n",
      "1 1896; 2 8007; 3 7524; 4 7089; 5 3616; 6 2404; \n",
      "----------------------------------97----------------------------------\n",
      "1 1791; 2 7723; 3 6852; 4 6437; 5 3294; 6 2092; \n",
      "----------------------------------98----------------------------------\n",
      "1 1920; 2 7964; 3 7444; 4 7048; 5 3739; 6 2355; \n",
      "----------------------------------99----------------------------------\n",
      "1 2009; 2 9014; 3 8476; 4 8047; 5 4089; 6 2589; \n",
      "----------------------------------100----------------------------------\n",
      "1 1891; 2 8667; 3 8066; 4 7738; 5 3973; 6 2616; \n",
      "----------------------------------101----------------------------------\n",
      "1 1914; 2 8108; 3 7690; 4 7152; 5 3933; 6 2500; \n",
      "----------------------------------102----------------------------------\n",
      "1 1933; 2 8304; 3 7610; 4 7159; 5 3823; 6 2473; \n",
      "----------------------------------103----------------------------------\n",
      "1 1923; 2 8226; 3 7641; 4 7207; 5 3602; 6 2387; \n",
      "----------------------------------104----------------------------------\n",
      "1 1918; 2 8367; 3 7452; 4 7422; 5 3845; 6 2447; \n",
      "----------------------------------105----------------------------------\n",
      "1 2106; 2 9545; 3 8839; 4 8691; 5 4538; 6 2817; \n",
      "----------------------------------106----------------------------------\n",
      "1 2005; 2 9102; 3 8226; 4 7669; 5 4014; 6 2546; \n",
      "----------------------------------107----------------------------------\n",
      "1 2022; 2 9084; 3 8259; 4 7901; 5 4023; 6 2611; \n",
      "----------------------------------108----------------------------------\n",
      "1 2067; 2 9019; 3 8350; 4 7872; 5 3982; 6 2554; \n",
      "----------------------------------109----------------------------------\n",
      "1 2040; 2 9145; 3 8204; 4 7669; 5 3886; 6 2582; \n",
      "----------------------------------110----------------------------------\n",
      "1 2152; 2 10334; 3 9443; 4 8882; 5 4651; 6 2984; \n",
      "----------------------------------111----------------------------------\n",
      "1 2040; 2 8960; 3 8324; 4 7884; 5 4073; 6 2703; \n",
      "----------------------------------112----------------------------------\n",
      "1 2058; 2 9497; 3 8918; 4 8380; 5 4456; 6 2831; \n",
      "----------------------------------113----------------------------------\n",
      "1 2099; 2 9535; 3 8935; 4 8657; 5 4572; 6 2879; \n",
      "----------------------------------114----------------------------------\n",
      "1 2012; 2 8960; 3 8392; 4 7986; 5 4273; 6 2770; \n",
      "----------------------------------115----------------------------------\n",
      "1 1957; 2 8532; 3 7958; 4 7539; 5 3893; 6 2456; \n",
      "----------------------------------116----------------------------------\n",
      "1 2046; 2 9244; 3 8686; 4 8247; 5 4478; 6 2747; \n",
      "----------------------------------117----------------------------------\n",
      "1 2016; 2 9151; 3 8516; 4 8146; 5 4316; 6 2746; \n",
      "----------------------------------118----------------------------------\n",
      "1 2036; 2 8975; 3 8117; 4 7728; 5 4125; 6 2594; \n",
      "----------------------------------119----------------------------------\n",
      "1 2043; 2 9095; 3 8410; 4 7938; 5 4179; 6 2773; \n",
      "----------------------------------120----------------------------------\n",
      "1 2029; 2 9098; 3 8596; 4 8348; 5 4256; 6 2800; \n",
      "----------------------------------121----------------------------------\n",
      "1 2094; 2 9095; 3 8619; 4 8160; 5 4271; 6 2825; \n",
      "----------------------------------122----------------------------------\n",
      "1 2151; 2 10590; 3 9893; 4 9736; 5 5118; 6 3334; \n",
      "----------------------------------123----------------------------------\n",
      "1 2100; 2 9408; 3 9051; 4 8559; 5 4568; 6 2860; \n",
      "----------------------------------124----------------------------------\n",
      "1 2106; 2 9898; 3 9344; 4 9015; 5 4820; 6 3097; \n",
      "----------------------------------125----------------------------------\n",
      "1 2118; 2 10056; 3 9486; 4 9020; 5 4769; 6 3213; \n",
      "----------------------------------126----------------------------------\n",
      "1 2067; 2 9105; 3 8725; 4 8373; 5 4351; 6 2848; \n",
      "----------------------------------127----------------------------------\n",
      "1 2126; 2 9724; 3 9351; 4 8819; 5 4657; 6 2983; \n",
      "----------------------------------128----------------------------------\n",
      "1 2098; 2 10228; 3 9776; 4 9435; 5 4951; 6 3147; \n",
      "----------------------------------129----------------------------------\n",
      "1 2207; 2 10998; 3 10408; 4 9984; 5 5385; 6 3383; \n",
      "----------------------------------130----------------------------------\n",
      "1 2230; 2 11156; 3 10482; 4 10045; 5 5303; 6 3390; \n",
      "----------------------------------131----------------------------------\n",
      "1 2156; 2 10618; 3 9975; 4 9513; 5 5043; 6 3108; \n",
      "----------------------------------132----------------------------------\n",
      "1 2207; 2 10411; 3 9866; 4 9307; 5 4824; 6 3124; \n",
      "----------------------------------133----------------------------------\n",
      "1 2120; 2 10191; 3 9550; 4 9047; 5 4803; 6 3013; \n",
      "----------------------------------134----------------------------------\n",
      "1 2280; 2 11342; 3 10823; 4 10230; 5 5480; 6 3425; \n",
      "----------------------------------135----------------------------------\n",
      "1 2201; 2 10629; 3 9992; 4 9636; 5 4812; 6 3038; \n",
      "----------------------------------136----------------------------------\n",
      "1 2256; 2 11524; 3 10944; 4 10289; 5 5414; 6 3465; \n",
      "----------------------------------137----------------------------------\n",
      "1 2192; 2 10413; 3 9908; 4 9395; 5 4895; 6 3140; \n",
      "----------------------------------138----------------------------------\n",
      "1 2196; 2 10650; 3 10134; 4 9469; 5 5012; 6 3137; \n",
      "----------------------------------139----------------------------------\n",
      "1 2187; 2 10649; 3 10330; 4 9740; 5 5113; 6 3198; \n",
      "----------------------------------140----------------------------------\n",
      "1 2257; 2 10948; 3 10406; 4 9970; 5 5325; 6 3284; \n",
      "----------------------------------141----------------------------------\n",
      "1 2262; 2 11074; 3 10634; 4 10105; 5 5377; 6 3319; \n",
      "----------------------------------142----------------------------------\n",
      "1 2315; 2 11771; 3 11243; 4 10612; 5 5504; 6 3366; \n",
      "----------------------------------143----------------------------------\n",
      "1 2192; 2 11050; 3 10194; 4 9718; 5 4968; 6 3156; \n",
      "----------------------------------144----------------------------------\n",
      "1 2264; 2 11217; 3 10700; 4 10069; 5 5328; 6 3300; \n",
      "----------------------------------145----------------------------------\n",
      "1 2211; 2 10496; 3 9969; 4 9211; 5 4837; 6 2953; \n",
      "----------------------------------146----------------------------------\n",
      "1 2251; 2 11479; 3 10724; 4 10319; 5 5440; 6 3519; \n",
      "----------------------------------147----------------------------------\n",
      "1 2179; 2 11189; 3 10304; 4 9673; 5 5123; 6 3278; \n",
      "----------------------------------148----------------------------------\n",
      "1 2316; 2 11414; 3 11136; 4 10493; 5 5578; 6 3627; \n",
      "----------------------------------149----------------------------------\n",
      "1 2179; 2 10429; 3 10210; 4 9631; 5 5167; 6 3311; \n",
      "----------------------------------150----------------------------------\n",
      "1 2194; 2 10602; 3 9867; 4 9370; 5 4916; 6 3035; \n",
      "----------------------------------151----------------------------------\n",
      "1 2226; 2 11120; 3 10432; 4 9978; 5 5137; 6 3312; \n",
      "----------------------------------152----------------------------------\n",
      "1 2200; 2 11179; 3 10466; 4 9887; 5 5229; 6 3246; \n",
      "----------------------------------153----------------------------------\n",
      "1 2320; 2 11829; 3 11204; 4 10626; 5 5607; 6 3562; \n",
      "----------------------------------154----------------------------------\n",
      "1 2319; 2 11385; 3 10958; 4 10224; 5 5398; 6 3365; \n",
      "----------------------------------155----------------------------------\n",
      "1 2237; 2 11252; 3 10714; 4 10100; 5 5282; 6 3308; \n",
      "----------------------------------156----------------------------------\n",
      "1 2235; 2 11298; 3 10831; 4 10049; 5 5336; 6 3271; \n",
      "----------------------------------157----------------------------------\n",
      "1 2217; 2 10897; 3 10222; 4 9456; 5 4936; 6 3089; \n",
      "----------------------------------158----------------------------------\n",
      "1 2261; 2 11499; 3 10738; 4 10263; 5 5555; 6 3377; \n",
      "----------------------------------159----------------------------------\n",
      "1 2269; 2 11665; 3 10834; 4 10223; 5 5360; 6 3340; \n",
      "----------------------------------160----------------------------------\n",
      "1 2288; 2 11358; 3 10609; 4 9996; 5 5110; 6 3357; \n",
      "----------------------------------161----------------------------------\n",
      "1 2246; 2 11319; 3 10630; 4 10126; 5 5215; 6 3241; \n",
      "----------------------------------162----------------------------------\n",
      "1 2202; 2 11108; 3 10704; 4 10017; 5 5213; 6 3211; \n",
      "----------------------------------163----------------------------------\n",
      "1 2267; 2 11039; 3 10512; 4 9808; 5 5035; 6 3248; \n",
      "----------------------------------164----------------------------------\n",
      "1 2261; 2 11739; 3 10997; 4 10678; 5 5604; 6 3509; \n",
      "----------------------------------165----------------------------------\n",
      "1 2327; 2 11953; 3 11433; 4 10818; 5 5728; 6 3497; \n",
      "----------------------------------166----------------------------------\n",
      "1 2305; 2 12025; 3 11674; 4 10570; 5 5506; 6 4636; \n",
      "----------------------------------167----------------------------------\n",
      "1 2295; 2 12048; 3 11370; 4 10743; 5 5596; 6 3580; \n",
      "----------------------------------168----------------------------------\n",
      "1 2273; 2 11008; 3 10314; 4 9700; 5 5040; 6 3159; \n",
      "----------------------------------169----------------------------------\n",
      "1 2283; 2 10551; 3 10371; 4 9468; 5 4920; 6 3155; \n",
      "----------------------------------170----------------------------------\n",
      "1 2253; 2 10901; 3 10477; 4 9914; 5 5215; 6 3374; \n",
      "----------------------------------171----------------------------------\n",
      "1 2275; 2 11151; 3 10376; 4 9833; 5 5258; 6 3327; \n",
      "----------------------------------172----------------------------------\n",
      "1 2329; 2 11370; 3 10890; 4 10439; 5 5199; 6 3355; \n",
      "----------------------------------173----------------------------------\n",
      "1 2231; 2 10861; 3 10323; 4 9696; 5 5117; 6 3190; \n",
      "----------------------------------174----------------------------------\n",
      "1 2253; 2 10711; 3 10172; 4 9574; 5 5166; 6 3167; \n",
      "----------------------------------175----------------------------------\n",
      "1 2243; 2 10767; 3 10048; 4 9407; 5 4965; 6 3085; \n",
      "----------------------------------176----------------------------------\n",
      "1 2253; 2 11754; 3 11144; 4 10593; 5 5640; 6 3569; \n",
      "----------------------------------177----------------------------------\n",
      "1 2346; 2 11629; 3 11090; 4 10364; 5 5476; 6 3487; \n",
      "----------------------------------178----------------------------------\n",
      "1 2332; 2 11630; 3 11181; 4 10590; 5 5525; 6 3638; \n",
      "----------------------------------179----------------------------------\n",
      "1 2391; 2 11565; 3 11251; 4 10634; 5 5514; 6 3582; \n",
      "----------------------------------180----------------------------------\n",
      "1 2243; 2 10453; 3 10117; 4 9726; 5 5082; 6 3355; \n",
      "----------------------------------181----------------------------------\n",
      "1 2209; 2 10642; 3 10144; 4 9403; 5 4993; 6 3088; \n",
      "----------------------------------182----------------------------------\n",
      "1 2354; 2 11990; 3 11387; 4 10782; 5 5642; 6 3588; \n",
      "----------------------------------183----------------------------------\n",
      "1 2252; 2 10937; 3 10427; 4 9751; 5 5279; 6 3306; \n",
      "----------------------------------184----------------------------------\n",
      "1 2313; 2 11622; 3 11187; 4 10481; 5 5576; 6 3456; \n",
      "----------------------------------185----------------------------------\n",
      "1 2262; 2 11206; 3 10937; 4 10300; 5 5445; 6 3493; \n",
      "----------------------------------186----------------------------------\n",
      "1 2221; 2 10444; 3 10070; 4 9405; 5 4878; 6 3191; \n",
      "----------------------------------187----------------------------------\n",
      "1 2200; 2 10647; 3 10058; 4 9373; 5 4810; 6 3060; \n",
      "----------------------------------188----------------------------------\n",
      "1 2366; 2 12490; 3 11899; 4 11469; 5 5987; 6 3810; \n",
      "----------------------------------189----------------------------------\n",
      "1 2356; 2 11957; 3 11102; 4 10619; 5 5592; 6 3689; \n",
      "----------------------------------190----------------------------------\n",
      "1 2344; 2 11603; 3 11218; 4 10514; 5 5533; 6 3467; \n",
      "----------------------------------191----------------------------------\n",
      "1 2309; 2 11467; 3 10856; 4 10292; 5 5376; 6 3418; \n",
      "----------------------------------192----------------------------------\n",
      "1 2257; 2 10830; 3 10109; 4 9441; 5 5049; 6 3294; \n",
      "----------------------------------193----------------------------------\n",
      "1 2254; 2 10418; 3 9838; 4 9292; 5 4918; 6 3038; \n",
      "----------------------------------194----------------------------------\n",
      "1 2313; 2 11580; 3 11015; 4 10230; 5 5403; 6 3558; \n",
      "----------------------------------195----------------------------------\n",
      "1 2297; 2 10989; 3 10515; 4 9747; 5 5171; 6 3285; \n",
      "----------------------------------196----------------------------------\n",
      "1 2266; 2 11262; 3 10634; 4 10020; 5 5370; 6 3357; \n",
      "----------------------------------197----------------------------------\n",
      "1 2314; 2 11428; 3 10985; 4 10018; 5 5364; 6 3334; \n",
      "----------------------------------198----------------------------------\n",
      "1 2280; 2 10455; 3 10044; 4 9348; 5 4891; 6 3121; \n",
      "----------------------------------199----------------------------------\n",
      "1 2235; 2 11008; 3 10496; 4 9775; 5 5012; 6 3152; \n",
      "----------------------------------200----------------------------------\n",
      "1 2238; 2 11007; 3 10222; 4 9754; 5 5130; 6 3199; \n",
      "----------------------------------201----------------------------------\n",
      "1 2266; 2 11193; 3 10531; 4 9883; 5 5087; 6 3259; \n",
      "----------------------------------202----------------------------------\n",
      "1 2356; 2 11904; 3 11244; 4 10589; 5 5477; 6 4631; \n",
      "----------------------------------203----------------------------------\n",
      "1 2269; 2 10827; 3 10103; 4 9757; 5 4947; 6 3160; \n",
      "----------------------------------204----------------------------------\n",
      "1 2274; 2 10719; 3 10050; 4 9347; 5 4722; 6 3022; \n",
      "----------------------------------205----------------------------------\n",
      "1 2251; 2 10953; 3 10314; 4 9554; 5 4980; 6 3159; \n",
      "----------------------------------206----------------------------------\n",
      "1 2264; 2 10929; 3 10724; 4 9932; 5 5119; 6 3321; \n",
      "----------------------------------207----------------------------------\n",
      "1 2228; 2 10531; 3 10118; 4 9657; 5 4860; 6 3090; \n",
      "----------------------------------208----------------------------------\n",
      "1 2304; 2 11457; 3 10778; 4 10134; 5 5432; 6 3305; \n",
      "----------------------------------209----------------------------------\n",
      "1 2244; 2 10570; 3 9991; 4 9455; 5 4840; 6 3079; \n",
      "----------------------------------210----------------------------------\n",
      "1 2196; 2 10591; 3 10119; 4 9474; 5 4885; 6 3056; \n",
      "----------------------------------211----------------------------------\n",
      "1 2249; 2 10787; 3 10444; 4 9748; 5 5278; 6 3199; \n",
      "----------------------------------212----------------------------------\n",
      "1 2263; 2 11165; 3 10482; 4 9775; 5 5163; 6 3198; \n",
      "----------------------------------213----------------------------------\n",
      "1 2340; 2 11842; 3 11195; 4 10407; 5 5334; 6 3362; \n",
      "----------------------------------214----------------------------------\n",
      "1 2265; 2 11189; 3 10481; 4 9907; 5 5045; 6 3025; \n",
      "----------------------------------215----------------------------------\n",
      "1 2242; 2 10826; 3 10257; 4 9570; 5 4903; 6 3054; \n",
      "----------------------------------216----------------------------------\n",
      "1 2301; 2 11004; 3 10614; 4 9856; 5 5141; 6 3184; \n",
      "----------------------------------217----------------------------------\n",
      "1 2178; 2 10385; 3 9864; 4 9114; 5 4687; 6 2936; \n",
      "----------------------------------218----------------------------------\n",
      "1 2298; 2 11087; 3 10600; 4 10190; 5 5247; 6 3197; \n",
      "----------------------------------219----------------------------------\n",
      "1 2260; 2 10965; 3 10479; 4 9743; 5 5103; 6 3239; \n",
      "----------------------------------220----------------------------------\n",
      "1 2322; 2 11671; 3 11044; 4 10420; 5 5431; 6 3373; \n",
      "----------------------------------221----------------------------------\n",
      "1 2264; 2 10915; 3 10184; 4 9436; 5 5099; 6 3072; \n",
      "----------------------------------222----------------------------------\n",
      "1 2315; 2 11249; 3 10804; 4 9905; 5 5245; 6 3375; \n",
      "----------------------------------223----------------------------------\n",
      "1 2235; 2 10934; 3 10519; 4 9690; 5 4922; 6 3161; \n",
      "----------------------------------224----------------------------------\n",
      "1 2303; 2 11760; 3 10989; 4 10254; 5 5386; 6 3354; \n",
      "----------------------------------225----------------------------------\n",
      "1 2322; 2 11735; 3 11078; 4 10434; 5 5365; 6 3385; \n",
      "----------------------------------226----------------------------------\n",
      "1 2307; 2 11297; 3 10638; 4 9915; 5 5005; 6 3248; \n",
      "----------------------------------227----------------------------------\n",
      "1 2249; 2 10972; 3 10353; 4 9603; 5 5096; 6 3200; \n",
      "----------------------------------228----------------------------------\n",
      "1 2289; 2 11190; 3 10650; 4 10037; 5 5088; 6 3224; \n",
      "----------------------------------229----------------------------------\n",
      "1 2256; 2 10524; 3 10056; 4 9494; 5 4920; 6 3139; \n",
      "----------------------------------230----------------------------------\n",
      "1 2307; 2 11404; 3 11090; 4 10127; 5 5341; 6 3496; \n",
      "----------------------------------231----------------------------------\n",
      "1 2327; 2 11399; 3 10700; 4 10039; 5 5229; 6 3312; \n",
      "----------------------------------232----------------------------------\n",
      "1 2220; 2 11126; 3 10641; 4 10119; 5 5168; 6 3269; \n",
      "----------------------------------233----------------------------------\n",
      "1 2286; 2 10917; 3 10376; 4 9777; 5 5247; 6 3230; \n",
      "----------------------------------234----------------------------------\n",
      "1 2255; 2 10873; 3 10438; 4 9814; 5 5296; 6 3285; \n",
      "----------------------------------235----------------------------------\n",
      "1 2232; 2 10755; 3 10088; 4 9612; 5 5196; 6 3256; \n",
      "----------------------------------236----------------------------------\n",
      "1 2279; 2 11292; 3 10788; 4 10130; 5 5362; 6 3375; \n",
      "----------------------------------237----------------------------------\n",
      "1 2325; 2 11662; 3 11246; 4 10596; 5 5521; 6 3514; \n",
      "----------------------------------238----------------------------------\n",
      "1 2276; 2 11497; 3 10993; 4 10207; 5 5273; 6 3288; \n",
      "----------------------------------239----------------------------------\n",
      "1 2278; 2 11107; 3 10633; 4 10020; 5 5264; 6 3458; \n",
      "----------------------------------240----------------------------------\n",
      "1 2267; 2 10932; 3 10095; 4 9579; 5 5050; 6 3103; \n",
      "----------------------------------241----------------------------------\n",
      "1 2218; 2 10545; 3 9891; 4 9338; 5 4783; 6 3119; \n",
      "----------------------------------242----------------------------------\n",
      "1 2337; 2 11663; 3 10995; 4 10193; 5 5301; 6 3352; \n",
      "----------------------------------243----------------------------------\n",
      "1 2315; 2 11013; 3 10608; 4 9791; 5 5240; 6 3347; \n",
      "----------------------------------244----------------------------------\n",
      "1 2249; 2 11049; 3 10590; 4 10006; 5 5263; 6 3392; \n",
      "----------------------------------245----------------------------------\n",
      "1 1922; 2 7594; 3 7157; 4 6512; 5 3502; 6 2218; \n"
     ]
    }
   ],
   "source": [
    "for month in range(246):\n",
    "    print(f\"----------------------------------{month}----------------------------------\")\n",
    "    for length in range(1,7):\n",
    "        print(length,len(date2person6tokens_dict[month][length]), end = \"; \")\n",
    "    print()"
   ]
  },
  {
   "cell_type": "markdown",
   "id": "ffdbf454",
   "metadata": {
    "hidden": true
   },
   "source": [
    "## Temporal Signals"
   ]
  },
  {
   "cell_type": "code",
   "execution_count": 8,
   "id": "87e5dd41",
   "metadata": {
    "hidden": true
   },
   "outputs": [
    {
     "name": "stderr",
     "output_type": "stream",
     "text": [
      "The pre-trained model you are loading is a cased model but you have not set `do_lower_case` to False. We are setting `do_lower_case=False` for you but you may want to check this behavior.\n"
     ]
    }
   ],
   "source": [
    "import pickle\n",
    "from pytorch_pretrained_bert import BertTokenizer, BasicTokenizer\n",
    "tokenizer = BertTokenizer.from_pretrained('bert-base-cased')\n",
    "basic_tokenizer = BasicTokenizer(do_lower_case=False)\n",
    "\n",
    "temporal_signals1 = [\"before\"]\n",
    "temporal_signals2 = [\"after\", \"following\"]\n",
    "temporal_signals3 = [\"during\", \"while\", \"when\", \"until\", \"in\", \"at\", \"on\"]\n",
    "\n",
    "Entire_TempSignal_Index = []\n",
    "TempSignal_Index = [[], [], []]\n",
    "for t_i, tokens_texts in enumerate([temporal_signals1, temporal_signals2, temporal_signals3]):\n",
    "    for tokens_text in tokens_texts:\n",
    "        tokenized_text = tokenizer.tokenize(tokens_text)\n",
    "        indexed_tokens1 = tokenizer.convert_tokens_to_ids(tokenized_text)\n",
    "        tokenized_text = tokenizer.tokenize(tokens_text.capitalize())\n",
    "        indexed_tokens2 = tokenizer.convert_tokens_to_ids(tokenized_text)\n",
    "        TempSignal_Index[t_i].extend(indexed_tokens1)\n",
    "        TempSignal_Index[t_i].extend(indexed_tokens2)\n",
    "        Entire_TempSignal_Index.extend(indexed_tokens1)\n",
    "        Entire_TempSignal_Index.extend(indexed_tokens2)\n",
    "        \n",
    "tempsignal2others = dict()\n",
    "for temp_i, temp_sig in enumerate(TempSignal_Index):\n",
    "    key = '_'.join(str(x) for x in temp_sig)\n",
    "    values = []\n",
    "    for temp_i2, temp_sig2 in enumerate(TempSignal_Index):\n",
    "        if temp_i==temp_i2:\n",
    "            continue\n",
    "        values.append(temp_sig2)\n",
    "    tempsignal2others[key] = values"
   ]
  },
  {
   "cell_type": "code",
   "execution_count": 12,
   "id": "5335e976",
   "metadata": {
    "hidden": true
   },
   "outputs": [],
   "source": [
    "save_file = f\"./0_Corpus/0_ExtendMethod_Data/4_Additional_Required_Data/3_tempsignal_infor.pickle\"\n",
    "pickle.dump([Entire_TempSignal_Index, tempsignal2others], open(save_file, \"wb\"))"
   ]
  },
  {
   "cell_type": "code",
   "execution_count": null,
   "id": "54c2b6f1",
   "metadata": {
    "hidden": true
   },
   "outputs": [],
   "source": []
  },
  {
   "cell_type": "markdown",
   "id": "8ec64de6",
   "metadata": {
    "heading_collapsed": true,
    "hidden": true
   },
   "source": [
    "### Temporal Signals Statistics"
   ]
  },
  {
   "cell_type": "code",
   "execution_count": 1,
   "id": "b3541928",
   "metadata": {
    "hidden": true
   },
   "outputs": [],
   "source": [
    "import re\n",
    "import pickle\n",
    "import pandas as pd\n",
    "import pyarrow.feather as feather"
   ]
  },
  {
   "cell_type": "code",
   "execution_count": 23,
   "id": "0db90597",
   "metadata": {
    "hidden": true
   },
   "outputs": [],
   "source": [
    "temporal_signals1 = [\"before \"]\n",
    "temporal_signals2 = [\"after \", \"following \"]\n",
    "temporal_signals3 = [\"during \", \"while \", \"when \", \"until \", \"in \", \"at \", \"on \"]\n",
    "\n",
    "for r in temporal_signals1.copy():\n",
    "    temporal_signals1.append(r.capitalize())\n",
    "for r in temporal_signals2.copy():\n",
    "    temporal_signals2.append(r.capitalize())\n",
    "for r in temporal_signals3.copy():\n",
    "    temporal_signals3.append(r.capitalize())"
   ]
  },
  {
   "cell_type": "code",
   "execution_count": null,
   "id": "d4dff854",
   "metadata": {
    "hidden": true
   },
   "outputs": [
    {
     "name": "stdout",
     "output_type": "stream",
     "text": [
      "0 0 0 0; 10000 230 1062 31791; 20000 424 2118 63796; 30000 612 3129 95192; 40000 818 4206 126883; 50000 1034 5231 158360; 60000 1236 6308 190144; 70000 1446 7386 221653; 80000 1650 8380 252537; 90000 1821 9465 283936; 100000 2056 10535 315732; 110000 2266 11603 346663; 120000 2477 12685 377677; 130000 2684 13692 409566; 140000 2898 14707 441158; 150000 3108 15743 472156; 160000 3322 16771 503554; 0 0 0 0; 10000 204 1097 31689; 20000 416 2080 63500; 30000 654 3131 95302; 40000 842 4226 126846; 50000 1049 5288 158389; 60000 1273 6349 189895; 70000 1473 7389 221490; 80000 1683 8429 252731; 90000 1915 9445 284300; 100000 2125 10544 316363; 110000 2328 11563 347279; 120000 2535 12641 378694; 130000 2744 13690 410295; 140000 2969 14732 441982; 150000 3192 15735 473454; 160000 3388 16776 504936; 0 0 0 0; 10000 219 1006 30797; 20000 438 2051 62599; 30000 656 3086 93894; 40000 862 4158 125668; 50000 1095 5299 157752; 60000 1300 6340 190275; 70000 1515 7365 221707; 80000 1709 8413 253623; 90000 1924 9497 285314; 100000 2152 10536 317054; 110000 2357 11617 347744; 120000 2575 12664 379950; 130000 2782 13733 411478; 140000 2986 14753 442535; 150000 3181 15866 473914; 160000 3416 16928 505441; 0 0 0 0; 10000 211 1025 31988; 20000 430 2032 63215; 30000 681 3096 93977; 40000 885 4188 125666; 50000 1061 5261 157794; 60000 1288 6326 189901; 70000 1527 7441 221030; 80000 1749 8551 253008; 90000 1988 9636 284934; 100000 2204 10678 315700; 110000 2411 11718 347941; 120000 2627 12766 379923; 130000 2824 13735 410986; 140000 3021 14753 442017; 150000 3240 15805 473680; 160000 3471 16936 505840; "
     ]
    }
   ],
   "source": [
    "for i in range(10):\n",
    "    nyt_file = f\"./0_Corpus/0_NYT_Data_Extraction/1_NYT_FilteredData_Files/{i}_NYT_filtered_data.feather\"\n",
    "    nyt_data = feather.read_feather(nyt_file)\n",
    "    entinforANDsentidx_file = f\"0_Corpus/0_NYT_Data_Extraction/2_EntInfor_AND_SentIdxInfor_Files/{i}_final_filtered_entinforANDsentidx.feather\"\n",
    "    entinforANDsentidx_data = feather.read_feather(entinforANDsentidx_file)\n",
    "    entinforANDsentidx_data = entinforANDsentidx_data.rename(columns={\"ID\":\"file_id\"})\n",
    "    title_entinforANDsentidx_file = f\"0_Corpus/0_NYT_Data_Extraction/3_EntInfor_AND_SentIdxInfor-Titles_Files/{i}_final_filtered_entinforANDsentidx-title.feather\"\n",
    "    title_entinforANDsentidx_data = feather.read_feather(title_entinforANDsentidx_file)\n",
    "    title_entinforANDsentidx_data = title_entinforANDsentidx_data.rename(columns={\"ID\":\"file_id\", \"ent_infor\":\"t_ent_infor\", \"sent_infor\":\"t_sent_infor\", \"token_num\":\"t_token_num\"})\n",
    "    combined_pd = pd.merge(nyt_data, entinforANDsentidx_data, on=\"file_id\")\n",
    "    combined_pd = pd.merge(combined_pd, title_entinforANDsentidx_data, on=\"file_id\")\n",
    "    c1,c2,c3 = 0,0,0\n",
    "    for row_idx, row in combined_pd.iterrows():\n",
    "        if row_idx%10000==0:\n",
    "            print(row_idx,c1,c2,c3,end=\"; \")\n",
    "        docid = row[\"file_id\"]\n",
    "        main_ent_infor = row[\"ent_infor\"]\n",
    "        title_ent_infor = row[\"t_ent_infor\"]\n",
    "        body_text = row[\"body_text\"]\n",
    "        \n",
    "        for ent_infor in main_ent_infor:\n",
    "            text, beg_pos, end_pos, type_tag = ent_infor.split(\"_X_\")\n",
    "            if type_tag!=\"DATE\":\n",
    "                continue\n",
    "            beg_pos = int(beg_pos)\n",
    "            end_pos = int(end_pos)\n",
    "\n",
    "            checked_t = body_text[beg_pos-10:end_pos]\n",
    "\n",
    "            added_tag = False\n",
    "            for temp2 in temporal_signals2:\n",
    "                if temp2 in checked_t:\n",
    "                    c2+=1\n",
    "                    added_tag = True\n",
    "                    break\n",
    "            if added_tag:\n",
    "                continue\n",
    "            for temp3 in temporal_signals3:\n",
    "                if temp3 in checked_t:\n",
    "                    c3+=1\n",
    "                    added_tag = True\n",
    "                    break\n",
    "            if added_tag:\n",
    "                continue\n",
    "            for temp1 in temporal_signals1:\n",
    "                if temp1 in checked_t:\n",
    "                    c1+=1\n",
    "                    added_tag = True\n",
    "                    break\n",
    "                    \n",
    "        "
   ]
  },
  {
   "cell_type": "code",
   "execution_count": null,
   "id": "e1e025df",
   "metadata": {
    "hidden": true
   },
   "outputs": [],
   "source": []
  },
  {
   "cell_type": "code",
   "execution_count": null,
   "id": "38e26ea7",
   "metadata": {
    "hidden": true
   },
   "outputs": [],
   "source": []
  },
  {
   "cell_type": "markdown",
   "id": "14de05c8",
   "metadata": {},
   "source": [
    "# BPE Tokenization (Title&Content&ID, Sent-per-line,ID is appened as last sentence)"
   ]
  },
  {
   "cell_type": "code",
   "execution_count": 1,
   "id": "80a805cf",
   "metadata": {
    "ExecuteTime": {
     "end_time": "2023-12-29T06:13:02.602332Z",
     "start_time": "2023-12-29T06:12:41.390306Z"
    }
   },
   "outputs": [],
   "source": [
    "import os\n",
    "import sys\n",
    "import glob\n",
    "import pickle\n",
    "import iso8601\n",
    "import pandas  as pd\n",
    "from tqdm import tqdm\n",
    "import multiprocess\n",
    "import pyarrow.feather as feather\n",
    "from pytorch_pretrained_bert import BertTokenizer, BasicTokenizer\n",
    "from babel.dates import format_date, format_datetime, format_time\n",
    "multi_process_num = multiprocess.cpu_count()"
   ]
  },
  {
   "cell_type": "code",
   "execution_count": 2,
   "id": "0eaeea44",
   "metadata": {
    "ExecuteTime": {
     "end_time": "2023-12-29T06:13:37.677815Z",
     "start_time": "2023-12-29T06:13:37.430823Z"
    },
    "code_folding": []
   },
   "outputs": [],
   "source": [
    "def tokenize_fun(cased_lines, tokenizer, basic_tokenizer, worker_id, batch_offset):\n",
    "    sents = []\n",
    "    for cased_line in cased_lines:\n",
    "        tokens = basic_tokenizer.tokenize(cased_line)\n",
    "        split_tokens = []\n",
    "        for token in tokens:\n",
    "            subtokens = tokenizer.tokenize(token)\n",
    "            split_tokens += subtokens\n",
    "        if len(split_tokens)==0 and cased_line!=\"\":\n",
    "            continue\n",
    "        sents.append(split_tokens)\n",
    "    return worker_id, sents, batch_offset\n",
    "\n",
    "def get_chunks(fpaths_list, chunk_size, skip_only_title_tag = False):\n",
    "    nyt_file, focused_data_file = fpaths_list\n",
    "    nyt_data = feather.read_feather(nyt_file)\n",
    "    focused_data_dict = pickle.load(open(focused_data_file,'rb'))\n",
    "    assert len(nyt_data)==len(focused_data_dict)\n",
    "    \n",
    "    chunk = []\n",
    "    doc_chunk_num = 0\n",
    "    doc_chunk_size = chunk_size\n",
    "    \n",
    "    for row_idx, row in nyt_data.iterrows():\n",
    "        docid = row[\"file_id\"]\n",
    "        main_focused_temp_data, title_focused_temp_data = focused_data_dict[docid]\n",
    "        sent_text_list = [title_focused_temp_data[0]]\n",
    "        for sent_infor in main_focused_temp_data:\n",
    "            sent_text_list.append(sent_infor[0])\n",
    "        if len(sent_text_list)==1 and skip_only_title_tag:\n",
    "            continue\n",
    "        ###append docid as the last sentence###\n",
    "        sent_text_list.append(docid)\n",
    "        for line in sent_text_list:\n",
    "            line_text = line.strip()\n",
    "            if len(line_text)!=0:\n",
    "                chunk.append(line_text)\n",
    "        chunk.append(\"\")\n",
    "        doc_chunk_num+=1\n",
    "        if doc_chunk_num==doc_chunk_size:\n",
    "            yield chunk\n",
    "            doc_chunk_num=0\n",
    "            chunk = []\n",
    "    yield chunk\n",
    "    \n",
    "def process(fpaths_list, chunk_method, output_file, skip_only_title_tag=False, bert_model_type='bert-base-cased', total=100000000, chunk_size=10000, workers=12):\n",
    "    results = list(range(workers))\n",
    "    tokenizer = BertTokenizer.from_pretrained(bert_model_type)\n",
    "    basic_tokenizer = BasicTokenizer(do_lower_case=False)\n",
    "    fout = open(output_file, 'w', encoding='utf-8')\n",
    "    offset = 0\n",
    "    def merge_fn(result):\n",
    "        worker_id, tokenized, batch_offset = result\n",
    "        results[worker_id] = tokenized, batch_offset\n",
    "    for cased_lines in tqdm(get_chunks(fpaths_list, chunk_size, skip_only_title_tag), total=total//chunk_size):\n",
    "        pool = multiprocess.Pool()\n",
    "        size = (len(cased_lines) // workers) if len(cased_lines) % workers == 0 else ( 1 + (len(cased_lines) // workers))\n",
    "        for i in range(workers):\n",
    "            start = i * size\n",
    "            pool.apply_async(tokenize_fun, args = (cased_lines[start:start+size], tokenizer, basic_tokenizer, i, start), callback = merge_fn)\n",
    "        pool.close()\n",
    "        pool.join()\n",
    "        for lines, batch_offset in results:\n",
    "            for line in lines:\n",
    "                fout.write(' '.join(line) + '\\n')\n",
    "        offset += len(cased_lines)"
   ]
  },
  {
   "cell_type": "code",
   "execution_count": 3,
   "id": "14e031b1",
   "metadata": {
    "ExecuteTime": {
     "start_time": "2023-12-29T06:13:42.980Z"
    },
    "scrolled": true
   },
   "outputs": [
    {
     "name": "stderr",
     "output_type": "stream",
     "text": [
      "The pre-trained model you are loading is a cased model but you have not set `do_lower_case` to False. We are setting `do_lower_case=False` for you but you may want to check this behavior.\n"
     ]
    },
    {
     "name": "stdout",
     "output_type": "stream",
     "text": [
      "Start processing 0th data.\n"
     ]
    },
    {
     "name": "stderr",
     "output_type": "stream",
     "text": [
      "  0%|                                       | 17/10000 [01:29<14:36:10,  5.27s/it]\n",
      "The pre-trained model you are loading is a cased model but you have not set `do_lower_case` to False. We are setting `do_lower_case=False` for you but you may want to check this behavior.\n"
     ]
    },
    {
     "name": "stdout",
     "output_type": "stream",
     "text": [
      "-----------------------------------------------------------------\n",
      "Start processing 1th data.\n"
     ]
    },
    {
     "name": "stderr",
     "output_type": "stream",
     "text": [
      "  0%|                                       | 17/10000 [01:25<14:01:21,  5.06s/it]\n",
      "The pre-trained model you are loading is a cased model but you have not set `do_lower_case` to False. We are setting `do_lower_case=False` for you but you may want to check this behavior.\n"
     ]
    },
    {
     "name": "stdout",
     "output_type": "stream",
     "text": [
      "-----------------------------------------------------------------\n",
      "Start processing 2th data.\n"
     ]
    },
    {
     "name": "stderr",
     "output_type": "stream",
     "text": [
      "  0%|                                       | 17/10000 [01:41<16:30:28,  5.95s/it]\n",
      "The pre-trained model you are loading is a cased model but you have not set `do_lower_case` to False. We are setting `do_lower_case=False` for you but you may want to check this behavior.\n"
     ]
    },
    {
     "name": "stdout",
     "output_type": "stream",
     "text": [
      "-----------------------------------------------------------------\n",
      "Start processing 3th data.\n"
     ]
    },
    {
     "name": "stderr",
     "output_type": "stream",
     "text": [
      "  0%|                                       | 17/10000 [01:24<13:44:45,  4.96s/it]\n",
      "The pre-trained model you are loading is a cased model but you have not set `do_lower_case` to False. We are setting `do_lower_case=False` for you but you may want to check this behavior.\n"
     ]
    },
    {
     "name": "stdout",
     "output_type": "stream",
     "text": [
      "-----------------------------------------------------------------\n",
      "Start processing 4th data.\n"
     ]
    },
    {
     "name": "stderr",
     "output_type": "stream",
     "text": [
      "  0%|                                       | 17/10000 [01:32<15:06:39,  5.45s/it]\n",
      "The pre-trained model you are loading is a cased model but you have not set `do_lower_case` to False. We are setting `do_lower_case=False` for you but you may want to check this behavior.\n"
     ]
    },
    {
     "name": "stdout",
     "output_type": "stream",
     "text": [
      "-----------------------------------------------------------------\n",
      "Start processing 5th data.\n"
     ]
    },
    {
     "name": "stderr",
     "output_type": "stream",
     "text": [
      "  0%|                                       | 17/10000 [02:09<21:02:50,  7.59s/it]\n",
      "The pre-trained model you are loading is a cased model but you have not set `do_lower_case` to False. We are setting `do_lower_case=False` for you but you may want to check this behavior.\n"
     ]
    },
    {
     "name": "stdout",
     "output_type": "stream",
     "text": [
      "-----------------------------------------------------------------\n",
      "Start processing 6th data.\n"
     ]
    },
    {
     "name": "stderr",
     "output_type": "stream",
     "text": [
      "  0%|                                       | 17/10000 [02:47<27:23:55,  9.88s/it]\n",
      "The pre-trained model you are loading is a cased model but you have not set `do_lower_case` to False. We are setting `do_lower_case=False` for you but you may want to check this behavior.\n"
     ]
    },
    {
     "name": "stdout",
     "output_type": "stream",
     "text": [
      "-----------------------------------------------------------------\n",
      "Start processing 7th data.\n"
     ]
    },
    {
     "name": "stderr",
     "output_type": "stream",
     "text": [
      "  0%|                                       | 17/10000 [01:45<17:12:21,  6.20s/it]\n",
      "The pre-trained model you are loading is a cased model but you have not set `do_lower_case` to False. We are setting `do_lower_case=False` for you but you may want to check this behavior.\n"
     ]
    },
    {
     "name": "stdout",
     "output_type": "stream",
     "text": [
      "-----------------------------------------------------------------\n",
      "Start processing 8th data.\n"
     ]
    },
    {
     "name": "stderr",
     "output_type": "stream",
     "text": [
      "  0%|                                       | 17/10000 [01:59<19:31:51,  7.04s/it]\n",
      "The pre-trained model you are loading is a cased model but you have not set `do_lower_case` to False. We are setting `do_lower_case=False` for you but you may want to check this behavior.\n"
     ]
    },
    {
     "name": "stdout",
     "output_type": "stream",
     "text": [
      "-----------------------------------------------------------------\n",
      "Start processing 9th data.\n"
     ]
    },
    {
     "name": "stderr",
     "output_type": "stream",
     "text": [
      "  0%|                                       | 17/10000 [01:38<16:06:06,  5.81s/it]"
     ]
    },
    {
     "name": "stdout",
     "output_type": "stream",
     "text": [
      "-----------------------------------------------------------------\n"
     ]
    },
    {
     "name": "stderr",
     "output_type": "stream",
     "text": [
      "\n"
     ]
    }
   ],
   "source": [
    "# skip_only_title_tag = False\n",
    "for file_idx in range(10):\n",
    "    nyt_file = f\"./0_Corpus/0_NYT_Data_Extraction/1_NYT_FilteredData_Files/{file_idx}_NYT_filtered_data.feather\"\n",
    "    focused_data_file = f\"./0_Corpus/0_ExtendMethod_Data/0_Focused_Information_Data/{file_idx}_focused_tempinfor_data.pickle\"\n",
    "    fpaths = [nyt_file, focused_data_file]\n",
    "    save_corpus_file = f\"0_Corpus/0_ExtendMethod_Data/1_BPE_Tokenization/{file_idx}_corpus.txt\"\n",
    "    if os.path.exists(save_corpus_file):\n",
    "        print(f\"Have finished {file_idx}th processing.\")\n",
    "        print(\"-----------------------------------------------------------------\")\n",
    "        continue\n",
    "    print(f\"Start processing {file_idx}th data.\")\n",
    "    process(fpaths, get_chunks, save_corpus_file, skip_only_title_tag = False, workers = multi_process_num)\n",
    "    print(\"-----------------------------------------------------------------\")"
   ]
  },
  {
   "cell_type": "code",
   "execution_count": 3,
   "id": "d79e7817",
   "metadata": {},
   "outputs": [
    {
     "name": "stderr",
     "output_type": "stream",
     "text": [
      "The pre-trained model you are loading is a cased model but you have not set `do_lower_case` to False. We are setting `do_lower_case=False` for you but you may want to check this behavior.\n"
     ]
    },
    {
     "name": "stdout",
     "output_type": "stream",
     "text": [
      "Start processing 0th data.\n"
     ]
    },
    {
     "name": "stderr",
     "output_type": "stream",
     "text": [
      "  0%|                                                          | 15/10000 [01:24<15:37:10,  5.63s/it]\n",
      "The pre-trained model you are loading is a cased model but you have not set `do_lower_case` to False. We are setting `do_lower_case=False` for you but you may want to check this behavior.\n"
     ]
    },
    {
     "name": "stdout",
     "output_type": "stream",
     "text": [
      "-----------------------------------------------------------------\n",
      "Start processing 1th data.\n"
     ]
    },
    {
     "name": "stderr",
     "output_type": "stream",
     "text": [
      "  0%|                                                          | 15/10000 [01:47<19:52:29,  7.17s/it]\n",
      "The pre-trained model you are loading is a cased model but you have not set `do_lower_case` to False. We are setting `do_lower_case=False` for you but you may want to check this behavior.\n"
     ]
    },
    {
     "name": "stdout",
     "output_type": "stream",
     "text": [
      "-----------------------------------------------------------------\n",
      "Start processing 2th data.\n"
     ]
    },
    {
     "name": "stderr",
     "output_type": "stream",
     "text": [
      "  0%|                                                          | 15/10000 [02:03<22:55:35,  8.27s/it]\n",
      "The pre-trained model you are loading is a cased model but you have not set `do_lower_case` to False. We are setting `do_lower_case=False` for you but you may want to check this behavior.\n"
     ]
    },
    {
     "name": "stdout",
     "output_type": "stream",
     "text": [
      "-----------------------------------------------------------------\n",
      "Start processing 3th data.\n"
     ]
    },
    {
     "name": "stderr",
     "output_type": "stream",
     "text": [
      "  0%|                                                          | 15/10000 [01:22<15:15:19,  5.50s/it]\n",
      "The pre-trained model you are loading is a cased model but you have not set `do_lower_case` to False. We are setting `do_lower_case=False` for you but you may want to check this behavior.\n"
     ]
    },
    {
     "name": "stdout",
     "output_type": "stream",
     "text": [
      "-----------------------------------------------------------------\n",
      "Start processing 4th data.\n"
     ]
    },
    {
     "name": "stderr",
     "output_type": "stream",
     "text": [
      "  0%|                                                          | 15/10000 [01:21<15:05:51,  5.44s/it]\n",
      "The pre-trained model you are loading is a cased model but you have not set `do_lower_case` to False. We are setting `do_lower_case=False` for you but you may want to check this behavior.\n"
     ]
    },
    {
     "name": "stdout",
     "output_type": "stream",
     "text": [
      "-----------------------------------------------------------------\n",
      "Start processing 5th data.\n"
     ]
    },
    {
     "name": "stderr",
     "output_type": "stream",
     "text": [
      "  0%|                                                          | 15/10000 [01:43<19:06:19,  6.89s/it]\n",
      "The pre-trained model you are loading is a cased model but you have not set `do_lower_case` to False. We are setting `do_lower_case=False` for you but you may want to check this behavior.\n"
     ]
    },
    {
     "name": "stdout",
     "output_type": "stream",
     "text": [
      "-----------------------------------------------------------------\n",
      "Start processing 6th data.\n"
     ]
    },
    {
     "name": "stderr",
     "output_type": "stream",
     "text": [
      "  0%|                                                          | 15/10000 [01:43<19:07:24,  6.89s/it]\n",
      "The pre-trained model you are loading is a cased model but you have not set `do_lower_case` to False. We are setting `do_lower_case=False` for you but you may want to check this behavior.\n"
     ]
    },
    {
     "name": "stdout",
     "output_type": "stream",
     "text": [
      "-----------------------------------------------------------------\n",
      "Start processing 7th data.\n"
     ]
    },
    {
     "name": "stderr",
     "output_type": "stream",
     "text": [
      "  0%|                                                          | 15/10000 [01:45<19:31:56,  7.04s/it]\n",
      "The pre-trained model you are loading is a cased model but you have not set `do_lower_case` to False. We are setting `do_lower_case=False` for you but you may want to check this behavior.\n"
     ]
    },
    {
     "name": "stdout",
     "output_type": "stream",
     "text": [
      "-----------------------------------------------------------------\n",
      "Start processing 8th data.\n"
     ]
    },
    {
     "name": "stderr",
     "output_type": "stream",
     "text": [
      "  0%|                                                          | 15/10000 [01:22<15:10:29,  5.47s/it]\n",
      "The pre-trained model you are loading is a cased model but you have not set `do_lower_case` to False. We are setting `do_lower_case=False` for you but you may want to check this behavior.\n"
     ]
    },
    {
     "name": "stdout",
     "output_type": "stream",
     "text": [
      "-----------------------------------------------------------------\n",
      "Start processing 9th data.\n"
     ]
    },
    {
     "name": "stderr",
     "output_type": "stream",
     "text": [
      "  0%|                                                          | 15/10000 [01:38<18:15:04,  6.58s/it]"
     ]
    },
    {
     "name": "stdout",
     "output_type": "stream",
     "text": [
      "-----------------------------------------------------------------\n"
     ]
    },
    {
     "name": "stderr",
     "output_type": "stream",
     "text": [
      "\n"
     ]
    }
   ],
   "source": [
    "# skip_only_title_tag = True\n",
    "for file_idx in range(10):\n",
    "    nyt_file = f\"./0_Corpus/0_NYT_Data_Extraction/1_NYT_FilteredData_Files/{file_idx}_NYT_filtered_data.feather\"\n",
    "    focused_data_file = f\"./0_Corpus/0_ExtendMethod_Data/0_Focused_Information_Data/{file_idx}_focused_tempinfor_data.pickle\"\n",
    "    fpaths = [nyt_file, focused_data_file]\n",
    "    save_corpus_file = f\"0_Corpus/0_ExtendMethod_Data/1_BPE_Tokenization_OnlyTitleSkip/{file_idx}_corpus.txt\"\n",
    "    if os.path.exists(save_corpus_file):\n",
    "        print(f\"Have finished {file_idx}th processing.\")\n",
    "        print(\"-----------------------------------------------------------------\")\n",
    "        continue\n",
    "    print(f\"Start processing {file_idx}th data.\")\n",
    "    process(fpaths, get_chunks, save_corpus_file, skip_only_title_tag = True, workers = multi_process_num)\n",
    "    print(\"-----------------------------------------------------------------\")"
   ]
  },
  {
   "cell_type": "markdown",
   "id": "0be49a7c",
   "metadata": {
    "heading_collapsed": true
   },
   "source": [
    "## Tokenize Pretraining Corpus (Train-Valid-Test Split)"
   ]
  },
  {
   "cell_type": "code",
   "execution_count": 1,
   "id": "8023a272",
   "metadata": {
    "hidden": true
   },
   "outputs": [
    {
     "name": "stdout",
     "output_type": "stream",
     "text": [
      "9 1\n"
     ]
    }
   ],
   "source": [
    "ranked_corpus_files_paths = []\n",
    "for file_idx in range(10):\n",
    "    save_corpus_file = f\"0_Corpus/0_ExtendMethod_Data/1_BPE_Tokenization/{file_idx}_corpus.txt\"\n",
    "    ranked_corpus_files_paths.append(save_corpus_file)\n",
    "    \n",
    "train_corpus_files_list = ranked_corpus_files_paths[:9]\n",
    "valtest_corpus_files_list = ranked_corpus_files_paths[9:]\n",
    "print(len(train_corpus_files_list), len(valtest_corpus_files_list))"
   ]
  },
  {
   "cell_type": "code",
   "execution_count": 2,
   "id": "e593fbb6",
   "metadata": {
    "hidden": true
   },
   "outputs": [
    {
     "name": "stdout",
     "output_type": "stream",
     "text": [
      "0_Corpus/0_ExtendMethod_Data/1_BPE_Tokenization/0_corpus.txt: 165234\n",
      "0_Corpus/0_ExtendMethod_Data/1_BPE_Tokenization/1_corpus.txt: 165234\n",
      "0_Corpus/0_ExtendMethod_Data/1_BPE_Tokenization/2_corpus.txt: 165234\n",
      "0_Corpus/0_ExtendMethod_Data/1_BPE_Tokenization/3_corpus.txt: 165234\n",
      "0_Corpus/0_ExtendMethod_Data/1_BPE_Tokenization/4_corpus.txt: 165234\n",
      "0_Corpus/0_ExtendMethod_Data/1_BPE_Tokenization/5_corpus.txt: 165234\n",
      "0_Corpus/0_ExtendMethod_Data/1_BPE_Tokenization/6_corpus.txt: 165234\n",
      "0_Corpus/0_ExtendMethod_Data/1_BPE_Tokenization/7_corpus.txt: 165234\n",
      "0_Corpus/0_ExtendMethod_Data/1_BPE_Tokenization/8_corpus.txt: 165234\n"
     ]
    }
   ],
   "source": [
    "train_corpus_fout = \"0_Corpus/0_ExtendMethod_Data/2_BPE_Tokenization_Merged/0_corpus_train.txt\"\n",
    "fout = open(train_corpus_fout, 'w', encoding='utf-8')\n",
    "for train_file_paths in train_corpus_files_list:\n",
    "    doc_num = 0\n",
    "    print(train_file_paths,end=\": \")\n",
    "    corpus_file = open(train_file_paths)\n",
    "    for line in corpus_file:\n",
    "        if line==\"\\n\":\n",
    "            doc_num+=1\n",
    "        fout.write(line)\n",
    "    print(doc_num)"
   ]
  },
  {
   "cell_type": "code",
   "execution_count": 3,
   "id": "7c0020fc",
   "metadata": {
    "hidden": true
   },
   "outputs": [
    {
     "name": "stdout",
     "output_type": "stream",
     "text": [
      "total_doc_num: 165241\n",
      "val_doc_num: 82620\n",
      "test_doc_num: 82621\n"
     ]
    }
   ],
   "source": [
    "val_corpus_fout = \"0_Corpus/0_ExtendMethod_Data/2_BPE_Tokenization_Merged/0_corpus_val.txt\"\n",
    "test_corpus_fout = \"0_Corpus/0_ExtendMethod_Data/2_BPE_Tokenization_Merged/0_corpus_test.txt\"\n",
    "val_fout = open(val_corpus_fout, 'w', encoding='utf-8')\n",
    "test_fout = open(test_corpus_fout, 'w', encoding='utf-8')\n",
    "\n",
    "total_doc_num = 0\n",
    "for valtest_file_paths in valtest_corpus_files_list:\n",
    "    with open(valtest_file_paths) as corpus_file:    \n",
    "        for line in corpus_file:\n",
    "            if line==\"\\n\":\n",
    "                total_doc_num+=1\n",
    "print(\"total_doc_num:\", total_doc_num)\n",
    "\n",
    "split_doc_num = 0\n",
    "for valtest_file_paths in valtest_corpus_files_list:\n",
    "    val_doc_num,test_doc_num = 0,0\n",
    "    with open(valtest_file_paths) as corpus_file:    \n",
    "        for line in corpus_file:\n",
    "            if line==\"\\n\":\n",
    "                split_doc_num+=1\n",
    "            if split_doc_num<=total_doc_num//2:\n",
    "                val_fout.write(line)\n",
    "                if line==\"\\n\":\n",
    "                    val_doc_num+=1\n",
    "            else:\n",
    "                test_fout.write(line)\n",
    "                if line==\"\\n\":\n",
    "                    test_doc_num+=1\n",
    "    print(\"val_doc_num:\", val_doc_num)\n",
    "    print(\"test_doc_num:\", test_doc_num)"
   ]
  },
  {
   "cell_type": "markdown",
   "id": "fdec42b4",
   "metadata": {
    "heading_collapsed": true
   },
   "source": [
    "## Tokenize Pretraining Corpus (Train-Valid-Test Split); For skip_only_title_tag = True"
   ]
  },
  {
   "cell_type": "code",
   "execution_count": 1,
   "id": "6330c79b",
   "metadata": {
    "hidden": true
   },
   "outputs": [
    {
     "name": "stdout",
     "output_type": "stream",
     "text": [
      "9 1\n",
      "0_Corpus/0_ExtendMethod_Data/1_BPE_Tokenization_OnlyTitleSkip/0_corpus.txt: 143698\n",
      "0_Corpus/0_ExtendMethod_Data/1_BPE_Tokenization_OnlyTitleSkip/1_corpus.txt: 143754\n",
      "0_Corpus/0_ExtendMethod_Data/1_BPE_Tokenization_OnlyTitleSkip/2_corpus.txt: 143654\n",
      "0_Corpus/0_ExtendMethod_Data/1_BPE_Tokenization_OnlyTitleSkip/3_corpus.txt: 143768\n",
      "0_Corpus/0_ExtendMethod_Data/1_BPE_Tokenization_OnlyTitleSkip/4_corpus.txt: 143634\n",
      "0_Corpus/0_ExtendMethod_Data/1_BPE_Tokenization_OnlyTitleSkip/5_corpus.txt: 143688\n",
      "0_Corpus/0_ExtendMethod_Data/1_BPE_Tokenization_OnlyTitleSkip/6_corpus.txt: 143607\n",
      "0_Corpus/0_ExtendMethod_Data/1_BPE_Tokenization_OnlyTitleSkip/7_corpus.txt: 143772\n",
      "0_Corpus/0_ExtendMethod_Data/1_BPE_Tokenization_OnlyTitleSkip/8_corpus.txt: 143449\n"
     ]
    }
   ],
   "source": [
    "ranked_corpus_files_paths = []\n",
    "for file_idx in range(10):\n",
    "    save_corpus_file = f\"0_Corpus/0_ExtendMethod_Data/1_BPE_Tokenization_OnlyTitleSkip/{file_idx}_corpus.txt\"\n",
    "    ranked_corpus_files_paths.append(save_corpus_file)\n",
    "    \n",
    "train_corpus_files_list = ranked_corpus_files_paths[:9]\n",
    "valtest_corpus_files_list = ranked_corpus_files_paths[9:]\n",
    "print(len(train_corpus_files_list), len(valtest_corpus_files_list))\n",
    "\n",
    "train_corpus_fout = \"0_Corpus/0_ExtendMethod_Data/2_BPE_Tokenization_Merged_OnlyTitleSkip/0_corpus_train.txt\"\n",
    "fout = open(train_corpus_fout, 'w', encoding='utf-8')\n",
    "for train_file_paths in train_corpus_files_list:\n",
    "    doc_num = 0\n",
    "    print(train_file_paths,end=\": \")\n",
    "    corpus_file = open(train_file_paths)\n",
    "    for line in corpus_file:\n",
    "        if line==\"\\n\":\n",
    "            doc_num+=1\n",
    "        fout.write(line)\n",
    "    print(doc_num)"
   ]
  },
  {
   "cell_type": "code",
   "execution_count": 2,
   "id": "e48bee68",
   "metadata": {
    "hidden": true
   },
   "outputs": [
    {
     "name": "stdout",
     "output_type": "stream",
     "text": [
      "total_doc_num: 143581\n",
      "val_doc_num: 71790\n",
      "test_doc_num: 71791\n"
     ]
    }
   ],
   "source": [
    "val_corpus_fout = \"0_Corpus/0_ExtendMethod_Data/2_BPE_Tokenization_Merged_OnlyTitleSkip/0_corpus_val.txt\"\n",
    "test_corpus_fout = \"0_Corpus/0_ExtendMethod_Data/2_BPE_Tokenization_Merged_OnlyTitleSkip/0_corpus_test.txt\"\n",
    "val_fout = open(val_corpus_fout, 'w', encoding='utf-8')\n",
    "test_fout = open(test_corpus_fout, 'w', encoding='utf-8')\n",
    "\n",
    "total_doc_num = 0\n",
    "for valtest_file_paths in valtest_corpus_files_list:\n",
    "    with open(valtest_file_paths) as corpus_file:    \n",
    "        for line in corpus_file:\n",
    "            if line==\"\\n\":\n",
    "                total_doc_num+=1\n",
    "print(\"total_doc_num:\", total_doc_num)\n",
    "\n",
    "split_doc_num = 0\n",
    "for valtest_file_paths in valtest_corpus_files_list:\n",
    "    val_doc_num,test_doc_num = 0,0\n",
    "    with open(valtest_file_paths) as corpus_file:    \n",
    "        for line in corpus_file:\n",
    "            if line==\"\\n\":\n",
    "                split_doc_num+=1\n",
    "            if split_doc_num<=total_doc_num//2:\n",
    "                val_fout.write(line)\n",
    "                if line==\"\\n\":\n",
    "                    val_doc_num+=1\n",
    "            else:\n",
    "                test_fout.write(line)\n",
    "                if line==\"\\n\":\n",
    "                    test_doc_num+=1\n",
    "    print(\"val_doc_num:\", val_doc_num)\n",
    "    print(\"test_doc_num:\", test_doc_num)"
   ]
  },
  {
   "cell_type": "markdown",
   "id": "91a9e10b",
   "metadata": {
    "heading_collapsed": true
   },
   "source": [
    "# Saving Training Data (Preprocess Using Command on Tokenize-Pretraining-Corpus)"
   ]
  },
  {
   "cell_type": "raw",
   "id": "6f0b5659",
   "metadata": {
    "hidden": true
   },
   "source": [
    "python preprocess.py --trainpref 0_Corpus/0_ExtendMethod_Data/2_BPE_Tokenization_Merged/0_corpus_train.txt --validpref 0_Corpus/0_ExtendMethod_Data/2_BPE_Tokenization_Merged/0_corpus_val.txt --testpref 0_Corpus/0_ExtendMethod_Data/2_BPE_Tokenization_Merged/0_corpus_test.txt --destdir 0_Corpus/0_ExtendMethod_Data/3_Preprocessed_Data --only-source --srcdict dict.txt --padding-factor 1 --workers 8"
   ]
  },
  {
   "cell_type": "raw",
   "id": "3645977a",
   "metadata": {
    "hidden": true
   },
   "source": [
    "python preprocess.py --trainpref 0_Corpus/0_ExtendMethod_Data/2_BPE_Tokenization_Merged_OnlyTitleSkip/0_corpus_train.txt --validpref 0_Corpus/0_ExtendMethod_Data/2_BPE_Tokenization_Merged_OnlyTitleSkip/0_corpus_val.txt --testpref 0_Corpus/0_ExtendMethod_Data/2_BPE_Tokenization_Merged_OnlyTitleSkip/0_corpus_test.txt --destdir 0_Corpus/0_ExtendMethod_Data/3_Preprocessed_Data_OnlyTitleSkip --only-source --srcdict dict.txt --padding-factor 1 --workers 8"
   ]
  }
 ],
 "metadata": {
  "hide_input": false,
  "kernelspec": {
   "display_name": "Python 3 (ipykernel)",
   "language": "python",
   "name": "python3"
  },
  "language_info": {
   "codemirror_mode": {
    "name": "ipython",
    "version": 3
   },
   "file_extension": ".py",
   "mimetype": "text/x-python",
   "name": "python",
   "nbconvert_exporter": "python",
   "pygments_lexer": "ipython3",
   "version": "3.9.6"
  },
  "toc": {
   "base_numbering": 1,
   "nav_menu": {},
   "number_sections": true,
   "sideBar": true,
   "skip_h1_title": false,
   "title_cell": "Table of Contents",
   "title_sidebar": "Contents",
   "toc_cell": false,
   "toc_position": {},
   "toc_section_display": true,
   "toc_window_display": false
  },
  "varInspector": {
   "cols": {
    "lenName": 16,
    "lenType": 16,
    "lenVar": 40
   },
   "kernels_config": {
    "python": {
     "delete_cmd_postfix": "",
     "delete_cmd_prefix": "del ",
     "library": "var_list.py",
     "varRefreshCmd": "print(var_dic_list())"
    },
    "r": {
     "delete_cmd_postfix": ") ",
     "delete_cmd_prefix": "rm(",
     "library": "var_list.r",
     "varRefreshCmd": "cat(var_dic_list()) "
    }
   },
   "types_to_exclude": [
    "module",
    "function",
    "builtin_function_or_method",
    "instance",
    "_Feature"
   ],
   "window_display": false
  }
 },
 "nbformat": 4,
 "nbformat_minor": 5
}
